{
 "cells": [
  {
   "cell_type": "markdown",
   "id": "8d20ceff",
   "metadata": {},
   "source": [
    "# if_statements\n"
   ]
  },
  {
   "cell_type": "markdown",
   "id": "fcc97e9d",
   "metadata": {},
   "source": [
    "#if else "
   ]
  },
  {
   "cell_type": "code",
   "execution_count": 3,
   "id": "4b788af4",
   "metadata": {},
   "outputs": [
    {
     "name": "stdout",
     "output_type": "stream",
     "text": [
      "Sry, you are to young\n"
     ]
    }
   ],
   "source": [
    "age = int(input(\"Enter your age: \"))\n",
    "age_limit = 15\n",
    "\n",
    "if age < age_limit:\n",
    "    print(\"Sry, you are to young\")\n",
    "else:\n",
    "    print(\"Enjoy the movie\")"
   ]
  },
  {
   "cell_type": "code",
   "execution_count": 4,
   "id": "2b355b95",
   "metadata": {},
   "outputs": [
    {
     "name": "stdout",
     "output_type": "stream",
     "text": [
      "You get to ride the roller coster\n"
     ]
    }
   ],
   "source": [
    "age = 15\n",
    "height = 150\n",
    "\n",
    "if age > 11 and 130 < height < 210:\n",
    "    print(\"You get to ride the roller coster\")\n",
    "else:\n",
    "    print(\"Come back when you fufill the requierments\")"
   ]
  },
  {
   "cell_type": "markdown",
   "id": "e0c410a1",
   "metadata": {},
   "source": [
    "#Modul operator"
   ]
  },
  {
   "cell_type": "code",
   "execution_count": 2,
   "id": "9112996d",
   "metadata": {},
   "outputs": [
    {
     "name": "stdout",
     "output_type": "stream",
     "text": [
      "Even number\n"
     ]
    }
   ],
   "source": [
    "number = int(input(\"Skriv in ett nummer\"))\n",
    "if number % 2 == 0:\n",
    "    print(\"Even number\")\n",
    "else:\n",
    "    print(\"odd number\")"
   ]
  },
  {
   "cell_type": "markdown",
   "id": "1e97fac7",
   "metadata": {},
   "source": [
    "#if-elif-else"
   ]
  },
  {
   "cell_type": "code",
   "execution_count": 3,
   "id": "5524d63f",
   "metadata": {},
   "outputs": [
    {
     "name": "stdout",
     "output_type": "stream",
     "text": [
      "give patient 1000mg\n"
     ]
    }
   ],
   "source": [
    "weight = float(input(\"What is your weight in kg? \"))\n",
    "if weight < 20:\n",
    "    print(\"give patient 500mg\")\n",
    "elif weight < 40:\n",
    "    print(\"give patient 750mg \")\n",
    "else:\n",
    "    print(\"give patient 1000mg\")"
   ]
  },
  {
   "cell_type": "markdown",
   "id": "3d496d8a",
   "metadata": {},
   "source": [
    "\"Nestled if-statements"
   ]
  },
  {
   "cell_type": "code",
   "execution_count": 6,
   "id": "3294f390",
   "metadata": {},
   "outputs": [
    {
     "name": "stdout",
     "output_type": "stream",
     "text": [
      "25 is divisible by 5\n",
      "25 is an odd number\n"
     ]
    }
   ],
   "source": [
    "number = int(input(\"Give an interger: \")) #-100\n",
    "\n",
    "#if a number is divisible by 5, check if it also is even\n",
    "if number % 5 == 0:\n",
    "    print(f\"{number} is divisible by 5\")\n",
    "if number % 2 == 0:\n",
    "    print(f\"{number} is an even number\")\n",
    "else:\n",
    "    print(f\"{number} is an odd number\")"
   ]
  },
  {
   "cell_type": "markdown",
   "id": "b47204fe",
   "metadata": {},
   "source": [
    "#One line if-statements"
   ]
  },
  {
   "cell_type": "code",
   "execution_count": 16,
   "id": "f1ada9e8",
   "metadata": {},
   "outputs": [
    {
     "name": "stdout",
     "output_type": "stream",
     "text": [
      "Hi ms Lisa\n",
      "is_child=False\n"
     ]
    }
   ],
   "source": [
    "name = input(\"What is your name? \")\n",
    "gender = input(\"Enter your gender (male/female/nonbinary)\")\n",
    "age = 33\n",
    "\n",
    "#one line if\n",
    "if \"o\" in name: print(f\"{name.toLower} contains the letter 'o' \")\n",
    "\n",
    "#one line if-else\n",
    "print(f\"Hi mr {name}\") if gender == \"male\" else print(f\"Hi ms {name}\")\n",
    "\n",
    "# one line if-else variable assignment\n",
    "is_child = True if age < 18 else False\n",
    "print(f\"{is_child=}\")"
   ]
  }
 ],
 "metadata": {
  "kernelspec": {
   "display_name": "Python_DE25_Lisa_Yllander",
   "language": "python",
   "name": "python3"
  },
  "language_info": {
   "codemirror_mode": {
    "name": "ipython",
    "version": 3
   },
   "file_extension": ".py",
   "mimetype": "text/x-python",
   "name": "python",
   "nbconvert_exporter": "python",
   "pygments_lexer": "ipython3",
   "version": "3.12.10"
  }
 },
 "nbformat": 4,
 "nbformat_minor": 5
}
