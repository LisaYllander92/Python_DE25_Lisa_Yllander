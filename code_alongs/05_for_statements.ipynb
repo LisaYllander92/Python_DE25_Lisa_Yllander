{
 "cells": [
  {
   "cell_type": "markdown",
   "id": "016898ec",
   "metadata": {},
   "source": [
    "# range()  function\n",
    "for loop is used for repeating code by iterating over a sequence such as a list"
   ]
  },
  {
   "cell_type": "code",
   "execution_count": null,
   "id": "96d3823d",
   "metadata": {},
   "outputs": [
    {
     "name": "stdout",
     "output_type": "stream",
     "text": [
      "0 Hello\n",
      "1 Hello\n",
      "2 Hello\n"
     ]
    }
   ],
   "source": [
    "for i in range(3): #note that coount starts from 0\n",
    "    print(f\"{i} Hello\")"
   ]
  },
  {
   "cell_type": "code",
   "execution_count": 4,
   "id": "e4e9f01d",
   "metadata": {},
   "outputs": [
    {
     "name": "stdout",
     "output_type": "stream",
     "text": [
      "0 1 2 3 4 5 6 7 8 9 "
     ]
    }
   ],
   "source": [
    "#print out new numbers without newlines\n",
    "for i in range(10):\n",
    "    print(i, end=\" \")"
   ]
  },
  {
   "cell_type": "code",
   "execution_count": 13,
   "id": "24aa2f85",
   "metadata": {},
   "outputs": [
    {
     "name": "stdout",
     "output_type": "stream",
     "text": [
      "0+1+2+3+4+5=15\n"
     ]
    }
   ],
   "source": [
    "sum_ = 0\n",
    "#calculate sum from 0-5\n",
    "for i in range(6): \n",
    "    sum_ +=i\n",
    "\n",
    "print(f\"0+1+2+3+4+5={sum_}\")"
   ]
  },
  {
   "cell_type": "code",
   "execution_count": null,
   "id": "8306033b",
   "metadata": {},
   "outputs": [
    {
     "name": "stdout",
     "output_type": "stream",
     "text": [
      "1+3+5+7+9+11+13+15+17+19+21+23+25+27+29+31+33+35+37+39+41+43+45+47+49+51+53+55+57+59+61+63+65+67+69+71+73+75+77+79+81+83+85+87+89+91+93+95+97+99=2500"
     ]
    }
   ],
   "source": [
    "sum_ = 0\n",
    "#calculate sum of all odd numbers between 1-100\n",
    "for i in range(1,100,2):#counts from 1-100, jumps 2 steps\n",
    "    sum_ += i #addition\n",
    "\n",
    "    #nice printing\n",
    "    print(f\"{i}\", end = \"\")\n",
    "    if i != 99:\n",
    "        print(\"+\", end= \"\")\n",
    "\n",
    "    if i == 99:\n",
    "        print(f\"={sum_}\", end= \"\")"
   ]
  },
  {
   "cell_type": "markdown",
   "id": "00d06a9a",
   "metadata": {},
   "source": [
    "# Random module\n",
    "Used to generate random numbers"
   ]
  },
  {
   "cell_type": "code",
   "execution_count": 19,
   "id": "53787a68",
   "metadata": {},
   "outputs": [
    {
     "name": "stdout",
     "output_type": "stream",
     "text": [
      "Number of sixes 1652 in 10000 dice rolls\n",
      "Probability of six 0.1652\n"
     ]
    }
   ],
   "source": [
    "import random as rnd #the random module can now be accessed through rnd\n",
    "\n",
    "num_six = 0\n",
    "dice_rolls = 10000\n",
    "\n",
    "#dice simulation - count number of sixes\n",
    "for i in range(dice_rolls):\n",
    "    dice = rnd.randint(1,6) #generates a random int between 1 and 6\n",
    "    if dice == 6:\n",
    "        num_six += 1\n",
    "\n",
    "print(f\"Number of sixes {num_six} in {dice_rolls} dice rolls\")\n",
    "print(f\"Probability of six {num_six/dice_rolls}\")"
   ]
  },
  {
   "cell_type": "markdown",
   "id": "bbcc75e6",
   "metadata": {},
   "source": [
    "# Loop through list\n",
    "A list is a data type to store several items in a variable. There will be a separate lecture note for lists"
   ]
  },
  {
   "cell_type": "code",
   "execution_count": 21,
   "id": "271cb737",
   "metadata": {},
   "outputs": [
    {
     "name": "stdout",
     "output_type": "stream",
     "text": [
      "I love to eat\n",
      "apple\n",
      "orange\n",
      "grape\n",
      "strawberry\n"
     ]
    }
   ],
   "source": [
    "fruits = [\"apple\", \"orange\", \"grape\", \"strawberry\"]\n",
    "\n",
    "print(\"I love to eat\")\n",
    "for fruit in fruits: #variable fruit will contain a value at a time from fruits\n",
    "    print(fruit)"
   ]
  },
  {
   "cell_type": "markdown",
   "id": "e3d1ef0b",
   "metadata": {},
   "source": [
    "# Pythonic loops"
   ]
  },
  {
   "cell_type": "code",
   "execution_count": null,
   "id": "0591dea4",
   "metadata": {},
   "outputs": [
    {
     "name": "stdout",
     "output_type": "stream",
     "text": [
      "My favorite fruits are: \n",
      "1. apple\n",
      "2. orange\n",
      "3. grape\n",
      "4. strawberry\n"
     ]
    }
   ],
   "source": [
    "print(\"My favorite fruits are: \")\n",
    "#enumerate to get a number for each element in a list that you loop through\n",
    "\n",
    "for i, fruit in enumerate(fruits,1): #gives 1 the starting number\n",
    "    print(f\"{i}. {fruit}\")"
   ]
  },
  {
   "cell_type": "code",
   "execution_count": null,
   "id": "10744d82",
   "metadata": {},
   "outputs": [
    {
     "name": "stdout",
     "output_type": "stream",
     "text": [
      "FRUIT               RECIPE\n",
      "apple               pie\n",
      "orange              juice\n",
      "grape               juice\n",
      "strawberry          cake\n"
     ]
    }
   ],
   "source": [
    "  #loop through several sequences at once with zip\n",
    "fruits = [\"apple\", \"orange\", \"grape\", \"strawberry\"]\n",
    "recipies = [\"pie\", \"juice\", \"juice\", \"cake\"]\n",
    "\n",
    "print(f\"{'FRUIT':<20}RECIPE\") #writes out headlines \"FRUIT\" an \"RECIPE\"\n",
    "#:<20 means that \"FRUIT\" should take at least 20 chars\n",
    "for fruit, recipe in zip(fruits, recipies): #zip(fruits, recipe) pairing the lists to pairs\n",
    "#for fruit, recipe in zip() means that we loop through every pair and divied them in to two variables    \n",
    "    print(f\"{fruit:<20}{recipe}\") #prints out fruits to the left and recipie on the right"
   ]
  },
  {
   "cell_type": "markdown",
   "id": "758fd4d7",
   "metadata": {},
   "source": [
    "# Nested for loop\n",
    "A for loop inside another for loop. The inner loop will run for each iteration of the outer loop"
   ]
  },
  {
   "cell_type": "code",
   "execution_count": 33,
   "id": "37b11809",
   "metadata": {},
   "outputs": [
    {
     "name": "stdout",
     "output_type": "stream",
     "text": [
      "(0,0)(0,1)(0,2)\n",
      "(1,0)(1,1)(1,2)\n",
      "(2,0)(2,1)(2,2)\n"
     ]
    }
   ],
   "source": [
    "#matrix coordinates\n",
    "for x in range(3):\n",
    "    for j in range(3):\n",
    "        print(f\"({x},{j})\", end=\"\")\n",
    "    print()"
   ]
  }
 ],
 "metadata": {
  "kernelspec": {
   "display_name": "Python_DE25_Lisa_Yllander",
   "language": "python",
   "name": "python3"
  },
  "language_info": {
   "codemirror_mode": {
    "name": "ipython",
    "version": 3
   },
   "file_extension": ".py",
   "mimetype": "text/x-python",
   "name": "python",
   "nbconvert_exporter": "python",
   "pygments_lexer": "ipython3",
   "version": "3.12.10"
  }
 },
 "nbformat": 4,
 "nbformat_minor": 5
}
