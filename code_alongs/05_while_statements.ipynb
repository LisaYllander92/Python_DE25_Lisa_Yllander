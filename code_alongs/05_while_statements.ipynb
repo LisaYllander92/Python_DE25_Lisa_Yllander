{
 "cells": [
  {
   "cell_type": "markdown",
   "id": "7bc4a818",
   "metadata": {},
   "source": [
    "# Oil leakage"
   ]
  },
  {
   "cell_type": "code",
   "execution_count": null,
   "id": "59bf76a8",
   "metadata": {},
   "outputs": [
    {
     "name": "stdout",
     "output_type": "stream",
     "text": [
      "Year 0 there were 80000 birds\n",
      "Year 1 there were 40000 birds\n",
      "Year 2 there were 20000 birds\n",
      "Year 3 there were 10000 birds\n",
      "It takes 4 years for the birds ta have 1/10 remaining\n"
     ]
    }
   ],
   "source": [
    "birds = 80000\n",
    "year = 0\n",
    "\n",
    "while birds > 8000:\n",
    "    print(f\"Year {year} there were {birds:.0f} birds\")\n",
    "    birds /= 2 # birds = birds/2\n",
    "    year += 1 # year = year + 1\n",
    "    \n",
    "print(f\"It takes {year} years for the birds ta have 1/10 remaining\")"
   ]
  },
  {
   "cell_type": "markdown",
   "id": "f75634f6",
   "metadata": {},
   "source": [
    "# Assignment operators"
   ]
  },
  {
   "cell_type": "code",
   "execution_count": null,
   "id": "138b660f",
   "metadata": {},
   "outputs": [
    {
     "name": "stdout",
     "output_type": "stream",
     "text": [
      "-9 -7 -5 -3 -1 1 3 5 7 9 "
     ]
    }
   ],
   "source": [
    "#print out all the odd numbers between -10 and 10\n",
    "n = -9\n",
    "while n <= 10:\n",
    "    print(n, end= \" \") #by default print ends with \\n a newline but here we end it with an empty space\n",
    "    n += 2 #stats counting from -9 and jumps 2 steps (odd numbers)"
   ]
  },
  {
   "cell_type": "markdown",
   "id": "a44b479f",
   "metadata": {},
   "source": [
    "# Break statements\n",
    "With the break statement, we can break a while loop when it is running. A common use case for this is when you have an infinite loop."
   ]
  },
  {
   "cell_type": "code",
   "execution_count": 5,
   "id": "387fe955",
   "metadata": {},
   "outputs": [
    {
     "name": "stdout",
     "output_type": "stream",
     "text": [
      "Correct\n",
      "5 is wrong\n",
      "Have a nice day\n"
     ]
    }
   ],
   "source": [
    "import random as rnd #this module has functions for generating random numbers\n",
    "\n",
    "while True:\n",
    "    number1 = rnd.randint(1,10)\n",
    "    number2 = rnd.randint(1,10)\n",
    "\n",
    "    user_answer = int(input(f\"What is {number1}*{number2}? \"))\n",
    "    if user_answer == number1*number2:\n",
    "        print(\"Correct\")\n",
    "    else:\n",
    "            print(f\"{user_answer} is wrong\")\n",
    "\n",
    "    play_again = input(\"Wanna play again (y for yes)\")\n",
    "\n",
    "    if play_again != \"y\":\n",
    "        print(\"Have a nice day\")\n",
    "        break"
   ]
  }
 ],
 "metadata": {
  "kernelspec": {
   "display_name": "Python_DE25_Lisa_Yllander",
   "language": "python",
   "name": "python3"
  },
  "language_info": {
   "codemirror_mode": {
    "name": "ipython",
    "version": 3
   },
   "file_extension": ".py",
   "mimetype": "text/x-python",
   "name": "python",
   "nbconvert_exporter": "python",
   "pygments_lexer": "ipython3",
   "version": "3.12.10"
  }
 },
 "nbformat": 4,
 "nbformat_minor": 5
}
