{
 "cells": [
  {
   "cell_type": "markdown",
   "id": "d835c778",
   "metadata": {},
   "source": [
    "#Input_output_code_alongs"
   ]
  },
  {
   "cell_type": "code",
   "execution_count": 2,
   "id": "7de5f94d",
   "metadata": {},
   "outputs": [
    {
     "name": "stdout",
     "output_type": "stream",
     "text": [
      "hello world\n",
      "My name is Lisa Yllander\n"
     ]
    }
   ],
   "source": [
    "print(\"hello world\")\n",
    "print(\"My name is Lisa Yllander\")"
   ]
  },
  {
   "cell_type": "code",
   "execution_count": 3,
   "id": "b980ac66",
   "metadata": {},
   "outputs": [
    {
     "name": "stdout",
     "output_type": "stream",
     "text": [
      "Lisa is 33 years old\n"
     ]
    }
   ],
   "source": [
    "name = input(\"What is your name? \")\n",
    "age = input(\"What is your age?\")\n",
    "print(f\"{name} is {age} years old\")"
   ]
  },
  {
   "cell_type": "markdown",
   "id": "a8bd4f98",
   "metadata": {},
   "source": [
    "##Force"
   ]
  },
  {
   "cell_type": "code",
   "execution_count": 8,
   "id": "44086937",
   "metadata": {},
   "outputs": [
    {
     "name": "stdout",
     "output_type": "stream",
     "text": [
      "Your force is 324.06N\n",
      "yore force is 324.1N\n"
     ]
    }
   ],
   "source": [
    "gravity = 9.82\n",
    "#convert the string from input() to float\n",
    "mass = float(input(\"Enter your weight in kg \")) #testa utan konverteringen \n",
    "force = mass*gravity\n",
    "\n",
    "#entered 65, note the output has floating point precision error\n",
    "print(f\"Your force is {force}N\")\n",
    "\n",
    "#you can use f-string to format the output to 1 decimal\n",
    "print(f\"yore force is {force:.1f}N\")"
   ]
  },
  {
   "cell_type": "markdown",
   "id": "52e72842",
   "metadata": {},
   "source": [
    "#Circle geometry"
   ]
  },
  {
   "cell_type": "code",
   "execution_count": 9,
   "id": "c200e8b7",
   "metadata": {},
   "outputs": [
    {
     "name": "stdout",
     "output_type": "stream",
     "text": [
      "Circle with radius 5.0 har \n",
      " area: 78.54 a.u. \n",
      " circumference: 31.42 1.u.\n"
     ]
    }
   ],
   "source": [
    "import math #math module has many constants and functions for mathmatics\n",
    "\n",
    "radius = float(input(\"Enter a radius\"))\n",
    "area = math.pi * radius**2 #** is the power operator\n",
    "circumference = 2 * math.pi * radius\n",
    "\n",
    "#\\n gives new lines in prints\n",
    "print(f\"Circle with radius {radius} har \\n area: {area:.2f} a.u. \\n circumference: {circumference:.2f} 1.u.\")"
   ]
  },
  {
   "cell_type": "markdown",
   "id": "09e384f3",
   "metadata": {},
   "source": [
    "#More on data types"
   ]
  },
  {
   "cell_type": "code",
   "execution_count": 12,
   "id": "63e878fb",
   "metadata": {},
   "outputs": [
    {
     "name": "stdout",
     "output_type": "stream",
     "text": [
      "radius = 7\n",
      "geometry = 'circle'\n",
      "is_unit_circle = False\n",
      "screen_inches = 6.4\n"
     ]
    },
    {
     "data": {
      "text/plain": [
       "(int, str, bool, float)"
      ]
     },
     "execution_count": 12,
     "metadata": {},
     "output_type": "execute_result"
    }
   ],
   "source": [
    "#Overwriting previous value of radius\n",
    "radius = 7\n",
    "geometry = \"circle\"\n",
    "is_unit_circle = False\n",
    "screen_inches = 6.4\n",
    "\n",
    "#self-documenting expressions with = operator in f-string\n",
    "print(f\"{radius = }\")\n",
    "print(f\"{geometry = }\")\n",
    "print(f\"{is_unit_circle = }\")\n",
    "print(f\"{screen_inches = }\")\n",
    "\n",
    "#last expression is written out in jupyter notebook\n",
    "type(radius), type(geometry), type(is_unit_circle), type(screen_inches)\n"
   ]
  }
 ],
 "metadata": {
  "kernelspec": {
   "display_name": "Python_DE25_Lisa_Yllander",
   "language": "python",
   "name": "python3"
  },
  "language_info": {
   "codemirror_mode": {
    "name": "ipython",
    "version": 3
   },
   "file_extension": ".py",
   "mimetype": "text/x-python",
   "name": "python",
   "nbconvert_exporter": "python",
   "pygments_lexer": "ipython3",
   "version": "3.12.10"
  }
 },
 "nbformat": 4,
 "nbformat_minor": 5
}
