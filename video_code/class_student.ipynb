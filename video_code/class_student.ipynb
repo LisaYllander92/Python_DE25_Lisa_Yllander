{
 "cells": [
  {
   "cell_type": "code",
   "execution_count": null,
   "id": "42452e52",
   "metadata": {},
   "outputs": [
    {
     "name": "stdout",
     "output_type": "stream",
     "text": [
      "Miranda studies Programming\n"
     ]
    },
    {
     "data": {
      "text/plain": [
       "False"
      ]
     },
     "execution_count": 17,
     "metadata": {},
     "output_type": "execute_result"
    }
   ],
   "source": [
    "class Student:\n",
    "    def __init__(self, name, type_of_study, school, age, pass_ ):\n",
    "        #attributes\n",
    "        self.name = name\n",
    "        self.type_of_study = type_of_study\n",
    "        self.school = school\n",
    "        self.age = age\n",
    "        self.pass_ = pass_\n",
    "\n",
    "    #method\n",
    "    def study(self):\n",
    "        print(f\"{self.name} studies {self.type_of_study}\")\n",
    "\n",
    "st1 = Student(\"Miranda\", \"Programming\", \"STI\", 30, True)\n",
    "st2 =  Student(\"Lisa\", \"Python\", \"Cool school\", 33, False)\n",
    "\n",
    "st1.study()\n",
    "st2.pass_\n"
   ]
  },
  {
   "cell_type": "code",
   "execution_count": 13,
   "id": "7bb4c2b1",
   "metadata": {},
   "outputs": [
    {
     "name": "stdout",
     "output_type": "stream",
     "text": [
      "Lisa\n",
      "HEEEEEJ\n"
     ]
    }
   ],
   "source": [
    "class Lisa(Student):\n",
    "    def speak(self):\n",
    "        print(\"HEEEEEJ\")\n",
    "\n",
    "lisa = Lisa(\"Lisa\", \"OOP\", \"STI\", 33, True)\n",
    "\n",
    "print(lisa.name)\n",
    "lisa.speak()\n"
   ]
  }
 ],
 "metadata": {
  "kernelspec": {
   "display_name": "Python_DE25_Lisa_Yllander",
   "language": "python",
   "name": "python3"
  },
  "language_info": {
   "codemirror_mode": {
    "name": "ipython",
    "version": 3
   },
   "file_extension": ".py",
   "mimetype": "text/x-python",
   "name": "python",
   "nbconvert_exporter": "python",
   "pygments_lexer": "ipython3",
   "version": "3.12.10"
  }
 },
 "nbformat": 4,
 "nbformat_minor": 5
}
