{
 "cells": [
  {
   "cell_type": "markdown",
   "id": "6263e2e6",
   "metadata": {},
   "source": [
    "# Lists"
   ]
  },
  {
   "cell_type": "code",
   "execution_count": 25,
   "id": "9926353f",
   "metadata": {},
   "outputs": [
    {
     "data": {
      "text/plain": [
       "['Antique show', 'News', 'Talent', 'Master chef']"
      ]
     },
     "execution_count": 25,
     "metadata": {},
     "output_type": "execute_result"
    }
   ],
   "source": [
    "tv_shows = [\"Antique show\", \"News\", \"Talent\", \"Master chef\"]\n",
    "\n",
    "tv_shows"
   ]
  },
  {
   "cell_type": "code",
   "execution_count": 23,
   "id": "fd0f852e",
   "metadata": {},
   "outputs": [
    {
     "data": {
      "text/plain": [
       "'Antique show'"
      ]
     },
     "execution_count": 23,
     "metadata": {},
     "output_type": "execute_result"
    }
   ],
   "source": [
    "tv_shows[0]"
   ]
  },
  {
   "cell_type": "code",
   "execution_count": 26,
   "id": "4fefb5fb",
   "metadata": {},
   "outputs": [
    {
     "data": {
      "text/plain": [
       "['News', 'Talent']"
      ]
     },
     "execution_count": 26,
     "metadata": {},
     "output_type": "execute_result"
    }
   ],
   "source": [
    "tv_shows[1:3] #gives us index 2 and 3"
   ]
  },
  {
   "cell_type": "code",
   "execution_count": 27,
   "id": "639958c7",
   "metadata": {},
   "outputs": [
    {
     "data": {
      "text/plain": [
       "'Master chef'"
      ]
     },
     "execution_count": 27,
     "metadata": {},
     "output_type": "execute_result"
    }
   ],
   "source": [
    "tv_shows[-1] #goes around to the next one before the first one"
   ]
  },
  {
   "cell_type": "markdown",
   "id": "c685b51e",
   "metadata": {},
   "source": [
    "### iterate through list with for\n",
    "a list is an iterable which can be iterated over with a for-loop"
   ]
  },
  {
   "cell_type": "code",
   "execution_count": 28,
   "id": "af0e0221",
   "metadata": {},
   "outputs": [
    {
     "name": "stdout",
     "output_type": "stream",
     "text": [
      "Antique show\n",
      "News\n",
      "Talent\n",
      "Master chef\n"
     ]
    }
   ],
   "source": [
    "for tv_show in tv_shows:\n",
    "    print(tv_show)"
   ]
  },
  {
   "cell_type": "code",
   "execution_count": 29,
   "id": "1909cb1f",
   "metadata": {},
   "outputs": [
    {
     "name": "stdout",
     "output_type": "stream",
     "text": [
      "1 Antique show\n",
      "2 News\n",
      "3 Talent\n",
      "4 Master chef\n"
     ]
    }
   ],
   "source": [
    "#enumerate(iterable, start=0)=(the list you loop throgh, where you wanna start)\n",
    "for i, tv_show in enumerate(tv_shows, 1):\n",
    "    print(i, tv_show)"
   ]
  },
  {
   "cell_type": "markdown",
   "id": "c0335257",
   "metadata": {},
   "source": [
    "### Change list items\n",
    "Lists are mutable meaning:\n",
    "- can modify elements\n",
    "- can replace values\n",
    "- can change order of elements"
   ]
  },
  {
   "cell_type": "code",
   "execution_count": 42,
   "id": "c9dc80e2",
   "metadata": {},
   "outputs": [
    {
     "data": {
      "text/plain": [
       "['Friends', 'News', 'Pokemon', 'Talent']"
      ]
     },
     "execution_count": 42,
     "metadata": {},
     "output_type": "execute_result"
    }
   ],
   "source": [
    "tv_shows[0] = \"Friends\"\n",
    "tv_shows"
   ]
  },
  {
   "cell_type": "markdown",
   "id": "2c0fcb3f",
   "metadata": {},
   "source": [
    "### mutate list"
   ]
  },
  {
   "cell_type": "code",
   "execution_count": 30,
   "id": "6b1bc445",
   "metadata": {},
   "outputs": [
    {
     "data": {
      "text/plain": [
       "['Antique show', 'News', 'Talent', 'Pokemon']"
      ]
     },
     "execution_count": 30,
     "metadata": {},
     "output_type": "execute_result"
    }
   ],
   "source": [
    "tv_shows[-1] = \"Pokemon\" # replaces index -1 in list\n",
    "tv_shows"
   ]
  },
  {
   "cell_type": "markdown",
   "id": "4f06d9c1",
   "metadata": {},
   "source": [
    "### sort a list\n",
    "- default: ascending order\n",
    "- sort descending: reverse = True\n",
    "- alphabetically\n",
    "- numerically"
   ]
  },
  {
   "cell_type": "code",
   "execution_count": null,
   "id": "2c043cd7",
   "metadata": {},
   "outputs": [
    {
     "data": {
      "text/plain": [
       "['Antique show', 'News', 'Pokemon', 'Talent']"
      ]
     },
     "execution_count": 32,
     "metadata": {},
     "output_type": "execute_result"
    }
   ],
   "source": [
    "tv_shows.sort() # sort the list alphabetically\n",
    "tv_shows"
   ]
  },
  {
   "cell_type": "code",
   "execution_count": 44,
   "id": "4d6284bb",
   "metadata": {},
   "outputs": [
    {
     "name": "stdout",
     "output_type": "stream",
     "text": [
      "Unsorted: [21, 3, -321, 2, 0, 0]\n",
      "Sorted: [-321, 0, 0, 2, 3, 21]\n",
      "Sorted descending: [21, 3, 2, 0, 0, -321]\n"
     ]
    }
   ],
   "source": [
    "numbers = [21,3,-321,2,0,0]\n",
    "print(f\"Unsorted: {numbers}\")\n",
    "numbers.sort() #prints out numbers from smallest to biggest\n",
    "print(f\"Sorted: {numbers}\")\n",
    "numbers.sort(reverse=True) #prints out the numbers from biggest to smallest\n",
    "print(f\"Sorted descending: {numbers}\")"
   ]
  },
  {
   "cell_type": "markdown",
   "id": "25d86d2c",
   "metadata": {},
   "source": [
    "### list comprehension\n",
    "Syntax: [new_item for item in iterable if condition] \n",
    "\n",
    "- item in iterable → loopar över en lista eller annan samling \n",
    "- new_item → värdet som läggs till i den nya listan \n",
    "- if condition → (valfritt) filter, endast element som uppfyller villkoret tas med "
   ]
  },
  {
   "cell_type": "code",
   "execution_count": 34,
   "id": "4b68c36f",
   "metadata": {},
   "outputs": [
    {
     "data": {
      "text/plain": [
       "[0, 1, 8, 27, 64, 125, 216, 343, 512, 729]"
      ]
     },
     "execution_count": 34,
     "metadata": {},
     "output_type": "execute_result"
    }
   ],
   "source": [
    "cubes = [x**3 for x in range(10)]\n",
    "cubes"
   ]
  },
  {
   "cell_type": "code",
   "execution_count": 35,
   "id": "81b0ba93",
   "metadata": {},
   "outputs": [
    {
     "data": {
      "text/plain": [
       "[36, 49, 64, 81]"
      ]
     },
     "execution_count": 35,
     "metadata": {},
     "output_type": "execute_result"
    }
   ],
   "source": [
    "[x**2 for x in range(10) if x**2 > 25]"
   ]
  },
  {
   "cell_type": "markdown",
   "id": "c504e1f4",
   "metadata": {},
   "source": [
    "### plot graph\n",
    "To use plot you need to install a package, in terminal print:\n",
    "- source .venv/Scripts/activate #activates the virtuel inviorment\n",
    "- (uv) pip install matplotlib #installs the package in the virtuel inviorment"
   ]
  },
  {
   "cell_type": "code",
   "execution_count": 37,
   "id": "1ff0ad8b",
   "metadata": {},
   "outputs": [
    {
     "data": {
      "text/plain": [
       "[0, 1, 2, 3, 4, 5, 6, 7, 8, 9]"
      ]
     },
     "execution_count": 37,
     "metadata": {},
     "output_type": "execute_result"
    }
   ],
   "source": [
    "import matplotlib.pyplot as plt\n",
    "\n",
    "x = list(range(10))\n",
    "x"
   ]
  },
  {
   "cell_type": "code",
   "execution_count": 38,
   "id": "c37d8acf",
   "metadata": {},
   "outputs": [
    {
     "data": {
      "text/plain": [
       "[2, 4, 6, 8, 10, 12, 14, 16, 18, 20]"
      ]
     },
     "execution_count": 38,
     "metadata": {},
     "output_type": "execute_result"
    }
   ],
   "source": [
    "k = 2\n",
    "m = 2 \n",
    "y = [k*x + m for x in x]\n",
    "y"
   ]
  },
  {
   "cell_type": "code",
   "execution_count": 41,
   "id": "bd0d79ed",
   "metadata": {},
   "outputs": [
    {
     "data": {
      "text/plain": [
       "Text(0.5, 1.0, 'Plot y = 2x+2')"
      ]
     },
     "execution_count": 41,
     "metadata": {},
     "output_type": "execute_result"
    },
    {
     "data": {
      "image/png": "[encoded data removed]",
      "text/plain": [
       "<Figure size 640x480 with 1 Axes>"
      ]
     },
     "metadata": {},
     "output_type": "display_data"
    }
   ],
   "source": [
    "plt.plot(x,y)\n",
    "plt.title(\"Plot y = 2x+2\")"
   ]
  }
 ],
 "metadata": {
  "kernelspec": {
   "display_name": "Python_DE25_Lisa_Yllander",
   "language": "python",
   "name": "python3"
  },
  "language_info": {
   "codemirror_mode": {
    "name": "ipython",
    "version": 3
   },
   "file_extension": ".py",
   "mimetype": "text/x-python",
   "name": "python",
   "nbconvert_exporter": "python",
   "pygments_lexer": "ipython3",
   "version": "3.12.10"
  }
 },
 "nbformat": 4,
 "nbformat_minor": 5
}
