{
 "cells": [
  {
   "cell_type": "markdown",
   "id": "83dae488",
   "metadata": {},
   "source": [
    "# tuples\n",
    "Simular to lists but the elements cant be changed \n"
   ]
  },
  {
   "cell_type": "code",
   "execution_count": 1,
   "id": "5ad807db",
   "metadata": {},
   "outputs": [
    {
     "data": {
      "text/plain": [
       "('banana', 12, 3.14, True)"
      ]
     },
     "execution_count": 1,
     "metadata": {},
     "output_type": "execute_result"
    }
   ],
   "source": [
    "mixed_tuple = (\"banana\", 12, 3.14, True)\n",
    "mixed_tuple"
   ]
  },
  {
   "cell_type": "code",
   "execution_count": 3,
   "id": "4fb4c033",
   "metadata": {},
   "outputs": [
    {
     "data": {
      "text/plain": [
       "('banana', 12, 3.14)"
      ]
     },
     "execution_count": 3,
     "metadata": {},
     "output_type": "execute_result"
    }
   ],
   "source": [
    "mixed_tuple[:3]"
   ]
  },
  {
   "cell_type": "code",
   "execution_count": 4,
   "id": "1ee87601",
   "metadata": {},
   "outputs": [
    {
     "data": {
      "text/plain": [
       "([1, 2], [2, 5])"
      ]
     },
     "execution_count": 4,
     "metadata": {},
     "output_type": "execute_result"
    }
   ],
   "source": [
    "coordinates = ([1,2], [2,5])\n",
    "coordinates"
   ]
  },
  {
   "cell_type": "markdown",
   "id": "652bd416",
   "metadata": {},
   "source": [
    "You cant change the element in the tuple but you can change the element inside the list thats inside the tuple"
   ]
  },
  {
   "cell_type": "code",
   "execution_count": 5,
   "id": "45790abc",
   "metadata": {},
   "outputs": [
    {
     "data": {
      "text/plain": [
       "([50, 2], [2, 5])"
      ]
     },
     "execution_count": 5,
     "metadata": {},
     "output_type": "execute_result"
    }
   ],
   "source": [
    "coordinates[0][0] = 50\n",
    "coordinates"
   ]
  },
  {
   "cell_type": "markdown",
   "id": "404b7552",
   "metadata": {},
   "source": [
    "### tuple unpacking"
   ]
  },
  {
   "cell_type": "code",
   "execution_count": 7,
   "id": "075a73e5",
   "metadata": {},
   "outputs": [
    {
     "data": {
      "text/plain": [
       "2"
      ]
     },
     "execution_count": 7,
     "metadata": {},
     "output_type": "execute_result"
    }
   ],
   "source": [
    "x,y,z = (1,2,3)\n",
    "y"
   ]
  },
  {
   "cell_type": "code",
   "execution_count": 8,
   "id": "1c76dfa7",
   "metadata": {},
   "outputs": [
    {
     "name": "stdout",
     "output_type": "stream",
     "text": [
      "x = 2, y = 1\n"
     ]
    }
   ],
   "source": [
    "x,y =y,x\n",
    "print(f\"{x = }, {y = }\")"
   ]
  }
 ],
 "metadata": {
  "kernelspec": {
   "display_name": "Python_DE25_Lisa_Yllander",
   "language": "python",
   "name": "python3"
  },
  "language_info": {
   "codemirror_mode": {
    "name": "ipython",
    "version": 3
   },
   "file_extension": ".py",
   "mimetype": "text/x-python",
   "name": "python",
   "nbconvert_exporter": "python",
   "pygments_lexer": "ipython3",
   "version": "3.12.10"
  }
 },
 "nbformat": 4,
 "nbformat_minor": 5
}
