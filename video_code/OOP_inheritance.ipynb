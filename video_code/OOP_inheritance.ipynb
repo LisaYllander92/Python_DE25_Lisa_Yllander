{
 "cells": [
  {
   "cell_type": "markdown",
   "id": "8a511cf7",
   "metadata": {},
   "source": [
    "## Inheritance"
   ]
  },
  {
   "cell_type": "code",
   "execution_count": null,
   "id": "1ac054f3",
   "metadata": {},
   "outputs": [
    {
     "name": "stdout",
     "output_type": "stream",
     "text": [
      "Setter runs\n",
      "Getter runs\n"
     ]
    },
    {
     "data": {
      "text/plain": [
       "4"
      ]
     },
     "execution_count": 9,
     "metadata": {},
     "output_type": "execute_result"
    }
   ],
   "source": [
    "class Person:\n",
    "    \"\"\"Base class containing generic methods that are shared by all subclasses\"\"\"\n",
    "\n",
    "    def __init__(self, name: str, age: int) -> None:\n",
    "        self.age = age\n",
    "        self.name = name\n",
    "\n",
    "\n",
    "    @property\n",
    "    def age(self) -> int:\n",
    "        print(\"Getter runs\")\n",
    "        return self._age # \n",
    "\n",
    "    @age.setter\n",
    "    def age(self, value: int) -> None:\n",
    "        print(\"Setter runs\")\n",
    "        if not isinstance(value, int):\n",
    "            raise ValueError(f\"Age must be int or float, not type {value}\")\n",
    "        if not 0<value<125:\n",
    "            raise ValueError(\"Age must be valid\")\n",
    "        self._age = value\n",
    "\n",
    "\n",
    "person1 = Person(\"bella\", 4) #setter is run\n",
    "person1.age #getter run\n",
    "\n",
    "\n",
    "#Person(\"Bella\", 4)\n"
   ]
  },
  {
   "cell_type": "code",
   "execution_count": null,
   "id": "63dd3ebf",
   "metadata": {},
   "outputs": [
    {
     "ename": "NameError",
     "evalue": "name 'person' is not defined",
     "output_type": "error",
     "traceback": [
      "\u001b[31m---------------------------------------------------------------------------\u001b[39m",
      "\u001b[31mNameError\u001b[39m                                 Traceback (most recent call last)",
      "\u001b[36mCell\u001b[39m\u001b[36m \u001b[39m\u001b[32mIn[16]\u001b[39m\u001b[32m, line 57\u001b[39m\n\u001b[32m     54\u001b[39m         \u001b[38;5;28msuper\u001b[39m().\u001b[34m__init__\u001b[39m(name, age)\n\u001b[32m     55\u001b[39m         \u001b[38;5;28mself\u001b[39m.stash = OldCoinStash(name)\n\u001b[32m---> \u001b[39m\u001b[32m57\u001b[39m p1 = \u001b[43mperson\u001b[49m(\u001b[33m\"\u001b[39m\u001b[33mGreta\u001b[39m\u001b[33m\"\u001b[39m, \u001b[32m20\u001b[39m)\n\u001b[32m     58\u001b[39m p1.say_hi()\n",
      "\u001b[31mNameError\u001b[39m: name 'person' is not defined"
     ]
    }
   ],
   "source": [
    "import re\n",
    "from oldcoin import OldCoinStash\n",
    "class Person:\n",
    "    \"\"\"Base class containing generic methods that are shared by all subclasses\"\"\"\n",
    "\n",
    "    def __init__(self, name: str, age: int) -> None:\n",
    "        self.age = age\n",
    "        self.name = name\n",
    "\n",
    "\n",
    "    @property\n",
    "    def age(self) -> int:\n",
    "        return self._age # returns a private variable\n",
    "\n",
    "    @age.setter\n",
    "    def age(self, value: int) -> None:\n",
    "        if not isinstance(value, int):\n",
    "            raise ValueError(f\"Age must be int or float, not type {value}\")\n",
    "        if not 0<value<125:\n",
    "            raise ValueError(\"Age must be valid\")\n",
    "        self._age = value\n",
    "\n",
    "    @property\n",
    "    def name(self) -> str:\n",
    "        return self._name\n",
    "\n",
    "    @name.setter\n",
    "    def name(self, value: str) -> None:\n",
    "        if re.search(r\"^[A-ö]+(\\s[A-ö]+)?$\", value.strip()) is None:\n",
    "            raise ValueError(\"The value {value} is not a valid name\")\n",
    "\n",
    "        self._name = value\n",
    "\n",
    "    def say_hi(self) -> None:\n",
    "        print(f\"Person {self.name} says hi\")\n",
    "\n",
    "class Student(Person):\n",
    "    \"\"\"A student is a person that knows a language\"\"\"\n",
    "\n",
    "def __init__(self, name: str, age: int, language: str) -> None:\n",
    "    super().__init__(name, age)\n",
    "    self.language = language\n",
    "\n",
    "#overwrites say_hi() from the parent\n",
    "def say_hi(self):\n",
    "    print(f\" student {self.name} is {self.age} years old and knows {self.language}\")\n",
    "    #return super().say_hi()\n",
    "\n",
    "\n",
    "class Viking(Person):\n",
    "    \"\"\"A viking has an OldCoinsStash but is a Person\"\"\"\n",
    "\n",
    "    def __init__(self, name: str, age: int) -> None:\n",
    "        super().__init__(name, age)\n",
    "        self.stash = OldCoinStash(name)\n",
    "\n",
    "#p1 = person(\"Greta\", 20)\n",
    "#p1.say_hi()\n"
   ]
  },
  {
   "cell_type": "code",
   "execution_count": 17,
   "id": "67f3c69c",
   "metadata": {},
   "outputs": [
    {
     "ename": "SyntaxError",
     "evalue": "invalid syntax (3230978848.py, line 1)",
     "output_type": "error",
     "traceback": [
      "  \u001b[36mCell\u001b[39m\u001b[36m \u001b[39m\u001b[32mIn[17]\u001b[39m\u001b[32m, line 1\u001b[39m\n\u001b[31m    \u001b[39m\u001b[31ms.1 = Student(\"Örjan\", 25, \"Python\")\u001b[39m\n     ^\n\u001b[31mSyntaxError\u001b[39m\u001b[31m:\u001b[39m invalid syntax\n"
     ]
    }
   ],
   "source": [
    "s.1 = Student(\"Örjan\", 25, \"Python\")\n",
    "s1.say_hi()"
   ]
  },
  {
   "cell_type": "code",
   "execution_count": null,
   "id": "3d3be7f9",
   "metadata": {},
   "outputs": [],
   "source": [
    "#Viking\n",
    "v1 = Viking(\"Rangnar\", 54)\n",
    "v1.say_hi() #says hi from the parant class "
   ]
  },
  {
   "cell_type": "code",
   "execution_count": 14,
   "id": "d8da1214",
   "metadata": {},
   "outputs": [
    {
     "ename": "NameError",
     "evalue": "name 'v1' is not defined",
     "output_type": "error",
     "traceback": [
      "\u001b[31m---------------------------------------------------------------------------\u001b[39m",
      "\u001b[31mNameError\u001b[39m                                 Traceback (most recent call last)",
      "\u001b[36mCell\u001b[39m\u001b[36m \u001b[39m\u001b[32mIn[14]\u001b[39m\u001b[32m, line 1\u001b[39m\n\u001b[32m----> \u001b[39m\u001b[32m1\u001b[39m \u001b[43mv1\u001b[49m.\u001b[34m__dict__\u001b[39m\n",
      "\u001b[31mNameError\u001b[39m: name 'v1' is not defined"
     ]
    }
   ],
   "source": [
    "v1.__dict__"
   ]
  }
 ],
 "metadata": {
  "kernelspec": {
   "display_name": "Python_DE25_Lisa_Yllander",
   "language": "python",
   "name": "python3"
  },
  "language_info": {
   "codemirror_mode": {
    "name": "ipython",
    "version": 3
   },
   "file_extension": ".py",
   "mimetype": "text/x-python",
   "name": "python",
   "nbconvert_exporter": "python",
   "pygments_lexer": "ipython3",
   "version": "3.12.10"
  }
 },
 "nbformat": 4,
 "nbformat_minor": 5
}
