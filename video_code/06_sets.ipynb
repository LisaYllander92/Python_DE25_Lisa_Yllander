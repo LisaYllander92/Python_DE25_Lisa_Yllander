{
 "cells": [
  {
   "cell_type": "markdown",
   "id": "a8735ba0",
   "metadata": {},
   "source": [
    "# Sets"
   ]
  },
  {
   "cell_type": "code",
   "execution_count": 2,
   "id": "7c737be7",
   "metadata": {},
   "outputs": [
    {
     "data": {
      "text/plain": [
       "['Lisa@exemple.com',\n",
       " 'Bob@exemple.com',\n",
       " 'Lisa@exemple.com',\n",
       " 'Fredde@exemple.com',\n",
       " 'Bob@exemple.com']"
      ]
     },
     "execution_count": 2,
     "metadata": {},
     "output_type": "execute_result"
    }
   ],
   "source": [
    "emails = [\"Lisa@exemple.com\", \"Bob@exemple.com\", \"Lisa@exemple.com\", \n",
    "\"Fredde@exemple.com\", \"Bob@exemple.com\"]\n",
    "\n",
    "emails"
   ]
  },
  {
   "cell_type": "code",
   "execution_count": 3,
   "id": "ec6f1529",
   "metadata": {},
   "outputs": [
    {
     "data": {
      "text/plain": [
       "{'Bob@exemple.com', 'Fredde@exemple.com', 'Lisa@exemple.com'}"
      ]
     },
     "execution_count": 3,
     "metadata": {},
     "output_type": "execute_result"
    }
   ],
   "source": [
    "set(emails)"
   ]
  },
  {
   "cell_type": "code",
   "execution_count": 4,
   "id": "f194039e",
   "metadata": {},
   "outputs": [
    {
     "data": {
      "text/plain": [
       "['Lisa@exemple.com', 'Fredde@exemple.com', 'Bob@exemple.com']"
      ]
     },
     "execution_count": 4,
     "metadata": {},
     "output_type": "execute_result"
    }
   ],
   "source": [
    "list(set(emails))"
   ]
  },
  {
   "cell_type": "markdown",
   "id": "d1924b39",
   "metadata": {},
   "source": [
    "### mathematical set operation\n",
    "- union\n",
    "- intersection\n",
    "- except"
   ]
  },
  {
   "cell_type": "code",
   "execution_count": 7,
   "id": "7f374156",
   "metadata": {},
   "outputs": [
    {
     "data": {
      "text/plain": [
       "{'carla', 'daniel'}"
      ]
     },
     "execution_count": 7,
     "metadata": {},
     "output_type": "execute_result"
    }
   ],
   "source": [
    "first_month_customers = {\"alice\", \"bob\", \"carla\", \"daniel\"}\n",
    "second_month_customers = {\"carla\", \"daniel\", \"elena\"}\n",
    "\n",
    "returning_costumers = first_month_customers.intersection(second_month_customers)\n",
    "returning_costumers"
   ]
  },
  {
   "cell_type": "code",
   "execution_count": 9,
   "id": "40bb3bb6",
   "metadata": {},
   "outputs": [
    {
     "data": {
      "text/plain": [
       "{'alice', 'bob', 'carla', 'daniel', 'elena'}"
      ]
     },
     "execution_count": 9,
     "metadata": {},
     "output_type": "execute_result"
    }
   ],
   "source": [
    "all_costumers = first_month_customers.union(second_month_customers)\n",
    "all_costumers"
   ]
  },
  {
   "cell_type": "code",
   "execution_count": null,
   "id": "a5e82cf2",
   "metadata": {},
   "outputs": [],
   "source": []
  }
 ],
 "metadata": {
  "kernelspec": {
   "display_name": "Python_DE25_Lisa_Yllander",
   "language": "python",
   "name": "python3"
  },
  "language_info": {
   "codemirror_mode": {
    "name": "ipython",
    "version": 3
   },
   "file_extension": ".py",
   "mimetype": "text/x-python",
   "name": "python",
   "nbconvert_exporter": "python",
   "pygments_lexer": "ipython3",
   "version": "3.12.10"
  }
 },
 "nbformat": 4,
 "nbformat_minor": 5
}
