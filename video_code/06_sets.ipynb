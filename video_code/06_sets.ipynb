{
 "cells": [
  {
   "cell_type": "markdown",
   "id": "a8735ba0",
   "metadata": {},
   "source": [
    "# Sets"
   ]
  },
  {
   "cell_type": "code",
   "execution_count": 2,
   "id": "7c737be7",
   "metadata": {},
   "outputs": [
    {
     "data": {
      "text/plain": [
       "['Lisa@exemple.com',\n",
       " 'Bob@exemple.com',\n",
       " 'Lisa@exemple.com',\n",
       " 'Fredde@exemple.com',\n",
       " 'Bob@exemple.com']"
      ]
     },
     "execution_count": 2,
     "metadata": {},
     "output_type": "execute_result"
    }
   ],
   "source": [
    "emails = [\"Lisa@exemple.com\", \"Bob@exemple.com\", \"Lisa@exemple.com\", \n",
    "\"Fredde@exemple.com\", \"Bob@exemple.com\"]\n",
    "\n",
    "emails"
   ]
  },
  {
   "cell_type": "code",
   "execution_count": 3,
   "id": "ec6f1529",
   "metadata": {},
   "outputs": [
    {
     "data": {
      "text/plain": [
       "{'Bob@exemple.com', 'Fredde@exemple.com', 'Lisa@exemple.com'}"
      ]
     },
     "execution_count": 3,
     "metadata": {},
     "output_type": "execute_result"
    }
   ],
   "source": [
    "set(emails)"
   ]
  },
  {
   "cell_type": "code",
   "execution_count": 4,
   "id": "f194039e",
   "metadata": {},
   "outputs": [
    {
     "data": {
      "text/plain": [
       "['Lisa@exemple.com', 'Fredde@exemple.com', 'Bob@exemple.com']"
      ]
     },
     "execution_count": 4,
     "metadata": {},
     "output_type": "execute_result"
    }
   ],
   "source": [
    "list(set(emails))"
   ]
  },
  {
   "cell_type": "markdown",
   "id": "d1924b39",
   "metadata": {},
   "source": [
    "### mathematical set operation\n",
    "- union\n",
    "- intersection\n",
    "- except"
   ]
  },
  {
   "cell_type": "code",
   "execution_count": null,
   "id": "7f374156",
   "metadata": {},
   "outputs": [
    {
     "ename": "NameError",
     "evalue": "name 'fifirst_month_customers' is not defined",
     "output_type": "error",
     "traceback": [
      "\u001b[31m---------------------------------------------------------------------------\u001b[39m",
      "\u001b[31mNameError\u001b[39m                                 Traceback (most recent call last)",
      "\u001b[36mCell\u001b[39m\u001b[36m \u001b[39m\u001b[32mIn[5]\u001b[39m\u001b[32m, line 4\u001b[39m\n\u001b[32m      1\u001b[39m first_month_customers = {\u001b[33m\"\u001b[39m\u001b[33malice\u001b[39m\u001b[33m\"\u001b[39m, \u001b[33m\"\u001b[39m\u001b[33mbob\u001b[39m\u001b[33m\"\u001b[39m, \u001b[33m\"\u001b[39m\u001b[33mcarla\u001b[39m\u001b[33m\"\u001b[39m, \u001b[33m\"\u001b[39m\u001b[33mdaniel\u001b[39m\u001b[33m\"\u001b[39m}\n\u001b[32m      2\u001b[39m second_month_customers = {\u001b[33m\"\u001b[39m\u001b[33mcarla\u001b[39m\u001b[33m\"\u001b[39m, \u001b[33m\"\u001b[39m\u001b[33mdaniel\u001b[39m\u001b[33m\"\u001b[39m, \u001b[33m\"\u001b[39m\u001b[33melena\u001b[39m\u001b[33m\"\u001b[39m}\n\u001b[32m----> \u001b[39m\u001b[32m4\u001b[39m \u001b[43mfifirst_month_customers\u001b[49m.intersection(second_month_customers)\n",
      "\u001b[31mNameError\u001b[39m: name 'fifirst_month_customers' is not defined"
     ]
    }
   ],
   "source": [
    "first_month_customers = {\"alice\", \"bob\", \"carla\", \"daniel\"}\n",
    "second_month_customers = {\"carla\", \"daniel\", \"elena\"}\n",
    "\n",
    "returning_costumers = fifirst_month_customers.intersection(second_month_customers)"
   ]
  }
 ],
 "metadata": {
  "kernelspec": {
   "display_name": "Python_DE25_Lisa_Yllander",
   "language": "python",
   "name": "python3"
  },
  "language_info": {
   "codemirror_mode": {
    "name": "ipython",
    "version": 3
   },
   "file_extension": ".py",
   "mimetype": "text/x-python",
   "name": "python",
   "nbconvert_exporter": "python",
   "pygments_lexer": "ipython3",
   "version": "3.12.10"
  }
 },
 "nbformat": 4,
 "nbformat_minor": 5
}
