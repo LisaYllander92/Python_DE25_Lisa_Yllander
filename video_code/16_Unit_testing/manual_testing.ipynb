{
 "cells": [
  {
   "cell_type": "markdown",
   "id": "16a116f4",
   "metadata": {},
   "source": [
    "## Manual testing of Vector class"
   ]
  }
 ],
 "metadata": {
  "language_info": {
   "name": "python"
  }
 },
 "nbformat": 4,
 "nbformat_minor": 5
}
