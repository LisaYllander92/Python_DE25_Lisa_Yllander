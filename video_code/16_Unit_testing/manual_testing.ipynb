{
 "cells": [
  {
   "cell_type": "markdown",
   "id": "16a116f4",
   "metadata": {},
   "source": [
    "## Manual testing of Vector class"
   ]
  },
  {
   "cell_type": "code",
   "execution_count": 1,
   "id": "54db1f12",
   "metadata": {},
   "outputs": [
    {
     "data": {
      "text/plain": [
       "(Vector(2.0, 5.0), Vector(-1.0, 1.0))"
      ]
     },
     "execution_count": 1,
     "metadata": {},
     "output_type": "execute_result"
    }
   ],
   "source": [
    "from vector import Vector\n",
    "\n",
    "# vector with coordinate 2 and 5\n",
    "v1 = Vector(2,5)\n",
    "v2 = Vector(-1,1)\n",
    "v1, v2"
   ]
  },
  {
   "cell_type": "markdown",
   "id": "59be67de",
   "metadata": {},
   "source": [
    "#### A few testes that we expect will work"
   ]
  },
  {
   "cell_type": "code",
   "execution_count": 2,
   "id": "3e46e296",
   "metadata": {},
   "outputs": [
    {
     "name": "stdout",
     "output_type": "stream",
     "text": [
      "len(v1) = 2\n",
      "v1.numbers = (2.0, 5.0)\n",
      "v1 + v2 = Vector(1.0, 6.0)\n"
     ]
    }
   ],
   "source": [
    "# see length of vector\n",
    "#len(v1)\n",
    "print(f\"{len(v1) = }\")\n",
    "# see the numbers\n",
    "print(f\"{v1.numbers = }\")\n",
    "\n",
    "print(f\"{v1 + v2 = }\")"
   ]
  },
  {
   "cell_type": "markdown",
   "id": "defc4900",
   "metadata": {},
   "source": [
    "#### testing correct errors"
   ]
  },
  {
   "cell_type": "code",
   "execution_count": null,
   "id": "59494aa0",
   "metadata": {},
   "outputs": [
    {
     "name": "stdout",
     "output_type": "stream",
     "text": [
      "'1' is not valid number in a vector\n"
     ]
    }
   ],
   "source": [
    "try:\n",
    "    Vector(\"1\",1)\n",
    "except TypeError as err:\n",
    "    print(err)\n",
    "\n",
    "# fixa till i vector.py under def __init__"
   ]
  },
  {
   "cell_type": "code",
   "execution_count": null,
   "id": "87633841",
   "metadata": {},
   "outputs": [
    {
     "name": "stdout",
     "output_type": "stream",
     "text": [
      "Both must be Vector and have the same length\n"
     ]
    }
   ],
   "source": [
    "v1 = Vector(1,2)\n",
    "v2 = Vector(1,2,3)\n",
    "\n",
    "try:\n",
    "    v1 + v2\n",
    "except TypeError as err:\n",
    "    print(err)\n",
    "\n",
    "# testar olika längder"
   ]
  },
  {
   "cell_type": "code",
   "execution_count": 6,
   "id": "72caf8b0",
   "metadata": {},
   "outputs": [
    {
     "data": {
      "text/plain": [
       "\"'1'\""
      ]
     },
     "execution_count": 6,
     "metadata": {},
     "output_type": "execute_result"
    }
   ],
   "source": [
    "repr(\"1\")"
   ]
  },
  {
   "cell_type": "markdown",
   "id": "f0f0ceb4",
   "metadata": {},
   "source": [
    "### assert will be used in aoutomatacally testing"
   ]
  },
  {
   "cell_type": "code",
   "execution_count": null,
   "id": "209a6c55",
   "metadata": {},
   "outputs": [],
   "source": [
    "x = 5\n",
    "\n",
    "# om inget händer är det \"rätt\"\n",
    "assert x == 5\n"
   ]
  },
  {
   "cell_type": "code",
   "execution_count": null,
   "id": "56ffdc74",
   "metadata": {},
   "outputs": [
    {
     "ename": "AssertionError",
     "evalue": "",
     "output_type": "error",
     "traceback": [
      "\u001b[31m---------------------------------------------------------------------------\u001b[39m",
      "\u001b[31mAssertionError\u001b[39m                            Traceback (most recent call last)",
      "\u001b[36mCell\u001b[39m\u001b[36m \u001b[39m\u001b[32mIn[9]\u001b[39m\u001b[32m, line 1\u001b[39m\n\u001b[32m----> \u001b[39m\u001b[32m1\u001b[39m \u001b[38;5;28;01massert\u001b[39;00m x == \u001b[32m4\u001b[39m\n",
      "\u001b[31mAssertionError\u001b[39m: "
     ]
    }
   ],
   "source": [
    "\n",
    "assert x == 4"
   ]
  }
 ],
 "metadata": {
  "kernelspec": {
   "display_name": "Python_DE25_Lisa_Yllander",
   "language": "python",
   "name": "python3"
  },
  "language_info": {
   "codemirror_mode": {
    "name": "ipython",
    "version": 3
   },
   "file_extension": ".py",
   "mimetype": "text/x-python",
   "name": "python",
   "nbconvert_exporter": "python",
   "pygments_lexer": "ipython3",
   "version": "3.12.10"
  }
 },
 "nbformat": 4,
 "nbformat_minor": 5
}
