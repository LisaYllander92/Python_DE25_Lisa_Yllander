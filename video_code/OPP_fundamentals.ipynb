{
 "cells": [
  {
   "cell_type": "markdown",
   "id": "81869e2c",
   "metadata": {},
   "source": [
    "# OOP fundametals\n",
    "Object Oriented Programming"
   ]
  },
  {
   "cell_type": "code",
   "execution_count": 63,
   "id": "76a27523",
   "metadata": {},
   "outputs": [
    {
     "name": "stdout",
     "output_type": "stream",
     "text": [
      "Dunder init is running\n"
     ]
    },
    {
     "data": {
      "text/plain": [
       "'programming'"
      ]
     },
     "execution_count": 63,
     "metadata": {},
     "output_type": "execute_result"
    }
   ],
   "source": [
    "# define a class, class name with capital\n",
    "class Admission: \n",
    "\n",
    "    # def = define\n",
    "    # __init__ = \"dunder (dubble underscores) init\" (to initalize attributes)\n",
    "    # this method will be run when you instanciate a instence from this class \n",
    "    def __init__(self, school, program, name, accept, course = \"programming\"):\n",
    "        print(\"Dunder init is running\")\n",
    "\n",
    "        # set the attributes to the value from the arguments\n",
    "        self.school = school\n",
    "        self.program = program\n",
    "        self.name = name\n",
    "        self.accept = accept\n",
    "        self.course = course\n",
    "\n",
    "person1 = Admission(\"cool school\", \"AI\", accept = True, name = \"Kokchun\")\n",
    "person1.course\n",
    "    \n"
   ]
  },
  {
   "cell_type": "markdown",
   "id": "f4100a23",
   "metadata": {},
   "source": [
    "## Note on memory\n",
    "By default, the \\_\\__repr__\\_\\_ of an instace is showing the memory address of where the instance live\n",
    "- each instance of the class lives in different memory addresses\n",
    "    - the are differens objects"
   ]
  },
  {
   "cell_type": "code",
   "execution_count": null,
   "id": "0b94de59",
   "metadata": {},
   "outputs": [
    {
     "data": {
      "text/plain": [
       "<__main__.Admission at 0x19615d64080>"
      ]
     },
     "execution_count": 69,
     "metadata": {},
     "output_type": "execute_result"
    }
   ],
   "source": [
    "person1"
   ]
  },
  {
   "cell_type": "code",
   "execution_count": 64,
   "id": "2dc3f1c4",
   "metadata": {},
   "outputs": [
    {
     "data": {
      "text/plain": [
       "('cool school', 'Kokchun')"
      ]
     },
     "execution_count": 64,
     "metadata": {},
     "output_type": "execute_result"
    }
   ],
   "source": [
    "person1.school, person1.name"
   ]
  },
  {
   "cell_type": "code",
   "execution_count": 65,
   "id": "ee116df5",
   "metadata": {},
   "outputs": [
    {
     "data": {
      "text/plain": [
       "'Bella'"
      ]
     },
     "execution_count": 65,
     "metadata": {},
     "output_type": "execute_result"
    }
   ],
   "source": [
    "# you can change the value \n",
    "person1.name = \"Bella\"\n",
    "person1.name"
   ]
  },
  {
   "cell_type": "code",
   "execution_count": 67,
   "id": "3242a15e",
   "metadata": {},
   "outputs": [
    {
     "name": "stdout",
     "output_type": "stream",
     "text": [
      "Dunder init is running\n"
     ]
    },
    {
     "data": {
      "text/plain": [
       "'Java'"
      ]
     },
     "execution_count": 67,
     "metadata": {},
     "output_type": "execute_result"
    }
   ],
   "source": [
    "personJ = Admission(name = \"Jonny\", school = \"Cool school\", program = \"Java\", accept = True)\n",
    "personJ.program"
   ]
  },
  {
   "cell_type": "code",
   "execution_count": 7,
   "id": "7747c9e6",
   "metadata": {},
   "outputs": [
    {
     "data": {
      "text/plain": [
       "('Data engineer', 'AI')"
      ]
     },
     "execution_count": 7,
     "metadata": {},
     "output_type": "execute_result"
    }
   ],
   "source": [
    "person2 = Admission(\"Cooler school\", \"Data engineer\", accept = False, name = \"Gore Bord\")\n",
    "person2.program, person1.program"
   ]
  },
  {
   "cell_type": "code",
   "execution_count": 8,
   "id": "100dcc85",
   "metadata": {},
   "outputs": [
    {
     "data": {
      "text/plain": [
       "False"
      ]
     },
     "execution_count": 8,
     "metadata": {},
     "output_type": "execute_result"
    }
   ],
   "source": [
    "person1 == person2"
   ]
  },
  {
   "cell_type": "code",
   "execution_count": null,
   "id": "5756fc70",
   "metadata": {},
   "outputs": [
    {
     "data": {
      "text/plain": [
       "('0x19615dbc1d0', '0x19615d64080')"
      ]
     },
     "execution_count": 9,
     "metadata": {},
     "output_type": "execute_result"
    }
   ],
   "source": [
    "# to show memoryadress of person1 and person2 \n",
    "hex(id(person1)), hex(id(person2))"
   ]
  },
  {
   "cell_type": "markdown",
   "id": "edd9d237",
   "metadata": {},
   "source": [
    "### `__repr__` - dunder repper method \n",
    "- method to represent your class to other developers\n",
    "- usually discribes how to create an instance from this class\n",
    "- by default we get e.g <main:student ar 0x103db590>"
   ]
  },
  {
   "cell_type": "code",
   "execution_count": 81,
   "id": "e49cfcbc",
   "metadata": {},
   "outputs": [
    {
     "name": "stdout",
     "output_type": "stream",
     "text": [
      "Student = 'Miranda', type_of_study = 'Programming', school = 'STI', age = 30, pass_ = True\n"
     ]
    }
   ],
   "source": [
    "class Student:\n",
    "    def __init__(self, name, type_of_study, school, age, pass_ ):\n",
    "        #attributes\n",
    "        self.name = name\n",
    "        self.type_of_study = type_of_study\n",
    "        self.school = school\n",
    "        self.age = age\n",
    "        self.pass_ = pass_\n",
    "\n",
    "    #method\n",
    "    def study(self):\n",
    "        print(f\"{self.name} studies {self.type_of_study}\")\n",
    "\n",
    "    def __repr__(self):\n",
    "        #Student(name = \"Bada\", type_pf_study = \"ecomonics\", school = \"cool school\", age = 31, pass_ = False)\n",
    "        #return f\"Name of student: {self.name}\\nStudies: {self.type_of_study}\\nSchool: {self.school}\\nAge: {self.age}\\nPassed: {self.pass_}\"\n",
    "        return f\"Student = '{self.name}', type_of_study = '{self.type_of_study}', school = '{self.school}', age = {self.age}, pass_ = {self.pass_}\"\n",
    "\n",
    "st1 = Student(\n",
    "    name = \"Miranda\", \n",
    "    type_of_study = \"Programming\",\n",
    "    school = \"STI\",\n",
    "    age = 30, \n",
    "    pass_ = True)\n",
    "\n",
    "st2 =  Student(\"Lisa\", \"Python\", \"Cool school\", 33, False)\n",
    "\n",
    "print(st1.__repr__())\n"
   ]
  },
  {
   "cell_type": "code",
   "execution_count": 82,
   "id": "5a105f82",
   "metadata": {},
   "outputs": [
    {
     "data": {
      "text/plain": [
       "Student = 'Miranda', type_of_study = 'Programming', school = 'STI', age = 30, pass_ = True"
      ]
     },
     "execution_count": 82,
     "metadata": {},
     "output_type": "execute_result"
    }
   ],
   "source": [
    "st1 "
   ]
  },
  {
   "cell_type": "code",
   "execution_count": 12,
   "id": "2ee85e54",
   "metadata": {},
   "outputs": [
    {
     "name": "stdout",
     "output_type": "stream",
     "text": [
      "Lisa is studying Python in school Cool school\n"
     ]
    }
   ],
   "source": [
    "# printing -> looks for __str__ method, if it doens't exist -> look for __repr__ as a fallback\n",
    "\n",
    "# 'Print(student1)' will look for __str__\n",
    "# 'student1' will look for __repr__\n",
    "\n",
    "class Student:\n",
    "    def __init__(self, name, type_of_study, school, age, pass_ ):\n",
    "        #attributes\n",
    "        self.name = name\n",
    "        self.type_of_study = type_of_study\n",
    "        self.school = school\n",
    "        self.age = age\n",
    "        self.pass_ = pass_\n",
    "\n",
    "    #method\n",
    "    def study(self):\n",
    "        print(f\"{self.name} studies {self.type_of_study}\")\n",
    "\n",
    "    \n",
    "    def __str__(self):\n",
    "        return f\"{self.name} is studying {self.type_of_study} in school {self.school}\"\n",
    "\n",
    "    def __repr__(self):\n",
    "        #Student(name = \"Bada\", type_pf_study = \"ecomonics\", school = \"cool school\", age = 31, pass_ = False)\n",
    "        #return f\"Name of student: {self.name}\\nStudies: {self.type_of_study}\\nSchool: {self.school}\\nAge: {self.age}\\nPassed: {self.pass_}\"\n",
    "        return f\"Student = '{self.name}', type_of_study = '{self.type_of_study}', school = '{self.school}', age = {self.age}, pass_ = {self.pass_}\"\n",
    "\n",
    "\n",
    "st1 = Student(\n",
    "    name = \"Miranda\", \n",
    "    type_of_study = \"Programming\",\n",
    "    school = \"STI\",\n",
    "    age = 30, \n",
    "    pass_ = True)\n",
    "\n",
    "st2 =  Student(\"Lisa\", \"Python\", \"Cool school\", 33, False)\n",
    "\n",
    "st2 #You'll get __repr__\n",
    "print(st2) #you'll get __str__ "
   ]
  },
  {
   "cell_type": "code",
   "execution_count": 13,
   "id": "753c8094",
   "metadata": {},
   "outputs": [
    {
     "data": {
      "text/plain": [
       "Student = 'Lisa', type_of_study = 'Python', school = 'Cool school', age = 33, pass_ = False"
      ]
     },
     "execution_count": 13,
     "metadata": {},
     "output_type": "execute_result"
    }
   ],
   "source": [
    "st2"
   ]
  },
  {
   "cell_type": "code",
   "execution_count": 16,
   "id": "bfc3e42b",
   "metadata": {},
   "outputs": [
    {
     "data": {
      "text/plain": [
       "'Lisa is studying Python in school Cool school'"
      ]
     },
     "execution_count": 16,
     "metadata": {},
     "output_type": "execute_result"
    }
   ],
   "source": [
    "# to make it into a string\n",
    "test = str(st2)\n",
    "test"
   ]
  },
  {
   "cell_type": "code",
   "execution_count": 17,
   "id": "cc266dff",
   "metadata": {},
   "outputs": [
    {
     "data": {
      "text/plain": [
       "Admission(school = 'Cool school', program = 'Java', name = 'Victor Freeze', accept = True)"
      ]
     },
     "execution_count": 17,
     "metadata": {},
     "output_type": "execute_result"
    }
   ],
   "source": [
    "class Admission: \n",
    "    def __init__(self, school, program, name, accept):\n",
    "        self.school = school\n",
    "        self.program = program\n",
    "        self.name = name\n",
    "        self.accept = accept\n",
    "    \n",
    "    def __str__(self):\n",
    "        return f\"{self.name} has applied to {self.program}, accepted: {self.accept}\"\n",
    "\n",
    "    def __repr__(self):\n",
    "        return (f\"Admission(school = '{self.school}', program = '{self.program}', name = '{self.name}', accept = {self.accept})\")\n",
    "    \n",
    "student = Admission(\"Cool school\", \"Java\", \"Victor Freeze\", True)\n",
    "student"
   ]
  },
  {
   "cell_type": "code",
   "execution_count": 14,
   "id": "4455dbc4",
   "metadata": {},
   "outputs": [
    {
     "name": "stdout",
     "output_type": "stream",
     "text": [
      "Victor Freeze has applied to Java, accepted: True\n"
     ]
    }
   ],
   "source": [
    "print(student)"
   ]
  },
  {
   "cell_type": "code",
   "execution_count": null,
   "id": "8fb76cc3",
   "metadata": {},
   "outputs": [
    {
     "data": {
      "text/plain": [
       "'Victor Freeze has applied to Java, accepted: True'"
      ]
     },
     "execution_count": 15,
     "metadata": {},
     "output_type": "execute_result"
    }
   ],
   "source": [
    "str(student) # you get back a string"
   ]
  },
  {
   "cell_type": "markdown",
   "id": "a769a4f0",
   "metadata": {},
   "source": [
    "# OOP Encapsulation\n",
    "- information hiding\n",
    "- user don't need to know underlying how it works\n",
    "- for example we can hide validation - e.g proper age for a person\n",
    "- user of your class need to know how to use it - that is which methods and attributes can be used\n",
    "\n",
    "In general:\n",
    "- one way to do encaptulation is to use private attributes and methods\n",
    "    - these can't be accessed from outside of the class\n",
    "\n",
    "- However in python, there is no such thing as private \n",
    "- in python - private by convention by using a underscore prefix"
   ]
  },
  {
   "cell_type": "code",
   "execution_count": 8,
   "id": "8d2e8d65",
   "metadata": {},
   "outputs": [
    {
     "data": {
      "text/plain": [
       "'Kokchun'"
      ]
     },
     "execution_count": 8,
     "metadata": {},
     "output_type": "execute_result"
    }
   ],
   "source": [
    "#Everything is public\n",
    "\n",
    "class Person:\n",
    "    def __init__(self, name, age):\n",
    "        self.name = name\n",
    "        self.age = age \n",
    "\n",
    "p1 = Person(\"Kokchun\", 34)\n",
    "p1.name"
   ]
  },
  {
   "cell_type": "code",
   "execution_count": 10,
   "id": "a989253f",
   "metadata": {},
   "outputs": [
    {
     "data": {
      "text/plain": [
       "-5"
      ]
     },
     "execution_count": 10,
     "metadata": {},
     "output_type": "execute_result"
    }
   ],
   "source": [
    "p2 = Person(\"Ada\", -5)\n",
    "p2.age"
   ]
  },
  {
   "cell_type": "code",
   "execution_count": null,
   "id": "50486a47",
   "metadata": {},
   "outputs": [
    {
     "data": {
      "text/plain": [
       "'Beda'"
      ]
     },
     "execution_count": 19,
     "metadata": {},
     "output_type": "execute_result"
    }
   ],
   "source": [
    "# make it \"private\"\n",
    "class Person:\n",
    "    def __init__(self, name, age):\n",
    "        self._name = name\n",
    "        self._age = age \n",
    "\n",
    "p3 = Person(\"Beda\", -3)\n",
    "\n",
    "# name-attribute doesn't exist anymore\n",
    "p3.name\n",
    "\n",
    "# you should't do this, but you can\n",
    "# python programmers know that underscore prefix is private by convetion\n",
    "p3._name\n"
   ]
  },
  {
   "cell_type": "markdown",
   "id": "7c69a843",
   "metadata": {},
   "source": [
    "fix validation of age - Naive approach"
   ]
  },
  {
   "cell_type": "code",
   "execution_count": null,
   "id": "67546b3e",
   "metadata": {},
   "outputs": [
    {
     "name": "stdout",
     "output_type": "stream",
     "text": [
      "Age most be between 0 and 124\n"
     ]
    },
    {
     "data": {
      "text/plain": [
       "Person('Eda',5)"
      ]
     },
     "execution_count": 37,
     "metadata": {},
     "output_type": "execute_result"
    }
   ],
   "source": [
    "\n",
    "class Person:\n",
    "    def __init__(self, name, age):\n",
    "        self._name = name\n",
    "\n",
    "        #issue: this validation only happens during instantiation\n",
    "        if not (0 <= age < 125):\n",
    "            raise ValueError(\"Age most be between 0 and 124\")\n",
    "\n",
    "        self._age = age\n",
    "\n",
    "    def __repr__(self):\n",
    "        return f\"Person('{self._name}',{self._age})\"\n",
    "\n",
    "try:\n",
    "    p4 = Person(\"Beda\", -5)\n",
    "except ValueError as err:\n",
    "    print(err)\n",
    "\n",
    "p5 = Person(\"Eda\", 5)\n",
    "p5"
   ]
  },
  {
   "cell_type": "markdown",
   "id": "246171cb",
   "metadata": {},
   "source": [
    "## Property\n",
    "\n",
    "- getter -> gets a value\n",
    "- setter -> sets a value\n",
    "\n",
    "idea: put in a validation code in the setter -> encapsutaled validation code"
   ]
  },
  {
   "cell_type": "code",
   "execution_count": null,
   "id": "45772b29",
   "metadata": {},
   "outputs": [
    {
     "data": {
      "text/plain": [
       "8"
      ]
     },
     "execution_count": 39,
     "metadata": {},
     "output_type": "execute_result"
    }
   ],
   "source": [
    "\n",
    "class Person:\n",
    "    def __init__(self, name, age):\n",
    "        self._name = name\n",
    "\n",
    "        #issue: this validation only happens during instantiation\n",
    "        if not (0 <= age < 125):\n",
    "            raise ValueError(\"Age most be between 0 and 124\")\n",
    "\n",
    "        self._age = age\n",
    "\n",
    "    # decorator - it gives a function more functionality\n",
    "    # makes it into a property (getter and setter)\n",
    "    @property\n",
    "    def age(self):\n",
    "        return self._age \n",
    "\n",
    "    def __repr__(self):\n",
    "        return f\"Person('{self._name}',{self._age})\"\n",
    "\n",
    "p6 = Person(\"Bibbi\", 8)\n",
    "p6.age"
   ]
  },
  {
   "cell_type": "code",
   "execution_count": 20,
   "id": "d9f9e110",
   "metadata": {},
   "outputs": [
    {
     "data": {
      "text/plain": [
       "Parient(Anna, headache)"
      ]
     },
     "execution_count": 20,
     "metadata": {},
     "output_type": "execute_result"
    }
   ],
   "source": [
    "class Patient:\n",
    "    def __init__(self, name, diagnosis):\n",
    "        self._name = name\n",
    "        self._diagnosis = diagnosis\n",
    "\n",
    "    def __repr__(self):\n",
    "        return f\"Parient({self._name}, {self._diagnosis})\"\n",
    "    \n",
    "patient2 = Patient(\"Anna\", \"headache\")\n",
    "patient2"
   ]
  },
  {
   "cell_type": "code",
   "execution_count": 25,
   "id": "9a6a6595",
   "metadata": {},
   "outputs": [
    {
     "data": {
      "text/plain": [
       "'headache'"
      ]
     },
     "execution_count": 25,
     "metadata": {},
     "output_type": "execute_result"
    }
   ],
   "source": [
    "patient2._diagnosis"
   ]
  },
  {
   "cell_type": "code",
   "execution_count": 22,
   "id": "efe35a44",
   "metadata": {},
   "outputs": [
    {
     "data": {
      "text/plain": [
       "{'_name': 'Anna', '_diagnosis': 'headache'}"
      ]
     },
     "execution_count": 22,
     "metadata": {},
     "output_type": "execute_result"
    }
   ],
   "source": [
    "patient2.__dict__"
   ]
  },
  {
   "cell_type": "markdown",
   "id": "1930bb07",
   "metadata": {},
   "source": [
    "Another example"
   ]
  },
  {
   "cell_type": "code",
   "execution_count": 35,
   "id": "8dfa5354",
   "metadata": {},
   "outputs": [
    {
     "data": {
      "text/plain": [
       "OldCoinStash(owner = 'Ragnar')"
      ]
     },
     "execution_count": 35,
     "metadata": {},
     "output_type": "execute_result"
    }
   ],
   "source": [
    "class OldCoinStash:\n",
    "    def __init__(self, owner):\n",
    "        self.owner = owner\n",
    "\n",
    "        self._riksdaler = 0\n",
    "        self._skilling = 0\n",
    "\n",
    "    def deposit(self, riksdaler, skilling):\n",
    "        if riksdaler < 0 or skilling < 0:\n",
    "            raise ValueError(f\"You tried to deposit {riksdaler} and {skilling} skilling. They have to be positive.\")\n",
    "       \n",
    "        self._riksdaler += riksdaler\n",
    "        self._skilling += skilling\n",
    "\n",
    "    def __repr__(self):\n",
    "        return f\"OldCoinStash(owner = '{self.owner}')\"\n",
    "\n",
    "stash1 = OldCoinStash(\"Ragnar\")\n",
    "\n",
    "stash1"
   ]
  },
  {
   "cell_type": "code",
   "execution_count": 33,
   "id": "e4605e9e",
   "metadata": {},
   "outputs": [
    {
     "name": "stdout",
     "output_type": "stream",
     "text": [
      "You tried to deposit -5 and 2 skilling. They have to be positive.\n"
     ]
    }
   ],
   "source": [
    "try:\n",
    "    stash1.deposit(-5, 2)\n",
    "except ValueError as e:\n",
    "    print(e)"
   ]
  },
  {
   "cell_type": "code",
   "execution_count": 40,
   "id": "b5732d4d",
   "metadata": {},
   "outputs": [],
   "source": [
    "stash1.deposit(2, 0)\n"
   ]
  },
  {
   "cell_type": "markdown",
   "id": "c8a15185",
   "metadata": {},
   "source": [
    "More examples"
   ]
  },
  {
   "cell_type": "code",
   "execution_count": 45,
   "id": "b1021568",
   "metadata": {},
   "outputs": [
    {
     "data": {
      "text/plain": [
       "OldCoinStash(owner = 'Ragnar')"
      ]
     },
     "execution_count": 45,
     "metadata": {},
     "output_type": "execute_result"
    }
   ],
   "source": [
    "class OldCoinStash:\n",
    "    def __init__(self, owner):\n",
    "        self.owner = owner\n",
    "\n",
    "        self._riksdaler = 0\n",
    "        self._skilling = 0\n",
    "\n",
    "    def deposit(self, riksdaler, skilling):\n",
    "        if riksdaler < 0 or skilling < 0:\n",
    "            raise ValueError(f\"You tried to deposit {riksdaler} and {skilling} skilling. They have to be positive.\")\n",
    "       \n",
    "        self._riksdaler += riksdaler\n",
    "        self._skilling += skilling\n",
    "\n",
    "    def withdraw(self, riksdaler, skilling):\n",
    "        if riksdaler > self._riksdaler or skilling > self._skilling:\n",
    "            raise ValueError(f\"You cant wothdraw more than you have in your stash\")\n",
    "        \n",
    "        self._riksdaler -= riksdaler\n",
    "        self._skilling -= skilling\n",
    "    \n",
    "    def check_balance(self):\n",
    "        return f\"Coins in stash: {self._riksdaler} riksdaler, {self._skilling} skilling\"\n",
    "    \n",
    "    def __repr__(self):\n",
    "        return f\"OldCoinStash(owner = '{self.owner}')\"\n",
    "    \n",
    "stash1 = OldCoinStash(\"Ragnar\")\n",
    "stash1\n"
   ]
  },
  {
   "cell_type": "code",
   "execution_count": 48,
   "id": "e60b2d4a",
   "metadata": {},
   "outputs": [
    {
     "name": "stdout",
     "output_type": "stream",
     "text": [
      "You tried to deposit -5 and 2 skilling. They have to be positive.\n"
     ]
    }
   ],
   "source": [
    "try:\n",
    "    stash1.deposit(-5, 2)\n",
    "except ValueError as e:\n",
    "    print(e)"
   ]
  },
  {
   "cell_type": "code",
   "execution_count": 49,
   "id": "a498b82a",
   "metadata": {},
   "outputs": [],
   "source": [
    "stash1.deposit(2, 0)"
   ]
  },
  {
   "cell_type": "code",
   "execution_count": 50,
   "id": "e117e9a2",
   "metadata": {},
   "outputs": [
    {
     "data": {
      "text/plain": [
       "'Coins in stash: 32 riksdaler, 1 skilling'"
      ]
     },
     "execution_count": 50,
     "metadata": {},
     "output_type": "execute_result"
    }
   ],
   "source": [
    "stash1.deposit(10,0)\n",
    "stash1.check_balance()"
   ]
  },
  {
   "cell_type": "markdown",
   "id": "fbb5bdf4",
   "metadata": {},
   "source": [
    "# OOP Dokumentation\n",
    "\n",
    "- docstrings \"\"\" \"\"\" to comment what the class do"
   ]
  },
  {
   "cell_type": "code",
   "execution_count": null,
   "id": "e53ece82",
   "metadata": {},
   "outputs": [],
   "source": [
    "class student:\n",
    "    \"\"\"Stedent class for representing students with name, age and active\"\"\"\n",
    "    help(student)"
   ]
  },
  {
   "cell_type": "code",
   "execution_count": 54,
   "id": "0e1440c2",
   "metadata": {},
   "outputs": [],
   "source": [
    "class Student:\n",
    "     \"\"\"Stedent class for representing students with name, age and active\"\"\"\n",
    "\n",
    "     def __init__(self, name: str, age: int | float, active: bool) -> None:\n",
    "          self.name = name\n",
    "          self.age = age\n",
    "          self.active = active\n",
    "\n",
    "     def __repr__(self) -> str:\n",
    "          return f\"student(name={self.name}, age={self.age}, active={self.active})\"\n",
    "     \n",
    "s1 = Student(\"Gore Bord\", 55, True)"
   ]
  },
  {
   "cell_type": "code",
   "execution_count": null,
   "id": "9bba9e96",
   "metadata": {},
   "outputs": [],
   "source": [
    "help(Student)"
   ]
  },
  {
   "cell_type": "code",
   "execution_count": 56,
   "id": "05d7bdee",
   "metadata": {},
   "outputs": [
    {
     "name": "stdout",
     "output_type": "stream",
     "text": [
      "Hello, I'm Kokchun!\n"
     ]
    },
    {
     "data": {
      "text/plain": [
       "34"
      ]
     },
     "execution_count": 56,
     "metadata": {},
     "output_type": "execute_result"
    }
   ],
   "source": [
    "\n",
    "class Person:\n",
    "    \"\"\"\n",
    "    A class representing a person.\n",
    "\n",
    "    Attributes:\n",
    "    - name (str): The name of the person.\n",
    "    - age (int): The age of the person.\n",
    "    - gender (str): The gender of the person ('Male', 'Female', 'Non-binary', etc.).\n",
    "\n",
    "    Methods:\n",
    "    - greet(): Prints a greeting message.\n",
    "    - have_birthday(): Increments the age of the person by one.\n",
    "\n",
    "    Example usage:\n",
    "    >>> person1 = Person(\"Alice\", 25, \"Female\")\n",
    "    >>> person1.greet()\n",
    "    Hello, I'm Alice!\n",
    "    >>> person1.have_birthday()\n",
    "    >>> person1.age\n",
    "    26\n",
    "    \"\"\"\n",
    "    \n",
    "    def __init__(self, name, age, gender):\n",
    "        \"\"\"\n",
    "        Initializes a new instance of the Person class.\n",
    "\n",
    "        Parameters:\n",
    "        - name (str): The name of the person.\n",
    "        - age (int): The age of the person.\n",
    "        - gender (str): The gender of the person.\n",
    "        \"\"\"\n",
    "        self.name = name\n",
    "        self.age = age\n",
    "        self.gender = gender\n",
    "\n",
    "    def greet(self):\n",
    "        \"\"\"Prints a greeting message.\"\"\"\n",
    "        print(f\"Hello, I'm {self.name}!\")\n",
    "\n",
    "    def have_birthday(self):\n",
    "        \"\"\"Increments the age of the person by one.\"\"\"\n",
    "        self.age += 1\n",
    "\n",
    "\n",
    "person = Person(\"Kokchun\", 33, \"M\")\n",
    "person.greet()\n",
    "person.have_birthday()\n",
    "person.age"
   ]
  }
 ],
 "metadata": {
  "kernelspec": {
   "display_name": "Python_DE25_Lisa_Yllander",
   "language": "python",
   "name": "python3"
  },
  "language_info": {
   "codemirror_mode": {
    "name": "ipython",
    "version": 3
   },
   "file_extension": ".py",
   "mimetype": "text/x-python",
   "name": "python",
   "nbconvert_exporter": "python",
   "pygments_lexer": "ipython3",
   "version": "3.12.10"
  }
 },
 "nbformat": 4,
 "nbformat_minor": 5
}
