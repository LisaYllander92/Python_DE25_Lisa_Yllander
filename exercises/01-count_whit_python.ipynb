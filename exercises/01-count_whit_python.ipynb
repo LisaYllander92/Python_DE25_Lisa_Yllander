{
 "cells": [
  {
   "cell_type": "markdown",
   "id": "93ec5065",
   "metadata": {},
   "source": [
    "# 0. Pythagorean theorem(*)"
   ]
  },
  {
   "cell_type": "code",
   "execution_count": 7,
   "id": "c34a6a86",
   "metadata": {},
   "outputs": [
    {
     "name": "stdout",
     "output_type": "stream",
     "text": [
      "5.0\n"
     ]
    }
   ],
   "source": [
    "#a)\n",
    "import math\n",
    "a = 3\n",
    "b = 4\n",
    "hypothenuse = math.sqrt(a**2 + b**2) #math.sqrt avrundar roten ur **2 ger upphöjt i 2\n",
    "print(hypothenuse) \n"
   ]
  },
  {
   "cell_type": "code",
   "execution_count": null,
   "id": "9ef629b9",
   "metadata": {},
   "outputs": [
    {
     "name": "stdout",
     "output_type": "stream",
     "text": [
      "4.9\n"
     ]
    }
   ],
   "source": [
    "#b)\n",
    "c = 7.0\n",
    "a = 5.0\n",
    "b = math.sqrt(c**2 - a**2)\n",
    "print(f\"{b:.1f}\")#:.1f för att få en decimal (1 float)\n"
   ]
  },
  {
   "cell_type": "markdown",
   "id": "a7505e6b",
   "metadata": {},
   "source": [
    "# 1. Classificartion accuracy (*)"
   ]
  },
  {
   "cell_type": "code",
   "execution_count": 14,
   "id": "775c6d4f",
   "metadata": {},
   "outputs": [
    {
     "name": "stdout",
     "output_type": "stream",
     "text": [
      "82.2\n"
     ]
    }
   ],
   "source": [
    "predicts = 365\n",
    "correct_predicts = 300\n",
    "accurancy = (correct_predicts/predicts*100) #antal rätt förutsägelser delas med antal förutsägelser. \n",
    "#Gångar med 100 för att få procent\n",
    "print(f\"{accurancy:.1f}\")"
   ]
  },
  {
   "cell_type": "markdown",
   "id": "e81071e6",
   "metadata": {},
   "source": [
    "# 2. Classification accuracy (*)\n"
   ]
  },
  {
   "cell_type": "code",
   "execution_count": null,
   "id": "c93d8d25",
   "metadata": {},
   "outputs": [
    {
     "name": "stdout",
     "output_type": "stream",
     "text": [
      "98.7 %\n"
     ]
    }
   ],
   "source": [
    "TP = 2\n",
    "FP = 2\n",
    "FN = 11\n",
    "TN = 985\n",
    "\n",
    "accuracy = (TP+TN)/(TP+TN+FP+FN)*100 #behöver parenteserna för att den ska räkna ut i rätt ordning. \n",
    "print(accuracy,\"%\")"
   ]
  },
  {
   "cell_type": "markdown",
   "id": "07df1b73",
   "metadata": {},
   "source": [
    "# 3. File metadata - format print (*)"
   ]
  },
  {
   "cell_type": "code",
   "execution_count": 21,
   "id": "9b28c715",
   "metadata": {},
   "outputs": [
    {
     "name": "stdout",
     "output_type": "stream",
     "text": [
      " === File metadata === \n",
      " Filename: sales_data.csv \n",
      " Size (MB): 24.7 \n",
      " Last Modifies Year: 2023\n"
     ]
    }
   ],
   "source": [
    "filename = \"sales_data.csv\"\n",
    "size = 24.7\n",
    "year = 2023\n",
    "\n",
    "print(f\" === File metadata === \\n Filename: {filename} \\n Size (MB): {size} \\n Last Modifies Year: {year}\")"
   ]
  },
  {
   "cell_type": "markdown",
   "id": "f192803b",
   "metadata": {},
   "source": [
    "# 4. Unit converter - inch to cm (*)"
   ]
  },
  {
   "cell_type": "code",
   "execution_count": 26,
   "id": "c004375d",
   "metadata": {},
   "outputs": [
    {
     "name": "stdout",
     "output_type": "stream",
     "text": [
      "Your TV is 25.4 cm\n"
     ]
    }
   ],
   "source": [
    "screen = int(input(\"Enter your inch on TV: \"))\n",
    "cm = screen * 2.54\n",
    "print(f\"Your TV is {cm} cm\")"
   ]
  },
  {
   "cell_type": "markdown",
   "id": "81c0ebf7",
   "metadata": {},
   "source": [
    "# 5. Count characters in a text (*)"
   ]
  },
  {
   "cell_type": "code",
   "execution_count": null,
   "id": "9db48f64",
   "metadata": {},
   "outputs": [
    {
     "name": "stdout",
     "output_type": "stream",
     "text": [
      "Your text contains: 19 characters, including spaces.\n"
     ]
    }
   ],
   "source": [
    "text = (input(\"Wright a text: \"))\n",
    "print(\"Your text contains:\", len(text), \"characters, including spaces.\")\n",
    "#när du använder len() ska du inte använda {}. Kom ihåg komma-tecken! "
   ]
  },
  {
   "cell_type": "markdown",
   "id": "632ea004",
   "metadata": {},
   "source": [
    "# 6. Data types (*)"
   ]
  },
  {
   "cell_type": "code",
   "execution_count": null,
   "id": "61396c16",
   "metadata": {},
   "outputs": [
    {
     "name": "stdout",
     "output_type": "stream",
     "text": [
      "name = 'Lisa' has type <class 'str'>\n",
      "age = 33 has type <class 'int'>\n",
      "height = 60.5 has type <class 'float'>\n",
      "is_cool = True has type <class 'bool'>\n",
      "animals = ['mices', 'bunnies', 'chincillas', 'cats'] has type <class 'list'>\n"
     ]
    }
   ],
   "source": [
    "name = \"Lisa\" #string\n",
    "age = 33 #int\n",
    "height = 60.5 #float\n",
    "is_cool = True #bool\n",
    "animals = [\"mices\", \"bunnies\", \"chincillas\", \"cats\"] #list\n",
    "\n",
    "print(f\"{name = }\", \"has type\", type(name))\n",
    "print(f\"{age = }\", \"has type\", type(age))\n",
    "print(f\"{height = }\", \"has type\", type(height))\n",
    "print(f\"{is_cool = }\", \"has type\", type(is_cool))\n",
    "print(f\"{animals = }\", \"has type\", type(animals))\n",
    "\n"
   ]
  },
  {
   "cell_type": "markdown",
   "id": "597ab254",
   "metadata": {},
   "source": [
    "#mer kompakt lösning (med hjälp av AI)\n",
    "förstår inte helt men ville se alternativa lösningar"
   ]
  },
  {
   "cell_type": "code",
   "execution_count": 35,
   "id": "30ccdae9",
   "metadata": {},
   "outputs": [
    {
     "name": "stdout",
     "output_type": "stream",
     "text": [
      "name = Lisa, has type <class 'str'>\n",
      "age = 33, has type <class 'int'>\n",
      "height = 60.5, has type <class 'float'>\n",
      "is_cool = True, has type <class 'bool'>\n",
      "animals = ['mices', 'bunnies', 'chincillas', 'cats'], has type <class 'list'>\n"
     ]
    }
   ],
   "source": [
    "# Definiera värdena i en lista med tuples (variabel, värde)\n",
    "variables = [\n",
    "    (\"name\", \"Lisa\"),\n",
    "    (\"age\", 33),\n",
    "    (\"height\", 60.5),\n",
    "    (\"is_cool\", True),\n",
    "    (\"animals\", [\"mices\", \"bunnies\", \"chincillas\", \"cats\"])\n",
    "]\n",
    "\n",
    "# Loopar genom alla variabler och skriver ut deras värde och typ\n",
    "for var, value in variables:\n",
    "    print(f\"{var} = {value}, has type {type(value)}\")"
   ]
  },
  {
   "cell_type": "markdown",
   "id": "30df7264",
   "metadata": {},
   "source": [
    "# 7. Theory"
   ]
  },
  {
   "cell_type": "markdown",
   "id": "edbbe1e0",
   "metadata": {},
   "source": [
    "a) What is the difference between input() and print() in Python? \n",
    "- input() is used to collect data from user, while print() is an output that print something put on the screen. \n",
    "\n",
    "b) What data type does the input() function return by default? How can you use it to get numeric input? \n",
    "- input() returns a type string (str), if you want an numeric input you need to specify what type you want. For example: int(input).\n",
    "\n",
    "c) Explain how formatted string literals (f-strings) improve readability in output statements. Give an example. \n",
    "- Whit an f-string you can combine text and variables and also put expressions directly in the string. See examle below.\n",
    "An f-string makes the code more readable and maintainable. \n",
    "\n",
    "d - e) Can a variable change its data type during runtime in Python? Show an example. What does it mean that Python is \"dynamically typed\"? How is that different from statically typed languages? \n",
    "- Yes, you can change a variables data type during runtime. Thats because python is an dynamically typed language, witch means that a variable is determined at runtime. Python \"knows\" what type the variable is based on what value its given. See example below. A statically typed language stands in contrast to a dynamically typed language, were a data type must be specified at compilation and can't be change after that. \n"
   ]
  },
  {
   "cell_type": "code",
   "execution_count": 38,
   "id": "d5a6f68f",
   "metadata": {},
   "outputs": [
    {
     "name": "stdout",
     "output_type": "stream",
     "text": [
      "My name is Lisa and i am 33 years old.\n",
      "In two year i'll be 35 years.\n"
     ]
    }
   ],
   "source": [
    "#examle c) f-string\n",
    "name = \"Lisa\"\n",
    "age= 33\n",
    "print(f\"My name is {name} and i am {age} years old.\" ) \n",
    "print(f\"In two year i'll be {age + 2} years.\" )"
   ]
  },
  {
   "cell_type": "code",
   "execution_count": null,
   "id": "f35deddd",
   "metadata": {},
   "outputs": [
    {
     "name": "stdout",
     "output_type": "stream",
     "text": [
      "15\n",
      "Anna\n",
      "1.32\n"
     ]
    }
   ],
   "source": [
    "#examle d) change data type\n",
    "a = 15 #int\n",
    "print(a)\n",
    "\n",
    "a = \"Anna\" #str\n",
    "print(a)\n",
    "\n",
    "a = 1.32 #float\n",
    "print(a)"
   ]
  },
  {
   "cell_type": "markdown",
   "id": "959e2584",
   "metadata": {},
   "source": [
    "# Glossary"
   ]
  },
  {
   "cell_type": "markdown",
   "id": "a3ceb4b3",
   "metadata": {},
   "source": [
    "\n",
    "**terminology\t        **explanation\n",
    "\n",
    "data type\t        - a data type defines what value a variable are. Ex (str, int, list)\n",
    "variable\t        - a variable is like a container were you can store data. Its named and can consist of different data types.\n",
    "assignment\t        - assignment means that you assign a value to a variable, this is done by the \"=\"-sign. Ex a = 5.\n",
    "dynamically typed   - dynamically typed means that a variables data type doesn't need to be specified at declaration and can be changed during runtime.\n",
    "input\t            - input is data that is put in to the program, usually by the user.\n",
    "output\t            - output is the \"result\" thats given back to the user. It's what prints out on the screen. \n",
    "type casting\t    - type casting is the process when you convert a variable from one data type to an other. \n",
    "boolean\t            - a boolean is an data type that only generates two values: \"True\" or \"False\". \n",
    "string\t            - a string can be a sentence with different characters (letters, special characters, numbers etc) that is enclosed by either \" \" or ' '. \n",
    "f-string\t        - an f-string is an formatted string witch means that you can combine text, variables and expressions in the same string.\n",
    "indentation\t        - indentation (indrag) is used in Python (insted of {}) to mark codeblocks and structure were your code is supposed to be (if-statements, for-loops etc) for it to work. \n",
    "convention\t        - convention (kodkonventioner) is recommended rules and guidlines on how code should be written for it to be readable, uniformly and maintainable, for yourself and others. PEP 8 (Python Enhancement Proposal 8) is the convention for Python and contains guidlines for:\n",
    "- nameing variables anf functions\n",
    "- indentation\n",
    "- empty lines between functions\n",
    "- lines maximum lenght \n",
    "- space before and after operators"
   ]
  },
  {
   "cell_type": "markdown",
   "id": "d777896e",
   "metadata": {},
   "source": []
  }
 ],
 "metadata": {
  "kernelspec": {
   "display_name": "Python_DE25_Lisa_Yllander",
   "language": "python",
   "name": "python3"
  },
  "language_info": {
   "codemirror_mode": {
    "name": "ipython",
    "version": 3
   },
   "file_extension": ".py",
   "mimetype": "text/x-python",
   "name": "python",
   "nbconvert_exporter": "python",
   "pygments_lexer": "ipython3",
   "version": "3.12.10"
  }
 },
 "nbformat": 4,
 "nbformat_minor": 5
}
