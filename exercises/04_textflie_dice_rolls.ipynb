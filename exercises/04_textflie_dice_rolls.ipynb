{
 "cells": [
  {
   "cell_type": "markdown",
   "id": "aaffb166",
   "metadata": {},
   "source": [
    "## 8. Dice rolls (*)\n",
    "Create a textfile called dice_rolls.txt using Python. Also for each subtask, write adequate headers.\n",
    "\n",
    "  a)   Simulate 20 dice rolls and write them to your textfile. (*)"
   ]
  },
  {
   "cell_type": "code",
   "execution_count": 176,
   "id": "f24e24b0",
   "metadata": {},
   "outputs": [
    {
     "name": "stdout",
     "output_type": "stream",
     "text": [
      "[6, 6, 4, 4, 2, 5, 3, 2, 2, 6, 6, 5, 6, 4, 2, 1, 1, 3, 5, 1]\n"
     ]
    }
   ],
   "source": [
    "import random as rnd #import random module\n",
    "\n",
    "dice_list = []\n",
    "##dice_str = \"\"\n",
    "\n",
    "dice_rolled = 20 #simulate 20 dice rolls\n",
    "for d in range(dice_rolled): #store the simulated dice rolls in variable 'd'\n",
    "    dice = rnd.randint(1,6) #simulate random numbers between 1-6\n",
    "    dice_list.append(dice) #add the rolled dices to a list\n",
    "    ##for dice_v in dice_list: #loop through the list and save to variabel 'i',\n",
    "        #to convert the list into a string\n",
    "        ##dice_str = dice_v #save simulated dice rolls in string variable\n",
    "print(dice_list)"
   ]
  },
  {
   "cell_type": "markdown",
   "id": "680ea41b",
   "metadata": {},
   "source": [
    "### Create a text-file\n",
    "\n",
    "1. create a \"file path\"-variable and choose the name for your file\n",
    "2. create a text file using the `with open` statement (automatacally closes)\n",
    "3. select what you want to do - 'w' for write\n",
    "4. open it as a 'variabel' "
   ]
  },
  {
   "cell_type": "code",
   "execution_count": 185,
   "id": "b0486b8d",
   "metadata": {},
   "outputs": [
    {
     "name": "stdout",
     "output_type": "stream",
     "text": [
      "txt file 'dice_rolls.txt' was created, and your awesome!\n"
     ]
    }
   ],
   "source": [
    "txt_data = \"I like pizza\" #a test string to put into my txt file\n",
    "\n",
    "#file_path = \"dice_rolls.txt\" #make a file path and put in the name of your txt file\n",
    "\n",
    "try: #use the try except to catch problems \n",
    "    #use statement 'with open' to create and aotomatacally close the file (in the end)\n",
    "    with open(\"dice_rolls.txt\", 'w') as f:\n",
    "        ##dice_str = str(dice_list) #convert the list from above to a string\n",
    "        # create a header\n",
    "        f.write(\"This is 20 random simulated dice rolls: \\n\")\n",
    "        f.write(\"~~~~~~~~~~~~~~~~~~~~~~~~~~~~~~~~~~~~~~~\\n\")\n",
    "        #convert the int-list to a string and\n",
    "        #use \" \".join to add a space\n",
    "        f.write(\" \".join(str(num) for num in dice_list)) #use the write funktion to put in your string to the txt file\n",
    "        #remember! you can't write a int to the txt file\n",
    "        print(f\"txt file '{file_path}' was created, and your awesome!\")\n",
    "except FileExistsError:\n",
    "    print(\"that file already exists\")"
   ]
  },
  {
   "cell_type": "markdown",
   "id": "e164d531",
   "metadata": {},
   "source": [
    "  b)   Sort the dice rolls from a) and write them to a separate row in the same textfile. (*)"
   ]
  },
  {
   "cell_type": "code",
   "execution_count": 186,
   "id": "d8f6a066",
   "metadata": {},
   "outputs": [
    {
     "name": "stdout",
     "output_type": "stream",
     "text": [
      "The list is sorted and in seperate rows\n"
     ]
    }
   ],
   "source": [
    "#open file with 'a' to add text, not 'w' to overwrite\n",
    "with open(\"dice_rolls.txt\", 'a') as f:\n",
    "    #loop through the lite so every number becomes a seperated item\n",
    "    dice_list.sort()\n",
    "    f.write(\"\\nSorted and in seperated rows: \\n\")\n",
    "    for num in dice_list: \n",
    "        #convert to a string and add '\\n' for new row\n",
    "        f.write(str(num) +'\\n')\n",
    "print(\"The list is sorted and in seperate rows\")"
   ]
  },
  {
   "cell_type": "markdown",
   "id": "62073138",
   "metadata": {},
   "source": [
    "  c)   Count the number of fours in the dice rolls and write them to a separate row in the same textfile. (*)"
   ]
  },
  {
   "cell_type": "code",
   "execution_count": 187,
   "id": "f266b37d",
   "metadata": {},
   "outputs": [
    {
     "name": "stdout",
     "output_type": "stream",
     "text": [
      "We added number of fours to the file\n"
     ]
    }
   ],
   "source": [
    "with open(\"dice_rolls.txt\", 'a') as f:\n",
    "    f.write(\"Numbers of fours in simulated dice rolls: \\n\")\n",
    "    #use the count() method the count number of fourse in the list\n",
    "    sum_fours = dice_list.count(4) \n",
    "    f.write(f\"Out of 20 dice rolls, {sum_fours} of them where fours\\n\")\n",
    "print(\"We added number of fours to the file\")\n"
   ]
  }
 ],
 "metadata": {
  "kernelspec": {
   "display_name": "Python_DE25_Lisa_Yllander",
   "language": "python",
   "name": "python3"
  },
  "language_info": {
   "codemirror_mode": {
    "name": "ipython",
    "version": 3
   },
   "file_extension": ".py",
   "mimetype": "text/x-python",
   "name": "python",
   "nbconvert_exporter": "python",
   "pygments_lexer": "ipython3",
   "version": "3.12.10"
  }
 },
 "nbformat": 4,
 "nbformat_minor": 5
}
