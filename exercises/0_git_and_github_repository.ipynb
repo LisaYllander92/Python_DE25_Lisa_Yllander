{
 "cells": [
  {
   "cell_type": "markdown",
   "id": "853ca199",
   "metadata": {},
   "source": [
    "# 2. Theoretical exercises\n",
    "a) What is the difference between git and github? \n",
    "- git is a local version control, helps you save different versions of your prodject. Github is like a cloud (a central codebase online) where you can save (push) the committed version of your prodject.\n",
    "b) What is the purpose of .gitignore file?\n",
    "- the purpose of .gitignore file is that it \"cuts out\"/ignores the files or directories that you don't want by control version. This prevent cluttering the repository, avoids committing sensitive information and ensure consistency across environments. \n",
    "c) Why is it a good idea to work with git and github?\n",
    "- by working with git you can save different versions of your prodject, witch means that you can track changes over time, redo misstakes by going back to an earlier version and also see who has made changes, what and where.\n"
   ]
  },
  {
   "cell_type": "markdown",
   "id": "d0f36bbd",
   "metadata": {},
   "source": [
    "# Glossery\n",
    "\n",
    "git\t            - local version control\n",
    "github\t        - a central codebase online, the largest host of source code in the world\n",
    "version control\t- controls different version of a prodject, it can track changes over time\n",
    "backup\t        - a way to save a copy at one or multible places to make sure nothing goes unsaved/gets lost.\n",
    "gitignore\t    - tells git witch files/folders to ignore\n",
    "commit\t        - a \"checkpoint\" where you want to save your current version  \n",
    "pull\t        - gets the version you want from github\n",
    "clone\t        - copy\n",
    "cd\t            - change directory\n",
    "ls\t            - list\n",
    "cd ..           - takes you back one step at a time from where in your directory you are at that point"
   ]
  }
 ],
 "metadata": {
  "language_info": {
   "name": "python"
  }
 },
 "nbformat": 4,
 "nbformat_minor": 5
}
