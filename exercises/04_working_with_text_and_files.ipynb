{
 "cells": [
  {
   "cell_type": "markdown",
   "id": "197d7ee3",
   "metadata": {},
   "source": [
    "### 0. Counting words (*)"
   ]
  },
  {
   "cell_type": "code",
   "execution_count": null,
   "id": "a240e5cb",
   "metadata": {},
   "outputs": [
    {
     "name": "stdout",
     "output_type": "stream",
     "text": [
      "17\n"
     ]
    }
   ],
   "source": [
    "count_words = \"\"\"A picture says more than a thousand words, \n",
    "a matematical formula says more than a thousand pictures.\"\"\"\n",
    "num_words = len(count_words.split())\n",
    "#.split() devides the string into a list of words, based on spaces\n",
    "#the len()-function counts numbers of elements(words) in the list\n",
    "print(num_words)"
   ]
  },
  {
   "cell_type": "markdown",
   "id": "8f2bfca8",
   "metadata": {},
   "source": [
    "### 1. Count letters (*)"
   ]
  },
  {
   "cell_type": "code",
   "execution_count": null,
   "id": "5bcd8054",
   "metadata": {},
   "outputs": [
    {
     "name": "stdout",
     "output_type": "stream",
     "text": [
      "BaNanpannKaka has 13 letters.\n",
      "numbers of capital letters: 3, numbers of small letters: 10\n"
     ]
    }
   ],
   "source": [
    "count_letters = input(\"Enter a word: \")\n",
    "num_letters = len(count_letters) #len() counts characters/letters\n",
    "up_lett = sum(1 for lett in count_letters if lett.isupper())\n",
    "# loops through the list and for every upper letter returns \"1\" to sum\n",
    "low_lett = sum(1 for lett in count_letters if lett.islower())\n",
    "print(f\"{count_letters} has {num_letters} letters.\")\n",
    "print(f\"numbers of capital letters: {up_lett}, numbers of small letters: {low_lett}\")"
   ]
  },
  {
   "cell_type": "markdown",
   "id": "4754e450",
   "metadata": {},
   "source": [
    "### 2. Palindrome (*)"
   ]
  },
  {
   "cell_type": "code",
   "execution_count": null,
   "id": "70d0dfb8",
   "metadata": {},
   "outputs": [
    {
     "name": "stdout",
     "output_type": "stream",
     "text": [
      "Your word anna is an palindrome\n"
     ]
    }
   ],
   "source": [
    "user_char = input(\"Enter a word: \").lower() \n",
    "#.lower() so it doesn't matter if the input is with small or capital letters\n",
    "\n",
    "if user_char[::-1] == user_char:\n",
    "# [::-1] reverses the string and checks if it's an palindrome by giving back True or False\n",
    "    print(f\"Your word {user_char} is an palindrome\")\n",
    "else:\n",
    "    print(f\"Your word {user_char} is not a palindrome\")\n"
   ]
  },
  {
   "cell_type": "markdown",
   "id": "919f88b2",
   "metadata": {},
   "source": [
    "### 3. Vowels (vokaler) (**)\n",
    "Count the number of vowels in this sentence: \"Pure mathematics is, in its way, the poetry of logical ideas\""
   ]
  },
  {
   "cell_type": "code",
   "execution_count": 43,
   "id": "0cc64df6",
   "metadata": {},
   "outputs": [
    {
     "name": "stdout",
     "output_type": "stream",
     "text": [
      "22\n"
     ]
    }
   ],
   "source": [
    "vow_sent = \"Pure mathamatics is, in its way, the poerty of logical ideas\"\n",
    "vowels = \"aeyuioöäå\" #create a variable with vowels\n",
    "tot_vow = 0 #create a variable to store vowels from sentence\n",
    "for v in vow_sent:#loop through the sentence \n",
    "    if v in vowels:#and see if any letters is an vowel\n",
    "        tot_vow += 1#if so, add it to tot_vow\n",
    "print(tot_vow)\n"
   ]
  },
  {
   "cell_type": "markdown",
   "id": "8f944041",
   "metadata": {},
   "source": [
    "### 4. Encryption (**)\n",
    "Let the user input a word and:\n",
    "\n",
    "  a)   encrypt the message by replacing each letter with the next letter. If the letter is in the end of the alphabet, use the first letter instead.\n",
    "\n",
    "e.g. in Swedish: \"höst\" \n",
    "→\n",
    " \"iatu\""
   ]
  },
  {
   "cell_type": "code",
   "execution_count": 63,
   "id": "8c43b426",
   "metadata": {},
   "outputs": [
    {
     "name": "stdout",
     "output_type": "stream",
     "text": [
      " your old word was bajs, your new word is: cbkt\n"
     ]
    }
   ],
   "source": [
    "#start by creating a variable containing all the letetrs in the alphabet\n",
    "alphabet = \"abcdefghijklmnopqrstuvwxyzåäö\"\n",
    "word_ = input(\"Enter a word:\").lower()#save users word in variable\n",
    "\n",
    "new_word = \"\" \n",
    "#create an empty variable to store new word\n",
    "\n",
    "for letter in word_: #loop through every letter in user word and store in variable (letter)\n",
    "    if letter in alphabet:\n",
    "#compare letters from user word whit alphabet\n",
    "        i_alphabet = alphabet.index(letter)\n",
    "#getting the index for every letter in users word\n",
    "        new_letter = alphabet[(i_alphabet + 1) % len(alphabet)]\n",
    "#create a new variable to store the new letters\n",
    "# (i_alphabet + 1) moves one step forward  \n",
    "# % len(alphabet) starts from the beginning if the word contains an 'ö'      \n",
    "        new_word += new_letter\n",
    "#adds the new letter in the encrypt string\n",
    "\n",
    "print(f\" your old word was {word_}, your new word is: {new_word}\")    \n"
   ]
  },
  {
   "cell_type": "markdown",
   "id": "34dde5b3",
   "metadata": {},
   "source": [
    "### 5. Find and fix errors (*)\n",
    "Find the errors in this code to compute the distance between the point \n",
    "(\n",
    "x\n",
    ",\n",
    "y\n",
    ")\n",
    " and the origin in a cartesian coordinate system.\n",
    "\n",
    " impor numpy as np\n",
    "\n",
    "def distance(x,y)\n",
    "    reurn np.sqrt(x+y)\n",
    "\n",
    "print(distance([0.5, 0.5]))\n"
   ]
  },
  {
   "cell_type": "code",
   "execution_count": null,
   "id": "0c255a4d",
   "metadata": {},
   "outputs": [
    {
     "name": "stdout",
     "output_type": "stream",
     "text": [
      "0.7071067811865476\n"
     ]
    }
   ],
   "source": [
    "import numpy as np #missing an t (syntax error)\n",
    "\n",
    "def distance(x,y):#missing kolon\n",
    "    return np.sqrt(x**2 + y**2) #missing a t (syntax error) \n",
    "\n",
    "print(distance(0.5, 0.5)) #not as a list\n"
   ]
  },
  {
   "cell_type": "markdown",
   "id": "81fa7ea6",
   "metadata": {},
   "source": [
    "### 6. Find and fix errors (*)\n",
    "Find the errors in this code. Just change the function, don't touch the test program.\n",
    "\n",
    "def is_fourdigit(number):\n",
    "    if number//1000 < 10\n",
    "        return true\n",
    "    else\n",
    "        return false\n",
    "\n",
    "#### test program\n",
    "test_numbers = [231, 3124, -4124, -1000,-999, 1001, 10000, -10000, 999]\n",
    "\n",
    "for number in test_numbers:\n",
    "    if is_fourdigit(number):\n",
    "        print(f\"{number} is four-digit\")\n",
    "    else:\n",
    "        print(f\"{number} is not four-digit\")"
   ]
  },
  {
   "cell_type": "code",
   "execution_count": 2,
   "id": "bf967d1c",
   "metadata": {},
   "outputs": [
    {
     "name": "stdout",
     "output_type": "stream",
     "text": [
      "231 is not four-digit\n",
      "3124 is four-digit\n",
      "-4124 is four-digit\n",
      "-1000 is four-digit\n",
      "-999 is not four-digit\n",
      "1001 is four-digit\n",
      "10000 is not four-digit\n",
      "-10000 is not four-digit\n",
      "999 is not four-digit\n"
     ]
    }
   ],
   "source": [
    "\n",
    "def is_fourdigit(number):\n",
    "    if len(str(abs(number))) == 4:\n",
    " #len = lenght of number, str = meake it a string, \n",
    " # abs = returns an absolute number, even if its a negative\n",
    "        return True\n",
    "    else:\n",
    "        return False\n",
    "\n",
    "# test program\n",
    "test_numbers = [231, 3124, -4124, -1000,-999, 1001, 10000, -10000, 999]\n",
    "\n",
    "for number in test_numbers:\n",
    "    if is_fourdigit(number):\n",
    "        print(f\"{number} is four-digit\")\n",
    "    else:\n",
    "        print(f\"{number} is not four-digit\")\n"
   ]
  },
  {
   "cell_type": "markdown",
   "id": "8f3e05ff",
   "metadata": {},
   "source": [
    "### 7. Tram (*)"
   ]
  },
  {
   "cell_type": "code",
   "execution_count": 128,
   "id": "56cc4d71",
   "metadata": {},
   "outputs": [
    {
     "name": "stdout",
     "output_type": "stream",
     "text": [
      "Sorry, you need to insert a number\n"
     ]
    }
   ],
   "source": [
    "ticket_cost = 43\n",
    "month_card = 1060\n",
    "\n",
    "while True:\n",
    "    try:\n",
    "        times_tram = int(input(\"How many times a month do you take the tram? \"))\n",
    "        total_cost = times_tram * ticket_cost    \n",
    "        \n",
    "        if total_cost < month_card: \n",
    "            print(f\"Your total cost per month is {total_cost} kr,\\nand the cost for a monthly card is: {month_card} kr, keep buying tickets!\")\n",
    "        else:\n",
    "            print(f\"Now you're spending: {total_cost} kr,\\nyou should by a monthly card for: {month_card} kr\")\n",
    "        break #break the loop if everything works\n",
    "    except ValueError:\n",
    "        print(\"Sorry, you need to insert a number\")\n",
    "        try_again = input(\"Want to try again? (y for yes)\").lower()\n",
    "        if try_again != 'y':\n",
    "            break    \n"
   ]
  },
  {
   "cell_type": "markdown",
   "id": "e0ca8757",
   "metadata": {},
   "source": [
    "### 8. Dice rolls (*)\n",
    "See seperate file"
   ]
  },
  {
   "cell_type": "markdown",
   "id": "d8945ff3",
   "metadata": {},
   "source": [
    "### 9. test results (*)\n",
    "Read in the file test_result.txt (located in the data folder of this repo) in Python.\n",
    "\n",
    "  a)   Print out the text in the terminal (*)"
   ]
  },
  {
   "cell_type": "code",
   "execution_count": 7,
   "id": "994a43e2",
   "metadata": {},
   "outputs": [
    {
     "name": "stdout",
     "output_type": "stream",
     "text": [
      "Original content:\n",
      "Adam Gustafsson 25\n",
      "Emil Johansson 23\n",
      "Sven Erik Karlsson 13\n",
      "Ove Karlsten 41\n",
      "Emma Boden 32\n",
      "Ida HÃ¥kansson 23\n",
      "Ella Ester 41\n",
      "Hanna Karlsson 23 \n",
      "Johan Johansson 42\n",
      "Sven Erik Lundin 39\n",
      "BjÃ¶rn BjÃ¶rnsson 39\n",
      "Karl Karlsson 32\n",
      "Bose Bosseson 32\n",
      "HÃ¥kan HÃ¥kanson 24\n",
      "Jonas Jonasson 31\n",
      "Erik Eriksson 31\n",
      "Gore Bord 55\n",
      "Jakob Kallander 65\n",
      "Fredrika Ulven 10\n"
     ]
    }
   ],
   "source": [
    "# find the file in repo in 'data folder' or in code #\n",
    "# go to 'raw' file and save to your computer \n",
    "# open file qualities to find its position \n",
    "test_results = \"C:/Users/lisay/OneDrive/Desktop/test_result.txt\" \n",
    "with open(test_results, 'r') as f: \n",
    "    content = f.read() \n",
    "    print(f\"Original content:\\n{content}\") \n",
    "    "
   ]
  },
  {
   "cell_type": "code",
   "execution_count": 14,
   "id": "ec17285e",
   "metadata": {},
   "outputs": [
    {
     "name": "stdout",
     "output_type": "stream",
     "text": [
      "Adam Gustafsson 25\n",
      "Emil Johansson 23\n",
      "Sven Erik Karlsson 13\n",
      "Ove Karlsten 41\n",
      "Emma Boden 32\n",
      "Ida HÃ¥kansson 23\n",
      "Ella Ester 41\n",
      "Hanna Karlsson 23 \n",
      "Johan Johansson 42\n",
      "Sven Erik Lundin 39\n",
      "BjÃ¶rn BjÃ¶rnsson 39\n",
      "Karl Karlsson 32\n",
      "Bose Bosseson 32\n",
      "HÃ¥kan HÃ¥kanson 24\n",
      "Jonas Jonasson 31\n",
      "Erik Eriksson 31\n",
      "Gore Bord 55\n",
      "Jakob Kallander 65\n",
      "Fredrika Ulven 10\n"
     ]
    }
   ],
   "source": [
    "#to save into another file\n",
    "with open(test_results, 'w') as f_write:\n",
    "    f_write.write(content)\n",
    "    f_write.write(\"\\n\\n\")\n",
    "    print(content)"
   ]
  },
  {
   "cell_type": "markdown",
   "id": "c863ec4e",
   "metadata": {},
   "source": [
    "  b)   Create new rows in the same file and write the people and their corresponding scores in alphabetical order. (*)"
   ]
  },
  {
   "cell_type": "code",
   "execution_count": 15,
   "id": "0afb08ec",
   "metadata": {},
   "outputs": [
    {
     "name": "stdout",
     "output_type": "stream",
     "text": [
      "\n",
      "Original lines: \n",
      " ['Adam Gustafsson 25', 'Emil Johansson 23', 'Sven Erik Karlsson 13', 'Ove Karlsten 41', 'Emma Boden 32', 'Ida HÃ¥kansson 23', 'Ella Ester 41', 'Hanna Karlsson 23 ', 'Johan Johansson 42', 'Sven Erik Lundin 39', 'BjÃ¶rn BjÃ¶rnsson 39', 'Karl Karlsson 32', 'Bose Bosseson 32', 'HÃ¥kan HÃ¥kanson 24', 'Jonas Jonasson 31', 'Erik Eriksson 31', 'Gore Bord 55', 'Jakob Kallander 65', 'Fredrika Ulven 10', '']\n",
      "\n",
      "Lines sorted: \n",
      "['', 'Adam Gustafsson 25', 'BjÃ¶rn BjÃ¶rnsson 39', 'Bose Bosseson 32', 'Ella Ester 41', 'Emil Johansson 23', 'Emma Boden 32', 'Erik Eriksson 31', 'Fredrika Ulven 10', 'Gore Bord 55', 'Hanna Karlsson 23 ', 'HÃ¥kan HÃ¥kanson 24', 'Ida HÃ¥kansson 23', 'Jakob Kallander 65', 'Johan Johansson 42', 'Jonas Jonasson 31', 'Karl Karlsson 32', 'Ove Karlsten 41', 'Sven Erik Karlsson 13', 'Sven Erik Lundin 39'] \n",
      "\n",
      "File updated and sorted alphabetically\n"
     ]
    }
   ],
   "source": [
    "\n",
    "#open the file in read-mode\n",
    "with open(test_results, 'r') as f:\n",
    "    # reads in every line and deletes newlines \n",
    "    # gives back a list\n",
    "    lines = f.read().splitlines()\n",
    "print(f\"\\nOriginal lines: \\n {lines}\")\n",
    "\n",
    "# sorts every line in list alphabetically\n",
    "lines_sorted = sorted(lines)\n",
    "\n",
    "print(f\"\\nLines sorted: \\n{lines_sorted} \\n\")\n",
    "    \n",
    "#now, open file in append-mode \n",
    "with open(test_results, 'a') as f:\n",
    "    f.write(\"\")\n",
    "    f.write(\"\\nList of names and scores sorten alphabetically:\\n\")\n",
    "    f.write(\"--------------------------------------------\\n\")\n",
    "    for line in lines_sorted:\n",
    "        f.write(line + \"\\n\")\n",
    "\n",
    "print(\"File updated and sorted alphabetically\")\n"
   ]
  },
  {
   "cell_type": "markdown",
   "id": "ef9a9296",
   "metadata": {},
   "source": [
    "  c)   Create additional rows in the same file and sort the people after their grades. The grade limits are: (**)"
   ]
  },
  {
   "cell_type": "code",
   "execution_count": 17,
   "id": "8ef47d27",
   "metadata": {},
   "outputs": [],
   "source": [
    "#start by creating lists to store different socres\n",
    "grade_f = []\n",
    "grade_e = []\n",
    "grade_d = []\n",
    "grade_c = []\n",
    "grade_b = []\n",
    "grade_a = []\n",
    "\n",
    "#go through every line in list\n",
    "for line in lines:\n",
    "    #use split() to devied [\"name\", \"lastname\", \"score\"]\n",
    "    parts = line.split()\n",
    "    if len(parts) < 2:\n",
    "        continue #skips empty or broken lines\n",
    "\n",
    "    try:\n",
    "        #take the last part (score) and convert to int\n",
    "        score = int(parts[-1])\n",
    "        #use join-function to combine fist and last name to one\n",
    "        name = \" \".join(parts[:-1]) \n",
    "    except ValueError:\n",
    "        print(\"something went wrong\")\n",
    "        continue\n",
    "\n",
    "    #sort person to list based on score\n",
    "    if score < 20:\n",
    "        grade_f.append((name, score))\n",
    "    elif 20 <= score <= 29:\n",
    "        grade_e.append((name, score))\n",
    "    elif 30 <= score <= 39:\n",
    "        grade_d.append((name, score))\n",
    "    elif 40 <= score <= 49:\n",
    "        grade_c.append((name, score))\n",
    "    elif 50 <= score <= 59:\n",
    "        grade_b.append((name, score))\n",
    "    else:\n",
    "        grade_a.append((name, score))\n",
    "\n",
    "\n",
    "\n",
    "with open(test_results, 'a') as f:\n",
    "    f.write(\"\\nPeople divided in grade:\\n\")\n",
    "    f.write(\"~~~~~~~~~~~~~~~~~~~~~~~\\n\")\n",
    "\n",
    "    f.write(f\"\\nPeople with grade F, score under 20:\\n\")\n",
    "    f.write(\"\\n\".join(str(gf) for gf in grade_f))\n",
    "    f.write(\"\\n\\n\")\n",
    "\n",
    "    f.write(f\"People with grade E, score between 20-29:\\n\")\n",
    "    f.write(\"\\n\".join(str(ge) for ge in grade_e))\n",
    "    f.write(\"\\n\\n\")\n",
    "\n",
    "    f.write(f\"People with grade D, score between 30-39:\\n\")\n",
    "    f.write(\"\\n\".join(str(gd) for gd in grade_d))\n",
    "    f.write(\"\\n\\n\")\n",
    "\n",
    "    f.write(f\"People with grade C, score between 40-49:\\n\")\n",
    "    f.write(\"\\n\".join(str(gc) for gc in grade_c))\n",
    "    f.write(\"\\n\\n\")\n",
    "\n",
    "    f.write(f\"People with grade B, score between 50-59:\\n\")\n",
    "    f.write(\"\\n\".join(str(gb) for gb in grade_b))\n",
    "    f.write(\"\\n\\n\")\n",
    "\n",
    "    f.write(f\"People with grade A, score between 60-70:\\n\")\n",
    "    f.write(\"\\n\".join(str(ga) for ga in grade_a))\n",
    "\n",
    "    \n"
   ]
  },
  {
   "cell_type": "markdown",
   "id": "a6a807f3",
   "metadata": {},
   "source": [
    "## 12. Theory\n",
    "\n",
    "a) Explain the difference between str.upper(), str.lower(), and str.title().\n",
    "- str.upper() converts all letters to capital, str.lower() converts the letters small. str.titel() converts every first letter in a word to capital. \n",
    "\n",
    "b) What is the result of \"abc\"[1:3]? How does slicing work with strings?\n",
    "- the result would be b-c (index 1 and 2). Slicing a string means that you access some parts of the string by calling its index.  \n",
    "\n",
    "c) Why are strings considered sequences in Python?\n",
    "- because its an order collection of items that can be accessed by thier index. \n",
    "\n",
    "d) What is the use of escape characters in strings? Give an example.\n",
    "- it's used to insert illegal characters in a string. e.g '\\n' - new line, '\\'-- to use dubble quots in a sentece  \n",
    "\n",
    "e) Explain how to reverse a string using slicing.\n",
    "- to reverse a string using slicing you do [::-1]\n",
    "\n",
    "f) What is the purpose of a try...except block in Python?\n",
    "- to catch invalid input (value error)\n",
    "\n",
    "g) What is the purpose of raise?\n",
    "- to manually trigger an exception. Like saying 'stop!' and give the user a clear message. \n",
    "\n",
    "h) What is the difference between runtime errors and logical errors?\n",
    "- a runtime error comes up during runtime. A logical error runs the program but doesn't give you the output you want. \n",
    "\n",
    "i) What does the with open(...) as f: syntax do, and why is it recommended?\n",
    "\n",
    "j) Explain the difference between read(), readline(), and readlines().\n",
    "\n",
    "k) Explain the different file modes: 'r', 'w', 'a', 'x', and 'r+'.\n"
   ]
  },
  {
   "cell_type": "markdown",
   "id": "ec0ed930",
   "metadata": {},
   "source": [
    "## Glossary\n",
    "\n",
    "Fill in this table either by copying this into your own markdown file or copy it into a spreadsheet if you feel that is easier to work with.\n",
    "\n",
    "| terminology        | explanation |\n",
    "| ------------------ | ----------- |\n",
    "| replace            |replaces a specified phrase whit another.             |\n",
    "| regular expression |re, is a sequence of characters that forms a search pattern.             |\n",
    "| concatenation      |combining two strings useing '+'             |\n",
    "| split              |splits a string into a list, where each word becomes an item in the list            |\n",
    "| indexing           |returns the position of an item in a list             |\n",
    "| escape charactrers |To use \"illegal\" charachters in a string             |\n",
    "| unicode            |a standard that provides every charcter a uniq number              |\n",
    "| exception          allows projects to handle unexpected events             |\n",
    "| try block          |lets you test a block of code fpr errors |\n",
    "| except block       |lets you handle error |\n",
    "| finally block      |lets you execute code, regardless of the result in the try/except block            |\n",
    "| traceback          |extracts, formats and print stack traces of python exceptions             |\n",
    "| open()             |opens a file, and return it as a file object             |\n",
    "| with               |wraps a block of code using a 'context manager'              |\n",
    "| context manager    |a way to automatacally handle resources, for ex opening and closing files.             |"
   ]
  }
 ],
 "metadata": {
  "kernelspec": {
   "display_name": "Python_DE25_Lisa_Yllander",
   "language": "python",
   "name": "python3"
  },
  "language_info": {
   "codemirror_mode": {
    "name": "ipython",
    "version": 3
   },
   "file_extension": ".py",
   "mimetype": "text/x-python",
   "name": "python",
   "nbconvert_exporter": "python",
   "pygments_lexer": "ipython3",
   "version": "3.12.10"
  }
 },
 "nbformat": 4,
 "nbformat_minor": 5
}
