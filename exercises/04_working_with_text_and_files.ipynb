{
 "cells": [
  {
   "cell_type": "markdown",
   "id": "197d7ee3",
   "metadata": {},
   "source": [
    "### 0. Counting words (*)"
   ]
  },
  {
   "cell_type": "code",
   "execution_count": null,
   "id": "a240e5cb",
   "metadata": {},
   "outputs": [
    {
     "name": "stdout",
     "output_type": "stream",
     "text": [
      "17\n"
     ]
    }
   ],
   "source": [
    "count_words = \"\"\"A picture says more than a thousand words, \n",
    "a matematical formula says more than a thousand pictures.\"\"\"\n",
    "num_words = len(count_words.split())\n",
    "#.split() devides the string into a list of words, based on spaces\n",
    "#the len()-function counts numbers of elements(words) in the list\n",
    "print(num_words)"
   ]
  },
  {
   "cell_type": "markdown",
   "id": "8f2bfca8",
   "metadata": {},
   "source": [
    "### 1. Count letters (*)"
   ]
  },
  {
   "cell_type": "code",
   "execution_count": null,
   "id": "5bcd8054",
   "metadata": {},
   "outputs": [
    {
     "name": "stdout",
     "output_type": "stream",
     "text": [
      "BaNanpannKaka has 13 letters.\n",
      "numbers of capital letters: 3, numbers of small letters: 10\n"
     ]
    }
   ],
   "source": [
    "count_letters = input(\"Enter a word: \")\n",
    "num_letters = len(count_letters) #len() counts characters/letters\n",
    "up_lett = sum(1 for lett in count_letters if lett.isupper())\n",
    "# loops through the list and for every upper letter returns \"1\" to sum\n",
    "low_lett = sum(1 for lett in count_letters if lett.islower())\n",
    "print(f\"{count_letters} has {num_letters} letters.\")\n",
    "print(f\"numbers of capital letters: {up_lett}, numbers of small letters: {low_lett}\")"
   ]
  },
  {
   "cell_type": "markdown",
   "id": "4754e450",
   "metadata": {},
   "source": [
    "### 2. Palindrome (*)"
   ]
  },
  {
   "cell_type": "code",
   "execution_count": null,
   "id": "70d0dfb8",
   "metadata": {},
   "outputs": [
    {
     "name": "stdout",
     "output_type": "stream",
     "text": [
      "Your word anna is an palindrome\n"
     ]
    }
   ],
   "source": [
    "user_char = input(\"Enter a word: \").lower() \n",
    "#.lower() so it doesn't matter if the input is with small or capital letters\n",
    "\n",
    "if user_char[::-1] == user_char:\n",
    "# [::-1] reverses the string and checks if it's an palindrome by giving back True or False\n",
    "    print(f\"Your word {user_char} is an palindrome\")\n",
    "else:\n",
    "    print(f\"Your word {user_char} is not a palindrome\")\n"
   ]
  },
  {
   "cell_type": "markdown",
   "id": "919f88b2",
   "metadata": {},
   "source": [
    "### 3. Vowels (vokaler) (**)\n",
    "Count the number of vowels in this sentence: \"Pure mathematics is, in its way, the poetry of logical ideas\""
   ]
  },
  {
   "cell_type": "code",
   "execution_count": 43,
   "id": "0cc64df6",
   "metadata": {},
   "outputs": [
    {
     "name": "stdout",
     "output_type": "stream",
     "text": [
      "22\n"
     ]
    }
   ],
   "source": [
    "vow_sent = \"Pure mathamatics is, in its way, the poerty of logical ideas\"\n",
    "vowels = \"aeyuioöäå\" #create a variable with vowels\n",
    "tot_vow = 0 #create a variable to store vowels from sentence\n",
    "for v in vow_sent:#loop through the sentence \n",
    "    if v in vowels:#and see if any letters is an vowel\n",
    "        tot_vow += 1#if so, add it to tot_vow\n",
    "print(tot_vow)\n"
   ]
  },
  {
   "cell_type": "markdown",
   "id": "8f944041",
   "metadata": {},
   "source": [
    "### 4. Encryption (**)\n",
    "Let the user input a word and:\n",
    "\n",
    "  a)   encrypt the message by replacing each letter with the next letter. If the letter is in the end of the alphabet, use the first letter instead.\n",
    "\n",
    "e.g. in Swedish: \"höst\" \n",
    "→\n",
    " \"iatu\""
   ]
  },
  {
   "cell_type": "code",
   "execution_count": 63,
   "id": "8c43b426",
   "metadata": {},
   "outputs": [
    {
     "name": "stdout",
     "output_type": "stream",
     "text": [
      " your old word was bajs, your new word is: cbkt\n"
     ]
    }
   ],
   "source": [
    "#start by creating a variable containing all the letetrs in the alphabet\n",
    "alphabet = \"abcdefghijklmnopqrstuvwxyzåäö\"\n",
    "word_ = input(\"Enter a word:\").lower()#save users word in variable\n",
    "\n",
    "new_word = \"\" \n",
    "#create an empty variable to store new word\n",
    "\n",
    "for letter in word_: #loop through every letter in user word and store in variable (letter)\n",
    "    if letter in alphabet:\n",
    "#compare letters from user word whit alphabet\n",
    "        i_alphabet = alphabet.index(letter)\n",
    "#getting the index for every letter in users word\n",
    "        new_letter = alphabet[(i_alphabet + 1) % len(alphabet)]\n",
    "#create a new variable to store the new letters\n",
    "# (i_alphabet + 1) moves one step forward  \n",
    "# % len(alphabet) starts from the beginning if the word contains an 'ö'      \n",
    "        new_word += new_letter\n",
    "#adds the new letter in the encrypt string\n",
    "\n",
    "print(f\" your old word was {word_}, your new word is: {new_word}\")    \n"
   ]
  },
  {
   "cell_type": "markdown",
   "id": "34dde5b3",
   "metadata": {},
   "source": [
    "### 5. Find and fix errors (*)\n",
    "Find the errors in this code to compute the distance between the point \n",
    "(\n",
    "x\n",
    ",\n",
    "y\n",
    ")\n",
    " and the origin in a cartesian coordinate system.\n",
    "\n",
    " impor numpy as np\n",
    "\n",
    "def distance(x,y)\n",
    "    reurn np.sqrt(x+y)\n",
    "\n",
    "print(distance([0.5, 0.5]))\n"
   ]
  },
  {
   "cell_type": "code",
   "execution_count": null,
   "id": "0c255a4d",
   "metadata": {},
   "outputs": [
    {
     "name": "stdout",
     "output_type": "stream",
     "text": [
      "0.7071067811865476\n"
     ]
    }
   ],
   "source": [
    "import numpy as np #missing an t (syntax error)\n",
    "\n",
    "def distance(x,y):#missing kolon\n",
    "    return np.sqrt(x**2 + y**2) #missing a t (syntax error) \n",
    "\n",
    "print(distance(0.5, 0.5)) #not as a list\n"
   ]
  },
  {
   "cell_type": "markdown",
   "id": "81fa7ea6",
   "metadata": {},
   "source": [
    "### 6. Find and fix errors (*)\n",
    "Find the errors in this code. Just change the function, don't touch the test program.\n",
    "\n",
    "def is_fourdigit(number):\n",
    "    if number//1000 < 10\n",
    "        return true\n",
    "    else\n",
    "        return false\n",
    "\n",
    "#### test program\n",
    "test_numbers = [231, 3124, -4124, -1000,-999, 1001, 10000, -10000, 999]\n",
    "\n",
    "for number in test_numbers:\n",
    "    if is_fourdigit(number):\n",
    "        print(f\"{number} is four-digit\")\n",
    "    else:\n",
    "        print(f\"{number} is not four-digit\")"
   ]
  },
  {
   "cell_type": "code",
   "execution_count": null,
   "id": "bf967d1c",
   "metadata": {},
   "outputs": [],
   "source": [
    "\n",
    "def is_fourdigit(number):\n",
    "    if len(str(abs(number))) == 4:\n",
    " #len = lenght of number, str = meake it a string, \n",
    " # abs = returns an absolute number, even if its a negative\n",
    "        return True\n",
    "    else:\n",
    "        return False\n",
    "\n",
    "# test program\n",
    "test_numbers = [231, 3124, -4124, -1000,-999, 1001, 10000, -10000, 999]\n",
    "\n",
    "for number in test_numbers:\n",
    "    if is_fourdigit(number):\n",
    "        print(f\"{number} is four-digit\")\n",
    "    else:\n",
    "        print(f\"{number} is not four-digit\")\n"
   ]
  },
  {
   "cell_type": "markdown",
   "id": "8f3e05ff",
   "metadata": {},
   "source": [
    "### 7. Tram (*)"
   ]
  },
  {
   "cell_type": "code",
   "execution_count": 128,
   "id": "56cc4d71",
   "metadata": {},
   "outputs": [
    {
     "name": "stdout",
     "output_type": "stream",
     "text": [
      "Sorry, you need to insert a number\n"
     ]
    }
   ],
   "source": [
    "ticket_cost = 43\n",
    "month_card = 1060\n",
    "\n",
    "while True:\n",
    "    try:\n",
    "        times_tram = int(input(\"How many times a month do you take the tram? \"))\n",
    "        total_cost = times_tram * ticket_cost    \n",
    "        \n",
    "        if total_cost < month_card: \n",
    "            print(f\"Your total cost per month is {total_cost} kr,\\nand the cost for a monthly card is: {month_card} kr, keep buying tickets!\")\n",
    "        else:\n",
    "            print(f\"Now you're spending: {total_cost} kr,\\nyou should by a monthly card for: {month_card} kr\")\n",
    "        break #break the loop if everything works\n",
    "    except ValueError:\n",
    "        print(\"Sorry, you need to insert a number\")\n",
    "        try_again = input(\"Want to try again? (y for yes)\").lower()\n",
    "        if try_again != 'y':\n",
    "            break    \n"
   ]
  },
  {
   "cell_type": "markdown",
   "id": "e0ca8757",
   "metadata": {},
   "source": [
    "### 8. Dice rolls (*)"
   ]
  },
  {
   "cell_type": "markdown",
   "id": "a6a807f3",
   "metadata": {},
   "source": [
    "## 12. Theory\n",
    "\n",
    "a) Explain the difference between str.upper(), str.lower(), and str.title().\n",
    "- str.upper() converts all letters to capital, str.lower() converts the letters small. str.titel() converts every first letter in a word to capital. \n",
    "\n",
    "b) What is the result of \"abc\"[1:3]? How does slicing work with strings?\n",
    "- the result would be b-c (index 1 and 2). Slicing a string means that you access some parts of the string by calling its index.  \n",
    "\n",
    "c) Why are strings considered sequences in Python?\n",
    "- because its an order collection of items that can be accessed by thier index. \n",
    "\n",
    "d) What is the use of escape characters in strings? Give an example.\n",
    "- it's used to insert illegal characters in a string. e.g '\\n' - new line, '\\'-- to use dubble quots in a sentece  \n",
    "\n",
    "e) Explain how to reverse a string using slicing.\n",
    "- to reverse a string using slicing you do [::-1]\n",
    "\n",
    "f) What is the purpose of a try...except block in Python?\n",
    "- to catch invalid input (value error)\n",
    "\n",
    "g) What is the purpose of raise?\n",
    "- to manually trigger an exception. Like saying 'stop!' and give the user a clear message. \n",
    "\n",
    "h) What is the difference between runtime errors and logical errors?\n",
    "- a runtime error comes up during runtime. A logical error runs the program but doesn't give you the output you want. \n",
    "\n",
    "i) What does the with open(...) as f: syntax do, and why is it recommended?\n",
    "\n",
    "j) Explain the difference between read(), readline(), and readlines().\n",
    "\n",
    "k) Explain the different file modes: 'r', 'w', 'a', 'x', and 'r+'.\n"
   ]
  },
  {
   "cell_type": "markdown",
   "id": "ec0ed930",
   "metadata": {},
   "source": [
    "## Glossary\n",
    "\n",
    "Fill in this table either by copying this into your own markdown file or copy it into a spreadsheet if you feel that is easier to work with.\n",
    "\n",
    "| terminology        | explanation |\n",
    "| ------------------ | ----------- |\n",
    "| replace            |             |\n",
    "| regular expression |             |\n",
    "| concatenation      |             |\n",
    "| split              |             |\n",
    "| indexing           |             |\n",
    "| escape charactrers |             |\n",
    "| unicode            |             |\n",
    "| exception          |             |\n",
    "| try block          |             |\n",
    "| except block       |             |\n",
    "| finally block      |             |\n",
    "| traceback          |             |\n",
    "| open()             |             |\n",
    "| with               |             |\n",
    "| context manager    |             |"
   ]
  }
 ],
 "metadata": {
  "kernelspec": {
   "display_name": "Python_DE25_Lisa_Yllander",
   "language": "python",
   "name": "python3"
  },
  "language_info": {
   "codemirror_mode": {
    "name": "ipython",
    "version": 3
   },
   "file_extension": ".py",
   "mimetype": "text/x-python",
   "name": "python",
   "nbconvert_exporter": "python",
   "pygments_lexer": "ipython3",
   "version": "3.12.10"
  }
 },
 "nbformat": 4,
 "nbformat_minor": 5
}
