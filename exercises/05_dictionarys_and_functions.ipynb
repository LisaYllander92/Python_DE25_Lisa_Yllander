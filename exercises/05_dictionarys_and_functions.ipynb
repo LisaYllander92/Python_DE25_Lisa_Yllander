{
 "cells": [
  {
   "cell_type": "markdown",
   "id": "788d1a27",
   "metadata": {},
   "source": [
    "## 0. Area (*)\n",
    "Create a function that takes the base and height of a triangle as input parameters and returns the area of the triangle."
   ]
  },
  {
   "cell_type": "code",
   "execution_count": 16,
   "id": "6a062136",
   "metadata": {},
   "outputs": [
    {
     "data": {
      "text/plain": [
       "12.5"
      ]
     },
     "execution_count": 16,
     "metadata": {},
     "output_type": "execute_result"
    }
   ],
   "source": [
    "def Triangle(base, height):\n",
    "\n",
    "    area = (base*height)/2\n",
    "    return area\n",
    "\n",
    "Triangle(5, 5)\n",
    "\n"
   ]
  },
  {
   "cell_type": "markdown",
   "id": "674e33e4",
   "metadata": {},
   "source": [
    "## 1. Euclidean distance (*)\n",
    "The formula for Euclidean distance in 2D between \n",
    "P\n",
    ":\n",
    "(\n",
    "p\n",
    "1\n",
    ",\n",
    "p\n",
    "2\n",
    ")\n",
    " and \n",
    "Q\n",
    ":\n",
    "(\n",
    "q\n",
    "1\n",
    ",\n",
    "q\n",
    "2\n",
    ")\n",
    " is:\n",
    "\n",
    "d\n",
    "(\n",
    "P\n",
    ",\n",
    "Q\n",
    ")\n",
    "=\n",
    "(\n",
    "p\n",
    "1\n",
    "−\n",
    "q\n",
    "1\n",
    ")\n",
    "2\n",
    "+\n",
    "(\n",
    "p\n",
    "2\n",
    "−\n",
    "q\n",
    "2\n",
    ")\n",
    "2\n",
    "\n",
    "a) Create a function that takes two points as input parameters and return the Euclidean between them. (*)\n",
    "\n",
    "b) Let the user input two points. Call the function using the users input points. (*)\n",
    "\n",
    "c) Use your function to calculate distances between the origin (0, 0) and each of these points: (10, 3), (-1, -9), (10, -10), (4, -2), (9, -10). (*)"
   ]
  },
  {
   "cell_type": "code",
   "execution_count": null,
   "id": "484dce3f",
   "metadata": {},
   "outputs": [],
   "source": [
    "#a)\n",
    "import math\n",
    "\n",
    "def Euclidean(p1, p2):\n",
    "\n",
    "   d = (p1 - q1)**2 + (p2 - q2)**2\n",
    "\n",
    "\n"
   ]
  },
  {
   "cell_type": "markdown",
   "id": "3af093f7",
   "metadata": {},
   "source": [
    "### 2. Mathematical functions (*)\n",
    "Make the following functions with def or lambda and plot their graphs in the same figure window, with \n",
    "x\n",
    "∈\n",
    "[\n",
    "−\n",
    "10\n",
    ",\n",
    "10\n",
    "]\n",
    " :\n",
    "\n",
    "- a) f(x) = x2 − 3 (*)\n",
    "\n",
    "- b) g(x) = 4x − 7(*)\n",
    "\n",
    "What could the relation between \n",
    "f\n",
    "(\n",
    "x\n",
    ")\n",
    " and \n",
    "g\n",
    "(\n",
    "x\n",
    ")\n",
    " be?\n",
    "\n",
    " "
   ]
  },
  {
   "cell_type": "code",
   "execution_count": null,
   "id": "89555d8e",
   "metadata": {},
   "outputs": [],
   "source": [
    "import matplotlib.pyplot as plt \n",
    "\n"
   ]
  },
  {
   "cell_type": "markdown",
   "id": "dce65569",
   "metadata": {},
   "source": [
    "## 3. Name cleaner (*)\n",
    "Create a function that takes a name as an input and:\n",
    "•\tremoves all leading and trailing blank spaces\n",
    "•\tmake capitalize the first character of each name, and make the rest lowercase\n",
    "Use your function on this list of strings:\n"
   ]
  },
  {
   "cell_type": "code",
   "execution_count": null,
   "id": "ea7e6740",
   "metadata": {},
   "outputs": [],
   "source": [
    "def Cleaner(f_name):\n",
    "\n",
    "    for name in f_name:\n",
    "        name.strip().iscapitilized()\n",
    "\n",
    "        return name\n",
    "\n"
   ]
  }
 ],
 "metadata": {
  "kernelspec": {
   "display_name": "Python_DE25_Lisa_Yllander",
   "language": "python",
   "name": "python3"
  },
  "language_info": {
   "codemirror_mode": {
    "name": "ipython",
    "version": 3
   },
   "file_extension": ".py",
   "mimetype": "text/x-python",
   "name": "python",
   "nbconvert_exporter": "python",
   "pygments_lexer": "ipython3",
   "version": "3.12.10"
  }
 },
 "nbformat": 4,
 "nbformat_minor": 5
}
