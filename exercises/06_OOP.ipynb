{
 "cells": [
  {
   "cell_type": "markdown",
   "id": "84adc90b",
   "metadata": {},
   "source": [
    "## 0. Unit conversion (*)\n",
    "- Create a class for converting US units to the metric system. It should have the following bound methods:\n",
    "    - __init__ (self, value)\n",
    "    - inch_to_cm(self)\n",
    "    - foot_to_meters(self)\n",
    "    - pound_to_kg(self)\n",
    "    - __repr__(self)"
   ]
  },
  {
   "cell_type": "code",
   "execution_count": 14,
   "id": "0eddef0c",
   "metadata": {},
   "outputs": [
    {
     "data": {
      "text/plain": [
       "0.6096"
      ]
     },
     "execution_count": 14,
     "metadata": {},
     "output_type": "execute_result"
    }
   ],
   "source": [
    "class Units:\n",
    "    def __init__(self, value):\n",
    "        self.value = value\n",
    "\n",
    "    @property\n",
    "    def value(self):\n",
    "        return self._value\n",
    "    \n",
    "    @value.setter\n",
    "    def value(self,val):\n",
    "        if not isinstance(val, (int, float)):\n",
    "            raise TypeError(\"Value must be a number\")\n",
    "        if val < 0:\n",
    "            raise ValueError(\"Value must be positive\")\n",
    "        self._value = val\n",
    "    \n",
    "    def inch_to_cm(self):\n",
    "        return self.value * 2.54 #cm\n",
    "    \n",
    "\n",
    "    def foot_to_meters(self):\n",
    "        return self.value * 0.3048 #m\n",
    "       \n",
    "\n",
    "    def pound_to_kg(self):\n",
    "        return self.value* 0.45392 #kg\n",
    "\n",
    "    def __repr__(self):\n",
    "        return f\"{self._value}\"\n",
    "\n",
    "try:\n",
    "    v1 = Units(2)\n",
    "    v1\n",
    "except RecursionError:\n",
    "    print(\"There was a Recursion error\")\n",
    "\n",
    "v1.inch_to_cm()\n",
    "v1.foot_to_meters()\n",
    "\n",
    "\n"
   ]
  },
  {
   "cell_type": "markdown",
   "id": "78211c95",
   "metadata": {},
   "source": [
    "1. Person (*)\n",
    "Create a class named Person, with parameterized constructor with the following parameters:\n",
    "\n",
    "name\n",
    "age\n",
    "email\n",
    "Turn name, age, email into properties with following validations in their setters:\n",
    "\n",
    "name - must be string\n",
    "age - must be number between 0 and 125\n",
    "email - must include an @ sign\n",
    "It should also have __repr__ method to represent the Person class in a neat way.\n",
    "\n",
    "Also create a method say_hello() that prints"
   ]
  },
  {
   "cell_type": "code",
   "execution_count": 19,
   "id": "84a22c97",
   "metadata": {},
   "outputs": [],
   "source": [
    "class Person:\n",
    "    def __init__(self, name, age, email):\n",
    "\n",
    "        self.name = name\n",
    "        self.age = age\n",
    "        self.email = email\n",
    "\n",
    "    def __repr__(self):\n",
    "        return f\"{self.name} {self.age}, {self.email} \"\n",
    "\n",
    "    @property\n",
    "    def name(self):\n",
    "        return self.name\n",
    "    \n",
    "    @name.setter\n",
    "    def name(self, nam):\n",
    "        if not isinstance(nam(str)):\n",
    "            raise ValueError(\"The name must be a string\")\n",
    "        self._name = nam \n",
    "    \n",
    "    @property\n",
    "    def age(self):\n",
    "        return self.age\n",
    "    \n",
    "    @age.setter\n",
    "    def age(self, ag):\n",
    "        if not isinstance(ag(int)):\n",
    "            raise ValueError(\"The name must be a number\")\n",
    "        if 0 > ag < 126:\n",
    "            raise ValueError(\"The nnumber must be between 0 and 125\")\n",
    "        self._age = ag \n",
    "\n",
    "    @property\n",
    "    def email(self):\n",
    "        return self.email\n",
    "    \n",
    "    @email.setter\n",
    "    def email(self, em):\n",
    "        if not isinstance(em(str)):\n",
    "            raise ValueError(\"The email name must be a string\")\n",
    "        if not \"@\" in em:\n",
    "            raise ValueError(\"The email must include a '@' \")\n"
   ]
  },
  {
   "cell_type": "code",
   "execution_count": 18,
   "id": "d788cc62",
   "metadata": {},
   "outputs": [
    {
     "data": {
      "text/plain": [
       "False"
      ]
     },
     "execution_count": 18,
     "metadata": {},
     "output_type": "execute_result"
    }
   ],
   "source": [
    "s = \"hej\"\n",
    "\"@\" in s"
   ]
  }
 ],
 "metadata": {
  "kernelspec": {
   "display_name": "Python_DE25_Lisa_Yllander",
   "language": "python",
   "name": "python3"
  },
  "language_info": {
   "codemirror_mode": {
    "name": "ipython",
    "version": 3
   },
   "file_extension": ".py",
   "mimetype": "text/x-python",
   "name": "python",
   "nbconvert_exporter": "python",
   "pygments_lexer": "ipython3",
   "version": "3.12.10"
  }
 },
 "nbformat": 4,
 "nbformat_minor": 5
}
