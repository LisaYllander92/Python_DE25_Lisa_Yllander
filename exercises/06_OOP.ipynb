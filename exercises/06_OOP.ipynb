{
 "cells": [
  {
   "cell_type": "markdown",
   "id": "84adc90b",
   "metadata": {},
   "source": [
    "## 0. Unit conversion (*)\n",
    "- Create a class for converting US units to the metric system. It should have the following bound methods:\n",
    "    - __init__ (self, value)\n",
    "    - inch_to_cm(self)\n",
    "    - foot_to_meters(self)\n",
    "    - pound_to_kg(self)\n",
    "    - __repr__(self)"
   ]
  },
  {
   "cell_type": "code",
   "execution_count": null,
   "id": "0eddef0c",
   "metadata": {},
   "outputs": [
    {
     "ename": "NameError",
     "evalue": "name 'self' is not defined",
     "output_type": "error",
     "traceback": [
      "\u001b[31m---------------------------------------------------------------------------\u001b[39m",
      "\u001b[31mNameError\u001b[39m                                 Traceback (most recent call last)",
      "\u001b[36mCell\u001b[39m\u001b[36m \u001b[39m\u001b[32mIn[7]\u001b[39m\u001b[32m, line 19\u001b[39m\n\u001b[32m     16\u001b[39m         \u001b[38;5;28;01mreturn\u001b[39;00m(\u001b[33mf\u001b[39m\u001b[33m\"\u001b[39m\u001b[38;5;132;01m{\u001b[39;00m\u001b[38;5;28mself\u001b[39m.value\u001b[38;5;132;01m}\u001b[39;00m\u001b[33m \u001b[39m\u001b[38;5;132;01m{\u001b[39;00m\u001b[38;5;28mself\u001b[39m.inch_to_cm\u001b[38;5;132;01m}\u001b[39;00m\u001b[33m \u001b[39m\u001b[38;5;132;01m{\u001b[39;00m\u001b[38;5;28mself\u001b[39m.foot_to_meters\u001b[38;5;132;01m}\u001b[39;00m\u001b[33m \u001b[39m\u001b[38;5;132;01m{\u001b[39;00m\u001b[38;5;28mself\u001b[39m.pound_to_kg\u001b[38;5;250m \u001b[39m\u001b[38;5;132;01m}\u001b[39;00m\u001b[33m\"\u001b[39m)\n\u001b[32m     18\u001b[39m v1 = Units(\u001b[32m2\u001b[39m)\n\u001b[32m---> \u001b[39m\u001b[32m19\u001b[39m v1.pound_to_kg(\u001b[38;5;28;43mself\u001b[39;49m)\n",
      "\u001b[31mNameError\u001b[39m: name 'self' is not defined"
     ]
    }
   ],
   "source": [
    "class Units:\n",
    "    def __init__(self, value):\n",
    "        self.value = value\n",
    "    \n",
    "    def inch_to_cm(self):\n",
    "        value * 2.54 #cm\n",
    "\n",
    "\n",
    "    def foot_to_meters(self):\n",
    "        value * 0.3048 #m\n",
    "\n",
    "    def pound_to_kg(self):\n",
    "        value * 0.45392 #kg\n",
    "\n",
    "    def __repr__(self):\n",
    "        return(f\"{self.value} {self.inch_to_cm} {self.foot_to_meters} {self.pound_to_kg }\")\n",
    "\n",
    "v1 = Units(2)\n",
    "\n"
   ]
  }
 ],
 "metadata": {
  "kernelspec": {
   "display_name": "Python_DE25_Lisa_Yllander",
   "language": "python",
   "name": "python3"
  },
  "language_info": {
   "codemirror_mode": {
    "name": "ipython",
    "version": 3
   },
   "file_extension": ".py",
   "mimetype": "text/x-python",
   "name": "python",
   "nbconvert_exporter": "python",
   "pygments_lexer": "ipython3",
   "version": "3.12.10"
  }
 },
 "nbformat": 4,
 "nbformat_minor": 5
}
