{
 "cells": [
  {
   "cell_type": "markdown",
   "id": "84adc90b",
   "metadata": {},
   "source": [
    "## 0. Unit conversion (*)\n",
    "- Create a class for converting US units to the metric system. It should have the following bound methods:\n",
    "    - __init__ (self, value)\n",
    "    - inch_to_cm(self)\n",
    "    - foot_to_meters(self)\n",
    "    - pound_to_kg(self)\n",
    "    - __repr__(self)"
   ]
  },
  {
   "cell_type": "code",
   "execution_count": 1,
   "id": "0eddef0c",
   "metadata": {},
   "outputs": [
    {
     "data": {
      "text/plain": [
       "0.6096"
      ]
     },
     "execution_count": 1,
     "metadata": {},
     "output_type": "execute_result"
    }
   ],
   "source": [
    "class Units:\n",
    "    def __init__(self, value):\n",
    "        self.value = value\n",
    "\n",
    "    @property\n",
    "    def value(self):\n",
    "        return self._value\n",
    "    \n",
    "    @value.setter\n",
    "    def value(self,val):\n",
    "        if not isinstance(val, (int, float)):\n",
    "            raise TypeError(\"Value must be a number\")\n",
    "        if val < 0:\n",
    "            raise ValueError(\"Value must be positive\")\n",
    "        self._value = val\n",
    "    \n",
    "    def inch_to_cm(self):\n",
    "        return self.value * 2.54 #cm\n",
    "    \n",
    "\n",
    "    def foot_to_meters(self):\n",
    "        return self.value * 0.3048 #m\n",
    "       \n",
    "\n",
    "    def pound_to_kg(self):\n",
    "        return self.value* 0.45392 #kg\n",
    "\n",
    "    def __repr__(self):\n",
    "        return f\"{self._value}\"\n",
    "\n",
    "try:\n",
    "    v1 = Units(2)\n",
    "    v1\n",
    "except RecursionError:\n",
    "    print(\"There was a Recursion error\")\n",
    "\n",
    "v1.inch_to_cm()\n",
    "v1.foot_to_meters()\n",
    "\n",
    "\n"
   ]
  },
  {
   "cell_type": "markdown",
   "id": "78211c95",
   "metadata": {},
   "source": [
    "1. Person (*)\n",
    "Create a class named Person, with parameterized constructor with the following parameters:\n",
    "\n",
    "name\n",
    "age\n",
    "email\n",
    "Turn name, age, email into properties with following validations in their setters:\n",
    "\n",
    "name - must be string\n",
    "age - must be number between 0 and 125\n",
    "email - must include an @ sign\n",
    "It should also have __repr__ method to represent the Person class in a neat way.\n",
    "\n",
    "Also create a method say_hello() that prints"
   ]
  },
  {
   "cell_type": "code",
   "execution_count": null,
   "id": "84a22c97",
   "metadata": {},
   "outputs": [
    {
     "data": {
      "text/plain": [
       "55"
      ]
     },
     "execution_count": 14,
     "metadata": {},
     "output_type": "execute_result"
    }
   ],
   "source": [
    "class Person:\n",
    "    # the contructor (initialiseringsmetoden) that runs when a new 'Person'-object is created\n",
    "    # ex p1 = Person(....)\n",
    "    def __init__(self, name: str, age: int, email: str):\n",
    "\n",
    "        # Detta tilldelar värdena som skickas in (tex. \"Sven\", 55 ...)\n",
    "        # till objektets egenskaper (name, age, email) men,\n",
    "        # eftsersom jag definerat 'getter' och 'setter' för dessa egenskaper så kommer\n",
    "        # tilldelningengå via setter-metoderna - vilket innebär att validering osv sker.\n",
    "        self.name = name\n",
    "        self.age = age\n",
    "        self.email = email\n",
    "\n",
    "    # Detta definerar hur objektet ska representeras som sträng när du tex skriver 'print(p1)' eller\n",
    "    # om man inspekterar det i en interpreter\n",
    "    def __repr__(self):\n",
    "        # Bygger och retunerar en sträng med name, ålder och e-post. \n",
    "        # Eftersom 'self.name' osv är \"publica\" egenskaper som via 'properties' får värden,\n",
    "        # kommer dessa att avspegla de interna \"_name\" \"_age\" \"_email\" som jag sätter. \n",
    "        return f\"{self.name} {self.age}, {self.email} \"\n",
    "\n",
    "    # \"egenskaper\" - här sker validering och kontroller\n",
    "    @property\n",
    "    # property ovanför 'def name(self) gör att 'name' fungerar som en egenskap,\n",
    "    # alltså att man kan skriva 'person.name' för att läsa värdet, utan att behöva kalla på en metod som \"get_name()\"\n",
    "    # Detta är getter-delen, när man skriver 'person.name' körs denna metod och reunerar 'self._name'\n",
    "    def name(self):\n",
    "        # Lagrar det i en \"privat\" variabel. \n",
    "        return self._name\n",
    "    \n",
    "    @name.setter\n",
    "    # Innebär att om man skriver tex 'person.name = blabla' så körs denna metod,\n",
    "    # det är 'setter'-delen för 'name'\n",
    "    def name(self, nam):\n",
    "        if not isinstance(nam, str):\n",
    "            raise ValueError(\"The name must be a string\")\n",
    "        # om kontrollen ovan klarar sig så sparas värdet i den \"privata\" variablen _name\n",
    "        self._name = nam \n",
    "    \n",
    "    @property\n",
    "    def age(self):\n",
    "        return self._age\n",
    "    \n",
    "    @age.setter\n",
    "    def age(self, ag):\n",
    "        if not isinstance(ag, int):\n",
    "            raise ValueError(\"The name must be a number\")\n",
    "        # Om 'ag' INTE är större eller lika med 0, mindre eller lika med 125 så...\n",
    "        if not (0 <= ag <= 125): \n",
    "            raise ValueError(\"The nnumber must be between 0 and 125\")\n",
    "        self._age = ag \n",
    "\n",
    "    @property\n",
    "    def email(self):\n",
    "        return self._email\n",
    "    \n",
    "    @email.setter\n",
    "    def email(self, em):\n",
    "        if not isinstance(em, str):\n",
    "            raise ValueError(\"The email name must be a string\")\n",
    "        # Om '@' INTE finns i 'em'...\n",
    "        if not \"@\" in em:\n",
    "            raise ValueError(\"The email must include a '@' \")\n",
    "        self._email = em\n",
    "        \n",
    "# Här skapas p1 genom att anropa metoden 'Person(...)'. Då körs __init__. \n",
    "# Inuti 'init' sker self.name = \"Sven\" osv. Varje tilldelning går genom respektive\n",
    "# 'setter' och valideras. Om något värde inte skulle klara kontrollerna skulle ett fel kastas\n",
    "# och objektet inte skapas korrekt. \n",
    "\n",
    "#print(p1) — då används __repr__, och du ser något som t.ex. Sven 55, SvenSvensson@hotmail.com.\n",
    "p1 = Person(\"Sven\", 55, \"SvenSvensson@hotmail.com\")\n",
    "p1.email\n",
    "p1.name\n",
    "p1.age\n"
   ]
  },
  {
   "cell_type": "markdown",
   "id": "48a33575",
   "metadata": {},
   "source": [
    "Sammanfattning: vad gör vad?\n",
    "\n",
    "Klassen Person definierar vilka egenskaper ett “person-objekt” har (namn, ålder, e-post) och vilket beteende (representation + validering).\n",
    "\n",
    "__init__ — ställer in initiala värden och använder egenskaperna (så validering sker direkt).\n",
    "\n",
    "@property (getter) — gör att du kan läsa egenskaper som vanliga attribut (person.name) men bakom kulisserna körs en metod (t.ex. def name(self)) vilket ger dig möjligheten att styra / logga / räkna ut etc. \n",
    "Real Python\n",
    "+1\n",
    "\n",
    "@<property>.setter (setter) — gör att du kan skriva till attributet som vanligt (person.name = \"Anna\") men i själva verket körs en metod där du kan validera eller modifiera värdet innan du sparar det.\n",
    "\n",
    "Intern lagring i _name, _age, _email — denna “bakgrundsvariabel” används för att undvika oavsiktlig direkt ändring och för att separera “offentlig” egenskap från intern representation.\n",
    "\n",
    "Validering — du ser att innan värden sparas görs kontroller (typkontroll, intervallet för ålder, “@” i e-post) för att säkerställa objektets tillstånd är “sant” (giltigt) och siså."
   ]
  },
  {
   "cell_type": "code",
   "execution_count": 18,
   "id": "d788cc62",
   "metadata": {},
   "outputs": [
    {
     "data": {
      "text/plain": [
       "False"
      ]
     },
     "execution_count": 18,
     "metadata": {},
     "output_type": "execute_result"
    }
   ],
   "source": [
    "s = \"hej\"\n",
    "\"@\" in s"
   ]
  },
  {
   "cell_type": "markdown",
   "id": "b4c5d807",
   "metadata": {},
   "source": []
  }
 ],
 "metadata": {
  "kernelspec": {
   "display_name": "Python_DE25_Lisa_Yllander",
   "language": "python",
   "name": "python3"
  },
  "language_info": {
   "codemirror_mode": {
    "name": "ipython",
    "version": 3
   },
   "file_extension": ".py",
   "mimetype": "text/x-python",
   "name": "python",
   "nbconvert_exporter": "python",
   "pygments_lexer": "ipython3",
   "version": "3.12.10"
  }
 },
 "nbformat": 4,
 "nbformat_minor": 5
}
