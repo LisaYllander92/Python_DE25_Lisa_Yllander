{
 "cells": [
  {
   "cell_type": "markdown",
   "id": "84adc90b",
   "metadata": {},
   "source": [
    "## 0. Unit conversion (*)\n",
    "- Create a class for converting US units to the metric system. It should have the following bound methods:\n",
    "    - __init__ (self, value)\n",
    "    - inch_to_cm(self)\n",
    "    - foot_to_meters(self)\n",
    "    - pound_to_kg(self)\n",
    "    - __repr__(self)"
   ]
  },
  {
   "cell_type": "code",
   "execution_count": null,
   "id": "0eddef0c",
   "metadata": {},
   "outputs": [],
   "source": [
    "class Units:\n",
    "    def __init__(self, value):\n",
    "        self.value = value\n",
    "    \n",
    "    def inch_to_cm(self):\n",
    "        value * 2.54 #cm\n",
    "\n",
    "\n",
    "    def foot_to_meters(self):\n",
    "        value * 0.3048 #m\n",
    "\n",
    "    def pound_to_kg(self):\n",
    "        value * 0.45392\n",
    "\n",
    "    def __repr__(self, inch_to_cm = int | float, foot_to_meters = int | float, pound_to_kg = int | float)\n",
    "        return(f\"{self.value} {self.inch_to_cm} {self.foot_to_meters} {self.pound_to_kg }\")\n",
    "\n",
    "v1 = Units(1)\n"
   ]
  }
 ],
 "metadata": {
  "kernelspec": {
   "display_name": "Python_DE25_Lisa_Yllander",
   "language": "python",
   "name": "python3"
  },
  "language_info": {
   "codemirror_mode": {
    "name": "ipython",
    "version": 3
   },
   "file_extension": ".py",
   "mimetype": "text/x-python",
   "name": "python",
   "nbconvert_exporter": "python",
   "pygments_lexer": "ipython3",
   "version": "3.12.10"
  }
 },
 "nbformat": 4,
 "nbformat_minor": 5
}
