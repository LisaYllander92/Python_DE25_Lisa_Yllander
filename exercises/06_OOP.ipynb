{
 "cells": [
  {
   "cell_type": "markdown",
   "id": "84adc90b",
   "metadata": {},
   "source": [
    "## 0. Unit conversion (*)\n",
    "- Create a class for converting US units to the metric system. It should have the following bound methods:\n",
    "    - __init__ (self, value)\n",
    "    - inch_to_cm(self)\n",
    "    - foot_to_meters(self)\n",
    "    - pound_to_kg(self)\n",
    "    - __repr__(self)"
   ]
  },
  {
   "cell_type": "code",
   "execution_count": 12,
   "id": "0eddef0c",
   "metadata": {},
   "outputs": [
    {
     "data": {
      "text/plain": [
       "0.6096"
      ]
     },
     "execution_count": 12,
     "metadata": {},
     "output_type": "execute_result"
    }
   ],
   "source": [
    "class Units:\n",
    "    def __init__(self, value):\n",
    "        self.value = value\n",
    "\n",
    "    @property\n",
    "    def value(self):\n",
    "        return self._value\n",
    "    \n",
    "    @value.setter\n",
    "    def value(self,val):\n",
    "        if not isinstance(val, (int, float)):\n",
    "            raise TypeError(\"Value must be a number\")\n",
    "        if val < 0:\n",
    "            raise ValueError(\"Value must be positive\")\n",
    "        self._value = val\n",
    "    \n",
    "    def inch_to_cm(self):\n",
    "        return self.value * 2.54 #cm\n",
    "    \n",
    "\n",
    "    def foot_to_meters(self):\n",
    "        return self.value * 0.3048 #m\n",
    "       \n",
    "\n",
    "    def pound_to_kg(self):\n",
    "        return self.value* 0.45392 #kg\n",
    "\n",
    "    def __repr__(self):\n",
    "        return f\"{self._value}\"\n",
    "\n",
    "try:\n",
    "    v1 = Units(2)\n",
    "    v1\n",
    "except RecursionError:\n",
    "    print(\"There was a Recursion error\")\n",
    "\n",
    "v1.inch_to_cm()\n",
    "v1.foot_to_meters()\n",
    "\n",
    "\n"
   ]
  },
  {
   "cell_type": "markdown",
   "id": "78211c95",
   "metadata": {},
   "source": [
    "## 1. Person (*)\n",
    "Create a class named Person, with parameterized constructor with the following parameters:\n",
    "\n",
    "name\n",
    "age\n",
    "email\n",
    "Turn name, age, email into properties with following validations in their setters:\n",
    "\n",
    "name - must be string\n",
    "age - must be number between 0 and 125\n",
    "email - must include an @ sign\n",
    "It should also have __repr__ method to represent the Person class in a neat way.\n",
    "\n",
    "Also create a method say_hello() that prints"
   ]
  },
  {
   "cell_type": "code",
   "execution_count": 1,
   "id": "84a22c97",
   "metadata": {},
   "outputs": [
    {
     "name": "stdout",
     "output_type": "stream",
     "text": [
      "Hi, my name is Sven, I am 55 years old, my email adress is: SvenSvensson@hotmail.com\n"
     ]
    }
   ],
   "source": [
    "class Person:\n",
    "    # the contructor (initialiseringsmetoden) that runs when a new 'Person'-object is created\n",
    "    # ex p1 = Person(....)\n",
    "    def __init__(self, name: str, age: int, email: str):\n",
    "\n",
    "        # Detta tilldelar värdena som skickas in (tex. \"Sven\", 55 ...)\n",
    "        # till objektets egenskaper (name, age, email) men,\n",
    "        # eftsersom jag definerat 'getter' och 'setter' för dessa egenskaper så kommer\n",
    "        # tilldelningengå via setter-metoderna - vilket innebär att validering osv sker.\n",
    "        self.name = name\n",
    "        self.age = age\n",
    "        self.email = email\n",
    "\n",
    "    # Detta definerar hur objektet ska representeras som sträng när du tex skriver 'print(p1)' eller\n",
    "    # om man inspekterar det i en interpreter\n",
    "    def __repr__(self):\n",
    "        # Bygger och retunerar en sträng med name, ålder och e-post. \n",
    "        # Eftersom 'self.name' osv är \"publica\" egenskaper som via 'properties' får värden,\n",
    "        # kommer dessa att avspegla de interna \"_name\" \"_age\" \"_email\" som jag sätter. \n",
    "        return f\"{self.name} {self.age}, {self.email} \"\n",
    "\n",
    "    # \"egenskaper\" - här sker validering och kontroller\n",
    "    @property\n",
    "    # property ovanför 'def name(self) gör att 'name' fungerar som en egenskap,\n",
    "    # alltså att man kan skriva 'person.name' för att läsa värdet, utan att behöva kalla på en metod som \"get_name()\"\n",
    "    # Detta är getter-delen, när man skriver 'person.name' körs denna metod och reunerar 'self._name'\n",
    "    def name(self):\n",
    "        # Lagrar det i en \"privat\" variabel. \n",
    "        return self._name\n",
    "    \n",
    "    @name.setter\n",
    "    # Innebär att om man skriver tex 'person.name = blabla' så körs denna metod,\n",
    "    # det är 'setter'-delen för 'name'\n",
    "    def name(self, nam):\n",
    "        if not isinstance(nam, str):\n",
    "            raise ValueError(\"The name must be a string\")\n",
    "        # om kontrollen ovan klarar sig så sparas värdet i den \"privata\" variablen _name\n",
    "        self._name = nam \n",
    "    \n",
    "    @property\n",
    "    def age(self):\n",
    "        return self._age\n",
    "    \n",
    "    @age.setter\n",
    "    def age(self, ag):\n",
    "        if not isinstance(ag, int):\n",
    "            raise ValueError(\"The name must be a number\")\n",
    "        # Om 'ag' INTE är större eller lika med 0, mindre eller lika med 125 så...\n",
    "        if not (0 <= ag <= 125): \n",
    "            raise ValueError(\"The nnumber must be between 0 and 125\")\n",
    "        self._age = ag \n",
    "\n",
    "    @property\n",
    "    def email(self):\n",
    "        return self._email\n",
    "    \n",
    "    @email.setter\n",
    "    def email(self, em):\n",
    "        if not isinstance(em, str):\n",
    "            raise ValueError(\"The email name must be a string\")\n",
    "        # Om '@' INTE finns i 'em'...\n",
    "        if not \"@\" in em:\n",
    "            raise ValueError(\"The email must include a '@' \")\n",
    "        self._email = em\n",
    "\n",
    "    def say_hello(self) -> None:\n",
    "        print(f\"Hi, my name is {self.name}, I am {self.age} years old, my email adress is: {self.email}\")\n",
    "        \n",
    "# Här skapas p1 genom att anropa metoden 'Person(...)'. Då körs __init__. \n",
    "# Inuti 'init' sker self.name = \"Sven\" osv. Varje tilldelning går genom respektive\n",
    "# 'setter' och valideras. Om något värde inte skulle klara kontrollerna skulle ett fel kastas\n",
    "# och objektet inte skapas korrekt. \n",
    "\n",
    "#print(p1) — då används __repr__, och du ser något som t.ex. Sven 55, SvenSvensson@hotmail.com.\n",
    "p1 = Person(\"Sven\", 55, \"SvenSvensson@hotmail.com\")\n",
    "p1.email\n",
    "p1.name\n",
    "p1.age\n",
    "p1.say_hello()\n"
   ]
  },
  {
   "cell_type": "code",
   "execution_count": 8,
   "id": "58d13190",
   "metadata": {},
   "outputs": [
    {
     "name": "stdout",
     "output_type": "stream",
     "text": [
      "Hi, my name is Micke, I am 60 years old, my email adress is: MickeMartis@gmail.com\n"
     ]
    }
   ],
   "source": [
    "p3 = Person(\"Micke\", 60, \"MickeMartis@gmail.com\")\n",
    "p3.say_hello()"
   ]
  },
  {
   "cell_type": "markdown",
   "id": "48a33575",
   "metadata": {},
   "source": [
    "Sammanfattning: vad gör vad?\n",
    "\n",
    "Klassen Person definierar vilka egenskaper ett “person-objekt” har (namn, ålder, e-post) och vilket beteende (representation + validering).\n",
    "\n",
    "__init__ — ställer in initiala värden och använder egenskaperna (så validering sker direkt).\n",
    "\n",
    "@property (getter) — gör att du kan läsa egenskaper som vanliga attribut (person.name) men bakom kulisserna körs en metod (t.ex. def name(self)) vilket ger dig möjligheten att styra / logga / räkna ut etc. \n",
    "Real Python\n",
    "+1\n",
    "\n",
    "@<property>.setter (setter) — gör att du kan skriva till attributet som vanligt (person.name = \"Anna\") men i själva verket körs en metod där du kan validera eller modifiera värdet innan du sparar det.\n",
    "\n",
    "Intern lagring i _name, _age, _email — denna “bakgrundsvariabel” används för att undvika oavsiktlig direkt ändring och för att separera “offentlig” egenskap från intern representation.\n",
    "\n",
    "Validering — du ser att innan värden sparas görs kontroller (typkontroll, intervallet för ålder, “@” i e-post) för att säkerställa objektets tillstånd är “sant” (giltigt) och siså."
   ]
  },
  {
   "cell_type": "code",
   "execution_count": 2,
   "id": "d788cc62",
   "metadata": {},
   "outputs": [
    {
     "data": {
      "text/plain": [
       "False"
      ]
     },
     "execution_count": 2,
     "metadata": {},
     "output_type": "execute_result"
    }
   ],
   "source": [
    "s = \"hej\"\n",
    "\"@\" in s"
   ]
  },
  {
   "cell_type": "markdown",
   "id": "b4c5d807",
   "metadata": {},
   "source": [
    "## 2. Student and Teacher (*)\n",
    "\n",
    "Create two classes named Student and Teacher that inherits from Person."
   ]
  },
  {
   "cell_type": "code",
   "execution_count": 20,
   "id": "cf746d33",
   "metadata": {},
   "outputs": [
    {
     "name": "stdout",
     "output_type": "stream",
     "text": [
      "Yo, I am a student, my name is Fredrik, I am 36 years old, my email adress is: Fredrik_Fredriksson@hotmail.com \n",
      "Hi, my name is Lisa, I am 33 years old, my email adress is: Lisa.ÄrBäst@hotmail.com\n",
      "study... study...study...more study\n",
      "teach...teach..teach...more teaching\n"
     ]
    }
   ],
   "source": [
    "#Student class that inheritence from class Person\n",
    "class Student(Person):\n",
    "    def __init__(self, name, age, email) -> None:\n",
    "        #super() what it gets from 'Person'\n",
    "        super().__init__(name, age, email)\n",
    "\n",
    "    #study method()\n",
    "    def study(self) -> str:\n",
    "        print(\"study... study...study...more study\")\n",
    "\n",
    "    #overwrite say_hello method()\n",
    "    def say_hello(self) -> None:\n",
    "        print(f\"Yo, I am a student, my name is {self.name}, I am {self.age} years old, my email adress is: {self.email} \")\n",
    "\n",
    "\n",
    "# Teacher class that inheritens from Person\n",
    "\n",
    "\n",
    "class Teacher(Person):\n",
    "    def __init__(self, name, age, email) -> None:\n",
    "          super().__init__(name, age, email)\n",
    "\n",
    "    def teach(self) -> None:\n",
    "        print(\"teach...teach..teach...more teaching\")\n",
    "\n",
    "stud1 = Student(\"Fredrik\", 36, \"Fredrik_Fredriksson@hotmail.com\")\n",
    "\n",
    "teach1 = Teacher(\"Lisa\", 33, \"Lisa.ÄrBäst@hotmail.com\")\n",
    "\n",
    "stud1.say_hello()\n",
    "teach1.say_hello()\n",
    "stud1.study()\n",
    "teach1.teach()"
   ]
  },
  {
   "cell_type": "markdown",
   "id": "0cf593e6",
   "metadata": {},
   "source": [
    "## 4. Video(*)"
   ]
  },
  {
   "cell_type": "code",
   "execution_count": 13,
   "id": "8611dc36",
   "metadata": {},
   "outputs": [
    {
     "name": "stdout",
     "output_type": "stream",
     "text": [
      "This TVSerie with title: Pokemon is of the genre Cartoon, has 550 episodes, and has a rating of 4.5\n",
      "None\n",
      "Movie with title: Titanic is of genre: Romance has rating of: 4.7 and duration of: 194 minutes.\n",
      "None\n",
      " This documentary with title: The Code is of genre: Math and has the rating of: 4\n",
      "None\n"
     ]
    }
   ],
   "source": [
    "#importerar re för att hitta mönster\n",
    "import re \n",
    "\n",
    "class Video:\n",
    "    def __init__(self, title: str, genre: str, rating: float) -> None:\n",
    "        self.title = title\n",
    "        self.genre = genre\n",
    "        self.rating = rating\n",
    "\n",
    "    def __repr__(self) -> None:\n",
    "        return f\"{self.title} {self.genre}, {self.rating}\"\n",
    "    \n",
    "    def __str__(self):\n",
    "        print(f\"The title: {self.title} is of type: {self.genre} genre, and has therating: {self.rating}\")\n",
    "        \n",
    "    def info(self) -> None:\n",
    "        print(f\"This video: {self.title} is of the genre {self.genre} and has a rating of {self.rating}\")\n",
    "\n",
    "    @property\n",
    "    def title(self) -> str:\n",
    "        return self._title\n",
    "    \n",
    "    @title.setter\n",
    "    def title(self, value: str) -> None:\n",
    "        if re.search(r\"^[A-ö]+(\\s[A-ö]+)?$\", value.strip()) is None:\n",
    "            raise ValueError(\"The value {value} is not a valid title\")\n",
    "\n",
    "        self._title = value\n",
    "\n",
    "    @property\n",
    "    def genre(self) -> str:\n",
    "        return self._genre\n",
    "    \n",
    "    @genre.setter\n",
    "    def genre(self, gen: str) -> None:\n",
    "        if re.search(r\"^[A-ö]+(\\s[A-ö]+)?$\", gen.strip()) is None:\n",
    "            raise ValueError(\" The genre {gen} doesnt exists\")\n",
    "\n",
    "        self._genre = gen\n",
    "\n",
    "    @property\n",
    "    def rating(self) -> float:\n",
    "        return self._rating\n",
    "    \n",
    "    @rating.setter\n",
    "    def rating(self, rat: float | int) -> None:\n",
    "        if not (0 <= rat < 6):\n",
    "            raise ValueError(\" The rating must be between 0-5, not {rat}, try again!\")\n",
    "\n",
    "        self._rating = rat\n",
    "        \n",
    "#v1 = Video(\"Modern Family\", \"teens\", 4.8)\n",
    "#v1.title\n",
    "\n",
    "\n",
    "class TVSerie(Video):\n",
    "    def __init__(self, title: str, genre: str, rating: float, num_episodes: int) -> None:\n",
    "        super().__init__(title, genre, rating)\n",
    "        self.num_episodes = num_episodes\n",
    "\n",
    "    def info(self) -> None:\n",
    "        print(f\"This TVSerie with title: {self.title} is of the genre {self.genre}, has {self.num_episodes} episodes, and has a rating of {self.rating}\")\n",
    "        \n",
    "class Movie(Video):\n",
    "    def __init__(self, title: str, genre: str, rating: float, duration: float) -> None:\n",
    "        super().__init__(title, genre, rating)\n",
    "        self.duration = duration\n",
    "\n",
    "    def info(self):\n",
    "        print(f\"Movie with title: {self.title} is of genre: {self.genre} has rating of: {self.rating} and duration of: {self.duration} minutes.\")\n",
    "\n",
    "class Documentary(Video):\n",
    "    def __init__(self, title: str, genre: str, rating: float) -> None:\n",
    "        super().__init__(title, genre, rating)\n",
    "\n",
    "    def info(self):\n",
    "        print(f\" This documentary with title: {self.title} is of genre: {self.genre} and has the rating of: {self.rating}\")\n",
    "        \n",
    "pokemon = TVSerie(\"Pokemon\", \"Cartoon\", 4.5, 550)\n",
    "titanic = Movie(\"Titanic\", \"Romance\", 4.7, 194)\n",
    "code = Documentary(\"The Code\", \"Math\", 4)\n",
    "\n",
    "for video in tuple((pokemon, titanic, code)):\n",
    "    print(video.info())\n",
    "\n",
    "\n",
    "\n",
    "    \n"
   ]
  },
  {
   "cell_type": "markdown",
   "id": "6764b0f6",
   "metadata": {},
   "source": [
    "## 3. Plotting library (**)"
   ]
  },
  {
   "cell_type": "code",
   "execution_count": null,
   "id": "0d280626",
   "metadata": {},
   "outputs": [],
   "source": [
    "import matplotlib.pyplot as np\n",
    "class PlotAnnotator:\n",
    "    def __init__(self, figure, ax):\n",
    "        self.figure = figure\n",
    "        self.ax = ax\n",
    "\n",
    "    def arrow(self):\n",
    "        \n",
    "    \n",
    "\n",
    "\n"
   ]
  },
  {
   "cell_type": "markdown",
   "id": "bb6ef9a8",
   "metadata": {},
   "source": [
    "## 5. Fraction (**)"
   ]
  },
  {
   "cell_type": "code",
   "execution_count": null,
   "id": "be6120a6",
   "metadata": {},
   "outputs": [
    {
     "ename": "TypeError",
     "evalue": "Frac.addition() missing 1 required positional argument: 'value'",
     "output_type": "error",
     "traceback": [
      "\u001b[31m---------------------------------------------------------------------------\u001b[39m",
      "\u001b[31mTypeError\u001b[39m                                 Traceback (most recent call last)",
      "\u001b[36mCell\u001b[39m\u001b[36m \u001b[39m\u001b[32mIn[17]\u001b[39m\u001b[32m, line 26\u001b[39m\n\u001b[32m     23\u001b[39m         \u001b[38;5;28;01mreturn\u001b[39;00m value\n\u001b[32m     25\u001b[39m nr = Frac(\u001b[32m5\u001b[39m, \u001b[32m5\u001b[39m)\n\u001b[32m---> \u001b[39m\u001b[32m26\u001b[39m \u001b[43mnr\u001b[49m\u001b[43m.\u001b[49m\u001b[43maddition\u001b[49m\u001b[43m(\u001b[49m\u001b[43m)\u001b[49m\n",
      "\u001b[31mTypeError\u001b[39m: Frac.addition() missing 1 required positional argument: 'value'"
     ]
    }
   ],
   "source": [
    "class Frac:\n",
    "    # \n",
    "    def __init__(self, nominator: int | float, denominator: int | float) -> None:\n",
    "        self.nominator = nominator\n",
    "        self.denominator = denominator\n",
    "\n",
    "    def __str__(self):\n",
    "        print(\"...\")\n",
    "\n",
    "    def addition(self, value):\n",
    "        value = self.nominator + self.denominator\n",
    "        return value\n",
    "    \n",
    "    def subtraction(self, value):\n",
    "        value = self.nominator - self.denominator\n",
    "        return value\n",
    "    \n",
    "    def multiplication(self, value):\n",
    "        value = self.nominator * self.denominator\n",
    "        return value\n",
    "    \n",
    "    def division(self, value):\n",
    "        value = self.nominator / self.denominator\n",
    "        return value\n",
    "    \n",
    "nr = Frac(5, 5)\n",
    "nr.addition()\n",
    "\n",
    "\n"
   ]
  }
 ],
 "metadata": {
  "kernelspec": {
   "display_name": "Python_DE25_Lisa_Yllander",
   "language": "python",
   "name": "python3"
  },
  "language_info": {
   "codemirror_mode": {
    "name": "ipython",
    "version": 3
   },
   "file_extension": ".py",
   "mimetype": "text/x-python",
   "name": "python",
   "nbconvert_exporter": "python",
   "pygments_lexer": "ipython3",
   "version": "3.12.10"
  }
 },
 "nbformat": 4,
 "nbformat_minor": 5
}
