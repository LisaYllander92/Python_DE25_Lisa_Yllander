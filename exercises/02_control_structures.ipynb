{
 "cells": [
  {
   "cell_type": "markdown",
   "id": "2aee611a",
   "metadata": {},
   "source": [
    "# 0. Check sign (*)"
   ]
  },
  {
   "cell_type": "code",
   "execution_count": null,
   "id": "96f0db8b",
   "metadata": {},
   "outputs": [],
   "source": [
    "user_input = float(input(\"Print a number: \")) #remember to convert the input\n",
    "if user_input > 0:\n",
    "    print(f\"{user_input} is a positive number\")\n",
    "elif user_input < 0:\n",
    "    print(f\"{user_input} is an negative number\")\n",
    "else:\n",
    "    print(\"The number is zero\")"
   ]
  },
  {
   "cell_type": "markdown",
   "id": "65968d20",
   "metadata": {},
   "source": [
    "# 1. Smallest (*)"
   ]
  },
  {
   "cell_type": "code",
   "execution_count": null,
   "id": "c30d0f7b",
   "metadata": {},
   "outputs": [],
   "source": [
    "num1 = float(input(\"Enter your first number: \"))\n",
    "num2 = float(input(\"Enter your second number: \"))\n",
    "if num1 > num2:\n",
    "    print(f\"{num2} is the smallest number\")\n",
    "else:\n",
    "    print(f\"{num1} is the smallest number\")\n"
   ]
  },
  {
   "cell_type": "markdown",
   "id": "5a5eefb2",
   "metadata": {},
   "source": [
    "# 2. Medicine (*)"
   ]
  },
  {
   "cell_type": "code",
   "execution_count": null,
   "id": "c661c176",
   "metadata": {},
   "outputs": [],
   "source": [
    "age = float(input(\"Enter your age: \"))\n",
    "weight = float(input(\"Enter your weight: \"))\n",
    "if age > 12 and weight > 40:\n",
    "    print(\"Take 1-2 pills \")\n",
    "elif 7 <= age <= 12 and 26 <= weight <= 40: #if age is larger or equal to 7 but smaller or equal to 12\n",
    "    print(\"Take 1/2-1 pill \")\n",
    "elif 3 <= age <= 7 and 15 <= weight <= 25:\n",
    "    print(\"Take 1/2 pill\")\n",
    "else:\n",
    "    print(\"Consult at doctor\")"
   ]
  },
  {
   "cell_type": "markdown",
   "id": "dae0ab97",
   "metadata": {},
   "source": [
    "# 3. Divisible (*)"
   ]
  },
  {
   "cell_type": "code",
   "execution_count": null,
   "id": "f5443266",
   "metadata": {},
   "outputs": [],
   "source": [
    "num_ = float(input(\"Enter a number: \"))\n",
    "if num_ % 2 == 0: #if num_ is evenly divisible by 2\n",
    "    print(f\"Number {num_} is even\")\n",
    "else: \n",
    "    print(f\"Number {num_} is odd\")\n",
    "\n",
    "if num_ % 5 == 0: #if num is evenly divisible by 5\n",
    "    print(f\"Number {num_} is divisible by 5 \")\n",
    "if num_ % 5 == 0 and num_ % 2 != 0: #num_ % 2 != 0 (is not equal to 0)\n",
    "    print(f\"Number {num_} is divisible by 5 and an odd number\")\n"
   ]
  },
  {
   "cell_type": "markdown",
   "id": "a34078c8",
   "metadata": {},
   "source": [
    "# 4. Luggage size (*)"
   ]
  },
  {
   "cell_type": "code",
   "execution_count": null,
   "id": "02b784fe",
   "metadata": {},
   "outputs": [],
   "source": [
    "weight = float(input(\"Enter luggage weight in kg: \"))\n",
    "length = float(input(\"Enter luggage length in cm: \"))\n",
    "width = float(input(\"Enter luggage width in cm: \"))\n",
    "height = float(input(\"Enter luggage height in cm: \"))\n",
    "\n",
    "if weight <= 8 and length <= 55 and width <= 40 and height <= 23:\n",
    "    print(\"Luggage is allowd\") \n",
    "else: \n",
    "    print(\"Luggage not allowed\")\n",
    "\n",
    "#To show the user whats wrong\n",
    "if weight > 8: #remember to use the correct </> and in this case not =<\n",
    "    print(\"Your luggage is to heavy, the maximum weight is 8kg\")\n",
    "if length > 55:\n",
    "    print(\"The length of luggage is to long, maximum length is 55cm\")\n",
    "if width > 40:\n",
    "    print(\"The width of luggage is to wide, maximum width is 40cm\")\n",
    "if height > 23:\n",
    "    print(\"The height of luggage is to high, maximum height is 55cm\")\n",
    "\n",
    "\n"
   ]
  },
  {
   "cell_type": "markdown",
   "id": "6297438b",
   "metadata": {},
   "source": [
    "# 5. Count numbers (*)"
   ]
  },
  {
   "cell_type": "code",
   "execution_count": null,
   "id": "407c55bc",
   "metadata": {},
   "outputs": [],
   "source": [
    "for i in range(-10, 11): #remember : and indentation\n",
    "    print(i)"
   ]
  },
  {
   "cell_type": "code",
   "execution_count": null,
   "id": "6f615db3",
   "metadata": {},
   "outputs": [],
   "source": [
    "for i in range(-10, 11, 2): #the last number (2) makes a \"jump\"\n",
    "    print(i)"
   ]
  },
  {
   "cell_type": "markdown",
   "id": "d9c6d9b9",
   "metadata": {},
   "source": [
    "# 5. Arithmetic sum (*)"
   ]
  },
  {
   "cell_type": "code",
   "execution_count": null,
   "id": "90fa5576",
   "metadata": {},
   "outputs": [],
   "source": [
    "#a) while statement\n",
    "sum1 = 0\n",
    "j = 1 #initulize j before the loop\n",
    "while j < 101: #while j is less then 101\n",
    "    sum1 += j #add j (1) to sum1\n",
    "    j += 1 #keep adding j (1) to sum1 as long as j < 101\n",
    "print(f\"The sum from 1 to 100 is: {sum1}\")"
   ]
  },
  {
   "cell_type": "code",
   "execution_count": null,
   "id": "795f2611",
   "metadata": {},
   "outputs": [],
   "source": [
    "#a) for statement\n",
    "sum2 = 0\n",
    "for i in range(1, 101): #numbers between 1-100\n",
    "    sum2 += i\n",
    "print(f\"The sum from 1 to 100 is: {sum2}\")"
   ]
  },
  {
   "cell_type": "code",
   "execution_count": null,
   "id": "8d2353cf",
   "metadata": {},
   "outputs": [],
   "source": [
    "#b) while statement\n",
    "sum3 = 0\n",
    "j = 1\n",
    "while j < 100:\n",
    "    sum3 += j\n",
    "    j += 2\n",
    "print(f\"Sum of odd numbers between 1-99 is: {sum3}\")\n"
   ]
  },
  {
   "cell_type": "code",
   "execution_count": null,
   "id": "0b25e7fe",
   "metadata": {},
   "outputs": [],
   "source": [
    "#b) for statement\n",
    "sum4 = 0\n",
    "for i in range(1,100,2):\n",
    "    sum4 += i\n",
    "print(f\"Sum of odd numbers between 1-99 is: {sum4}\")"
   ]
  }
 ],
 "metadata": {
  "kernelspec": {
   "display_name": "Python_DE25_Lisa_Yllander",
   "language": "python",
   "name": "python3"
  },
  "language_info": {
   "codemirror_mode": {
    "name": "ipython",
    "version": 3
   },
   "file_extension": ".py",
   "mimetype": "text/x-python",
   "name": "python",
   "nbconvert_exporter": "python",
   "pygments_lexer": "ipython3",
   "version": "3.12.10"
  }
 },
 "nbformat": 4,
 "nbformat_minor": 5
}
