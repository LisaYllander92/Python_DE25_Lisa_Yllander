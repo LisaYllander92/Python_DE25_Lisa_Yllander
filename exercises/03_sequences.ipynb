{
 "cells": [
  {
   "cell_type": "markdown",
   "id": "80f83b1b",
   "metadata": {},
   "source": [
    "### 0.Dice rolls (*)"
   ]
  },
  {
   "cell_type": "markdown",
   "id": "01fbeb36",
   "metadata": {},
   "source": [
    "a) sort the list in ascending order (*)"
   ]
  },
  {
   "cell_type": "code",
   "execution_count": null,
   "id": "cfe99f53",
   "metadata": {},
   "outputs": [
    {
     "name": "stdout",
     "output_type": "stream",
     "text": [
      "List: [2, 2, 1, 2, 6, 2, 5, 2, 6, 2]\n",
      "List sorted in ascending order: [1, 2, 2, 2, 2, 2, 2, 5, 6, 6]\n"
     ]
    }
   ],
   "source": [
    "import random as rnd #imports random module and gives it the alias 'rnd'\n",
    "#..to use random number function\n",
    "\n",
    "# with a for-loop\n",
    "dice_list = [] #create an empty list to put results in\n",
    "for i in range(10): #i=1, 1=2 etc up to 10, generates a loop with 10 numbers\n",
    "    dice_list.append(rnd.randint(1, 6)) #generates a random number between 1-6 and add it to the list\n",
    "print(f\"List: {dice_list}\")\n",
    "\n",
    "dice_list.sort() #using the .sort()-function to sort in ascending order (smallest to largest)\n",
    "print(f\"List sorted in ascending order: {dice_list}\")\n",
    "\n",
    "\n",
    "\n"
   ]
  },
  {
   "cell_type": "code",
   "execution_count": 15,
   "id": "306737a8",
   "metadata": {},
   "outputs": [
    {
     "name": "stdout",
     "output_type": "stream",
     "text": [
      "Sorted list comprehension: [1, 1, 1, 1, 2, 3, 4, 5, 5, 6]\n"
     ]
    }
   ],
   "source": [
    "#with list comprehension\n",
    "dice_list_comp = [rnd.randint(1, 6) for i in range(10)]\n",
    "#creates a list that generates a random number between 1-6, loops through 10 times\n",
    "\n",
    "dice_list_comp.sort()\n",
    "print(f\"Sorted list comprehension: {dice_list_comp}\")"
   ]
  },
  {
   "cell_type": "markdown",
   "id": "b05711cc",
   "metadata": {},
   "source": [
    "b) sort the list in descending order (*)"
   ]
  },
  {
   "cell_type": "code",
   "execution_count": 18,
   "id": "10de7b3a",
   "metadata": {},
   "outputs": [
    {
     "name": "stdout",
     "output_type": "stream",
     "text": [
      "List sorted in descending order: [6, 5, 5, 4, 3, 2, 1, 1, 1, 1]\n"
     ]
    }
   ],
   "source": [
    "dice_list_comp.sort(reverse = True) \n",
    "#.sort(reverse = True)sorts the numbers in descending order\n",
    "print(f\"List sorted in descending order: {dice_list_comp}\")"
   ]
  },
  {
   "cell_type": "markdown",
   "id": "18e24da9",
   "metadata": {},
   "source": [
    "c) find the maximum and minimum value in the list (*)"
   ]
  },
  {
   "cell_type": "code",
   "execution_count": null,
   "id": "01fffe4f",
   "metadata": {},
   "outputs": [
    {
     "name": "stdout",
     "output_type": "stream",
     "text": [
      "Maximun value in list: 6 minimum value in list: 1\n"
     ]
    }
   ],
   "source": [
    "dice_list_comp.sort()\n",
    "print(f\"Maximun value in list: {dice_list_comp[-1]} \\\n",
    "minimum value in list: {dice_list_comp[0]}\")\n",
    "# maximum value = [-1], minimun value = [0]\n",
    "\n"
   ]
  },
  {
   "cell_type": "markdown",
   "id": "a83504f1",
   "metadata": {},
   "source": [
    "d) calculate the mean (average) of the list (*)"
   ]
  },
  {
   "cell_type": "code",
   "execution_count": null,
   "id": "026544b5",
   "metadata": {},
   "outputs": [
    {
     "name": "stdout",
     "output_type": "stream",
     "text": [
      "Dice rolls: [1, 1, 1, 1, 2, 3, 4, 5, 5, 6] \n",
      "The average number in list: 2.9\n"
     ]
    }
   ],
   "source": [
    "# mean = total items in dice_list_comp / length of dice_list_comp\n",
    "mean = sum(dice_list_comp) / len(dice_list_comp)\n",
    "print(f\"Dice rolls: {dice_list_comp} \\nThe average number in list: {mean}\")"
   ]
  },
  {
   "cell_type": "markdown",
   "id": "45e84c26",
   "metadata": {},
   "source": [
    "e) find the median of the list (*)"
   ]
  },
  {
   "cell_type": "code",
   "execution_count": 44,
   "id": "742058d6",
   "metadata": {},
   "outputs": [
    {
     "name": "stdout",
     "output_type": "stream",
     "text": [
      "The median is: 2.5\n"
     ]
    }
   ],
   "source": [
    "median_values = dice_list_comp[4:6] #gives a list with index 5 and 6\n",
    "median = sum(median_values) / 2 \n",
    "#divide index 5 and 6 with 2 to get the median\n",
    "print(f\"The median is: {median}\")"
   ]
  },
  {
   "cell_type": "markdown",
   "id": "f2834bd7",
   "metadata": {},
   "source": [
    "f) extract only the unique values from the list. The output should be a list (*)"
   ]
  },
  {
   "cell_type": "code",
   "execution_count": null,
   "id": "4bc2e267",
   "metadata": {},
   "outputs": [
    {
     "name": "stdout",
     "output_type": "stream",
     "text": [
      "Only unique values: [1, 2, 3, 4, 5, 6]\n"
     ]
    }
   ],
   "source": [
    "unique_values = list(set(dice_list_comp))\n",
    "# create a new variable, make it a list(), and use set() to elemenate duplets\n",
    "# if list isn't sorted you can do:\n",
    "# unique_values = sorted(list(set(dice_list_comp)))\n",
    "print(f\"Only unique values: {unique_values}\")"
   ]
  },
  {
   "cell_type": "markdown",
   "id": "a9b1ed87",
   "metadata": {},
   "source": [
    "### Food menu (*)\n",
    "Create a:"
   ]
  },
  {
   "cell_type": "markdown",
   "id": "19b1ccb1",
   "metadata": {},
   "source": [
    "a) list with the following elements: \"vegetarian lasagna\", \"spaghetti\", \"fish\", \"soup\", \"pancakes\". (*)"
   ]
  },
  {
   "cell_type": "code",
   "execution_count": 63,
   "id": "98951159",
   "metadata": {},
   "outputs": [
    {
     "data": {
      "text/plain": [
       "['vegetarian lasagna', 'spaghetti', 'fish', 'soup', 'panncakes']"
      ]
     },
     "execution_count": 63,
     "metadata": {},
     "output_type": "execute_result"
    }
   ],
   "source": [
    "foods = [\"vegetarian lasagna\", \"spaghetti\", \"fish\", \"soup\", \"panncakes\"]\n",
    "foods"
   ]
  },
  {
   "cell_type": "markdown",
   "id": "a247f6a5",
   "metadata": {},
   "source": [
    "b) list with the weekdays (*)"
   ]
  },
  {
   "cell_type": "code",
   "execution_count": 64,
   "id": "5e906914",
   "metadata": {},
   "outputs": [
    {
     "data": {
      "text/plain": [
       "['monday', 'tuesday', 'wednesday', 'thursday', 'friday']"
      ]
     },
     "execution_count": 64,
     "metadata": {},
     "output_type": "execute_result"
    }
   ],
   "source": [
    "days = [\"monday\", \"tuesday\", \"wednesday\", \"thursday\", \"friday\"]\n",
    "days"
   ]
  },
  {
   "cell_type": "markdown",
   "id": "a669bce6",
   "metadata": {},
   "source": [
    "c) create a food menu with each day corresponding to each food item and print it out like this (*)"
   ]
  },
  {
   "cell_type": "code",
   "execution_count": null,
   "id": "2ab8a63f",
   "metadata": {},
   "outputs": [
    {
     "name": "stdout",
     "output_type": "stream",
     "text": [
      "Day        Food\n",
      "---------------\n",
      "monday     vegetarian lasagna\n",
      "tuesday    spaghetti\n",
      "wednesday  fish\n",
      "thursday   soup\n",
      "friday     panncakes\n"
     ]
    }
   ],
   "source": [
    "print(\"Day        Food\")\n",
    "print(\"---------------\")\n",
    "\n",
    "#loop through both lists at the same time with zip()\n",
    "for day, food in zip(days, foods):\n",
    "    print(f\"{day:<10} {food}\") #:<10 makes the day-column take up 10 chars\n",
    "# for day, food in zip(days, foods)\n",
    "# zip goes through the lists and calls \n",
    "# the first part 'day', and the second 'food'\n",
    "# so that 'monday' is put in day "
   ]
  },
  {
   "cell_type": "code",
   "execution_count": null,
   "id": "76e10def",
   "metadata": {},
   "outputs": [],
   "source": []
  }
 ],
 "metadata": {
  "kernelspec": {
   "display_name": "Python_DE25_Lisa_Yllander",
   "language": "python",
   "name": "python3"
  },
  "language_info": {
   "codemirror_mode": {
    "name": "ipython",
    "version": 3
   },
   "file_extension": ".py",
   "mimetype": "text/x-python",
   "name": "python",
   "nbconvert_exporter": "python",
   "pygments_lexer": "ipython3",
   "version": "3.12.10"
  }
 },
 "nbformat": 4,
 "nbformat_minor": 5
}
