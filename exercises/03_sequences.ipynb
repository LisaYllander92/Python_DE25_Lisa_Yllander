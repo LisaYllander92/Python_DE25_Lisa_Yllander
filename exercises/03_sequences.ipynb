{
 "cells": [
  {
   "cell_type": "markdown",
   "id": "80f83b1b",
   "metadata": {},
   "source": [
    "### 0.Dice rolls (*)"
   ]
  },
  {
   "cell_type": "markdown",
   "id": "01fbeb36",
   "metadata": {},
   "source": [
    "a) sort the list in ascending order (*)"
   ]
  },
  {
   "cell_type": "code",
   "execution_count": null,
   "id": "cfe99f53",
   "metadata": {},
   "outputs": [
    {
     "name": "stdout",
     "output_type": "stream",
     "text": [
      "List: [2, 2, 1, 2, 6, 2, 5, 2, 6, 2]\n",
      "List sorted in ascending order: [1, 2, 2, 2, 2, 2, 2, 5, 6, 6]\n"
     ]
    }
   ],
   "source": [
    "import random as rnd #imports random module and gives it the alias 'rnd'\n",
    "#..to use random number function\n",
    "\n",
    "# with a for-loop\n",
    "dice_list = [] #create an empty list to put results in\n",
    "for i in range(10): #i=1, 1=2 etc up to 10, generates a loop with 10 numbers\n",
    "    dice_list.append(rnd.randint(1, 6)) #generates a random number between 1-6 and add it to the list\n",
    "print(f\"List: {dice_list}\")\n",
    "\n",
    "dice_list.sort() #using the .sort()-function to sort in ascending order (smallest to largest)\n",
    "print(f\"List sorted in ascending order: {dice_list}\")\n",
    "\n",
    "\n",
    "\n"
   ]
  },
  {
   "cell_type": "code",
   "execution_count": 15,
   "id": "306737a8",
   "metadata": {},
   "outputs": [
    {
     "name": "stdout",
     "output_type": "stream",
     "text": [
      "Sorted list comprehension: [1, 1, 1, 1, 2, 3, 4, 5, 5, 6]\n"
     ]
    }
   ],
   "source": [
    "#with list comprehension\n",
    "dice_list_comp = [rnd.randint(1, 6) for i in range(10)]\n",
    "#creates a list that generates a random number between 1-6, loops through 10 times\n",
    "\n",
    "dice_list_comp.sort()\n",
    "print(f\"Sorted list comprehension: {dice_list_comp}\")"
   ]
  },
  {
   "cell_type": "markdown",
   "id": "b05711cc",
   "metadata": {},
   "source": [
    "b) sort the list in descending order (*)"
   ]
  },
  {
   "cell_type": "code",
   "execution_count": 18,
   "id": "10de7b3a",
   "metadata": {},
   "outputs": [
    {
     "name": "stdout",
     "output_type": "stream",
     "text": [
      "List sorted in descending order: [6, 5, 5, 4, 3, 2, 1, 1, 1, 1]\n"
     ]
    }
   ],
   "source": [
    "dice_list_comp.sort(reverse = True) \n",
    "#.sort(reverse = True)sorts the numbers in descending order\n",
    "print(f\"List sorted in descending order: {dice_list_comp}\")"
   ]
  },
  {
   "cell_type": "markdown",
   "id": "18e24da9",
   "metadata": {},
   "source": [
    "c) find the maximum and minimum value in the list (*)"
   ]
  },
  {
   "cell_type": "code",
   "execution_count": null,
   "id": "01fffe4f",
   "metadata": {},
   "outputs": [
    {
     "name": "stdout",
     "output_type": "stream",
     "text": [
      "Maximun value in list: 6 minimum value in list: 1\n"
     ]
    }
   ],
   "source": [
    "dice_list_comp.sort()\n",
    "print(f\"Maximun value in list: {dice_list_comp[-1]} \\\n",
    "minimum value in list: {dice_list_comp[0]}\")\n",
    "# maximum value = [-1], minimun value = [0]\n",
    "\n"
   ]
  },
  {
   "cell_type": "markdown",
   "id": "a83504f1",
   "metadata": {},
   "source": [
    "d) calculate the mean (average) of the list (*)"
   ]
  },
  {
   "cell_type": "code",
   "execution_count": null,
   "id": "026544b5",
   "metadata": {},
   "outputs": [
    {
     "name": "stdout",
     "output_type": "stream",
     "text": [
      "Dice rolls: [1, 1, 1, 1, 2, 3, 4, 5, 5, 6] \n",
      "The average number in list: 2.9\n"
     ]
    }
   ],
   "source": [
    "# mean = total items in dice_list_comp / length of dice_list_comp\n",
    "mean = sum(dice_list_comp) / len(dice_list_comp)\n",
    "print(f\"Dice rolls: {dice_list_comp} \\nThe average number in list: {mean}\")"
   ]
  },
  {
   "cell_type": "markdown",
   "id": "45e84c26",
   "metadata": {},
   "source": [
    "e) find the median of the list (*)"
   ]
  },
  {
   "cell_type": "code",
   "execution_count": 44,
   "id": "742058d6",
   "metadata": {},
   "outputs": [
    {
     "name": "stdout",
     "output_type": "stream",
     "text": [
      "The median is: 2.5\n"
     ]
    }
   ],
   "source": [
    "median_values = dice_list_comp[4:6] #gives a list with index 5 and 6\n",
    "median = sum(median_values) / 2 \n",
    "#divide index 5 and 6 with 2 to get the median\n",
    "print(f\"The median is: {median}\")"
   ]
  },
  {
   "cell_type": "markdown",
   "id": "f2834bd7",
   "metadata": {},
   "source": [
    "f) extract only the unique values from the list. The output should be a list (*)"
   ]
  },
  {
   "cell_type": "code",
   "execution_count": null,
   "id": "4bc2e267",
   "metadata": {},
   "outputs": [
    {
     "name": "stdout",
     "output_type": "stream",
     "text": [
      "Only unique values: [1, 2, 3, 4, 5, 6]\n"
     ]
    }
   ],
   "source": [
    "unique_values = list(set(dice_list_comp))\n",
    "# create a new variable, make it a list(), and use set() to elemenate duplets\n",
    "# if list isn't sorted you can do:\n",
    "# unique_values = sorted(list(set(dice_list_comp)))\n",
    "print(f\"Only unique values: {unique_values}\")"
   ]
  },
  {
   "cell_type": "markdown",
   "id": "a9b1ed87",
   "metadata": {},
   "source": [
    "### 1.Food menu (*)\n",
    "Create a:"
   ]
  },
  {
   "cell_type": "markdown",
   "id": "19b1ccb1",
   "metadata": {},
   "source": [
    "a) list with the following elements: \"vegetarian lasagna\", \"spaghetti\", \"fish\", \"soup\", \"pancakes\". (*)"
   ]
  },
  {
   "cell_type": "code",
   "execution_count": 63,
   "id": "98951159",
   "metadata": {},
   "outputs": [
    {
     "data": {
      "text/plain": [
       "['vegetarian lasagna', 'spaghetti', 'fish', 'soup', 'panncakes']"
      ]
     },
     "execution_count": 63,
     "metadata": {},
     "output_type": "execute_result"
    }
   ],
   "source": [
    "foods = [\"vegetarian lasagna\", \"spaghetti\", \"fish\", \"soup\", \"panncakes\"]\n",
    "foods"
   ]
  },
  {
   "cell_type": "markdown",
   "id": "a247f6a5",
   "metadata": {},
   "source": [
    "b) list with the weekdays (*)"
   ]
  },
  {
   "cell_type": "code",
   "execution_count": 64,
   "id": "5e906914",
   "metadata": {},
   "outputs": [
    {
     "data": {
      "text/plain": [
       "['monday', 'tuesday', 'wednesday', 'thursday', 'friday']"
      ]
     },
     "execution_count": 64,
     "metadata": {},
     "output_type": "execute_result"
    }
   ],
   "source": [
    "days = [\"monday\", \"tuesday\", \"wednesday\", \"thursday\", \"friday\"]\n",
    "days"
   ]
  },
  {
   "cell_type": "markdown",
   "id": "a669bce6",
   "metadata": {},
   "source": [
    "c) create a food menu with each day corresponding to each food item and print it out like this (*)"
   ]
  },
  {
   "cell_type": "code",
   "execution_count": null,
   "id": "2ab8a63f",
   "metadata": {},
   "outputs": [
    {
     "name": "stdout",
     "output_type": "stream",
     "text": [
      "Day        Food\n",
      "---------------\n",
      "monday     vegetarian lasagna\n",
      "tuesday    spaghetti\n",
      "wednesday  fish\n",
      "thursday   soup\n",
      "friday     panncakes\n"
     ]
    }
   ],
   "source": [
    "print(\"Day        Food\")\n",
    "print(\"---------------\")\n",
    "\n",
    "#loop through both lists at the same time with zip()\n",
    "for day, food in zip(days, foods):\n",
    "    print(f\"{day:<10} {food}\") #:<10 makes the day-column take up 10 chars\n",
    "# for day, food in zip(days, foods)\n",
    "# zip goes through the lists and calls \n",
    "# the first part 'day', and the second 'food'\n",
    "# so that 'monday' is put in day "
   ]
  },
  {
   "cell_type": "markdown",
   "id": "f10b2d6e",
   "metadata": {},
   "source": [
    "### 2. Squares (*)"
   ]
  },
  {
   "cell_type": "markdown",
   "id": "37ad47d1",
   "metadata": {},
   "source": [
    "a) Use list comprehension to create a list of squares from -10 to 10 (*)\n",
    "- squares = x*x (a number multiplices with its self) x**2 = x*x\n",
    "- squares are NEVER negative"
   ]
  },
  {
   "cell_type": "code",
   "execution_count": null,
   "id": "898d54bd",
   "metadata": {},
   "outputs": [
    {
     "name": "stdout",
     "output_type": "stream",
     "text": [
      "[100, 81, 64, 49, 36, 25, 16, 9, 4, 1, 0, 1, 4, 9, 16, 25, 36, 49, 64, 81, 100]\n"
     ]
    }
   ],
   "source": [
    "squares = [x**2 for x in range(-10, 11)]\n",
    "#x**2 = -10*-10=100 and so on\n",
    "print(squares)"
   ]
  },
  {
   "cell_type": "markdown",
   "id": "594ff0a8",
   "metadata": {},
   "source": [
    "b) Plot this list using matplotlib. (*)"
   ]
  },
  {
   "cell_type": "code",
   "execution_count": null,
   "id": "76e10def",
   "metadata": {},
   "outputs": [
    {
     "data": {
      "text/plain": [
       "[<matplotlib.lines.Line2D at 0x261f5391bb0>]"
      ]
     },
     "execution_count": 86,
     "metadata": {},
     "output_type": "execute_result"
    },
    {
     "data": {
      "image/png": "[encoded data removed]",
      "text/plain": [
       "<Figure size 640x480 with 1 Axes>"
      ]
     },
     "metadata": {},
     "output_type": "display_data"
    }
   ],
   "source": [
    "#import matplot\n",
    "import matplotlib.pyplot as plt\n",
    "\n",
    "x = list(range(0, 11)) # x and y must have the same amout of value\n",
    "y = list(range(-10, 1))\n",
    "\n",
    "plt.plot(x, y)# draws a line between every (x, y)-pair\n"
   ]
  },
  {
   "cell_type": "markdown",
   "id": "76987474",
   "metadata": {},
   "source": [
    "- import matplotlib.pyplot as plt  # Importerar biblioteket för att rita grafer\n",
    "\n",
    "- x = list(range(0, 10))           # Skapar x-värden: 0 till 9 (10 värden)\n",
    "- y = list(range(-10, 0))          # Skapar y-värden: -10 till -1 (också 10 värden)\n",
    "\n",
    "- plt.plot(x, y)                   # Ritar en linje mellan varje (x, y)-par\n",
    "- plt.title(\"En enkel linjeplot\") # Titel på grafen\n",
    "- plt.xlabel(\"x-värden\")          # Etikett på x-axeln\n",
    "- plt.ylabel(\"y-värden\")          # Etikett på y-axeln\n",
    "- plt.grid(True)                  # Visar rutnät\n",
    "- plt.show()                      # Visar grafen"
   ]
  }
 ],
 "metadata": {
  "kernelspec": {
   "display_name": "Python_DE25_Lisa_Yllander",
   "language": "python",
   "name": "python3"
  },
  "language_info": {
   "codemirror_mode": {
    "name": "ipython",
    "version": 3
   },
   "file_extension": ".py",
   "mimetype": "text/x-python",
   "name": "python",
   "nbconvert_exporter": "python",
   "pygments_lexer": "ipython3",
   "version": "3.12.10"
  }
 },
 "nbformat": 4,
 "nbformat_minor": 5
}
