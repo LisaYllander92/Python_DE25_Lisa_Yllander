{
 "cells": [
  {
   "cell_type": "markdown",
   "id": "80f83b1b",
   "metadata": {},
   "source": [
    "### 0.Dice rolls (*)"
   ]
  },
  {
   "cell_type": "markdown",
   "id": "01fbeb36",
   "metadata": {},
   "source": [
    "a) sort the list in ascending order (*)"
   ]
  },
  {
   "cell_type": "code",
   "execution_count": null,
   "id": "cfe99f53",
   "metadata": {},
   "outputs": [
    {
     "name": "stdout",
     "output_type": "stream",
     "text": [
      "List: [2, 2, 1, 2, 6, 2, 5, 2, 6, 2]\n",
      "List sorted in ascending order: [1, 2, 2, 2, 2, 2, 2, 5, 6, 6]\n"
     ]
    }
   ],
   "source": [
    "import random as rnd #imports random module and gives it the alias 'rnd'\n",
    "#..to use random number function\n",
    "\n",
    "# with a for-loop\n",
    "dice_list = [] #create an empty list to put results in\n",
    "for i in range(10): #i=1, 1=2 etc up to 10, generates a loop with 10 numbers\n",
    "    dice_list.append(rnd.randint(1, 6)) #generates a random number between 1-6 and add it to the list\n",
    "print(f\"List: {dice_list}\")\n",
    "\n",
    "dice_list.sort() #using the .sort()-function to sort in ascending order (smallest to largest)\n",
    "print(f\"List sorted in ascending order: {dice_list}\")\n",
    "\n",
    "\n",
    "\n"
   ]
  },
  {
   "cell_type": "code",
   "execution_count": 15,
   "id": "306737a8",
   "metadata": {},
   "outputs": [
    {
     "name": "stdout",
     "output_type": "stream",
     "text": [
      "Sorted list comprehension: [1, 1, 1, 1, 2, 3, 4, 5, 5, 6]\n"
     ]
    }
   ],
   "source": [
    "#with list comprehension\n",
    "dice_list_comp = [rnd.randint(1, 6) for i in range(10)]\n",
    "#creates a list that generates a random number between 1-6, loops through 10 times\n",
    "\n",
    "dice_list_comp.sort()\n",
    "print(f\"Sorted list comprehension: {dice_list_comp}\")"
   ]
  },
  {
   "cell_type": "markdown",
   "id": "b05711cc",
   "metadata": {},
   "source": [
    "b) sort the list in descending order (*)"
   ]
  },
  {
   "cell_type": "code",
   "execution_count": 18,
   "id": "10de7b3a",
   "metadata": {},
   "outputs": [
    {
     "name": "stdout",
     "output_type": "stream",
     "text": [
      "List sorted in descending order: [6, 5, 5, 4, 3, 2, 1, 1, 1, 1]\n"
     ]
    }
   ],
   "source": [
    "dice_list_comp.sort(reverse = True) \n",
    "#.sort(reverse = True)sorts the numbers in descending order\n",
    "print(f\"List sorted in descending order: {dice_list_comp}\")"
   ]
  },
  {
   "cell_type": "markdown",
   "id": "18e24da9",
   "metadata": {},
   "source": [
    "c) find the maximum and minimum value in the list (*)"
   ]
  },
  {
   "cell_type": "code",
   "execution_count": null,
   "id": "01fffe4f",
   "metadata": {},
   "outputs": [
    {
     "name": "stdout",
     "output_type": "stream",
     "text": [
      "Maximun value in list: 6 minimum value in list: 1\n"
     ]
    }
   ],
   "source": [
    "dice_list_comp.sort()\n",
    "print(f\"Maximun value in list: {dice_list_comp[-1]} \\\n",
    "minimum value in list: {dice_list_comp[0]}\")\n",
    "# maximum value = [-1] (if you don't know the lenght of list),\n",
    "# minimun value = [0] (fist value)\n",
    "\n"
   ]
  },
  {
   "cell_type": "markdown",
   "id": "a83504f1",
   "metadata": {},
   "source": [
    "d) calculate the mean (average) of the list (*)"
   ]
  },
  {
   "cell_type": "code",
   "execution_count": null,
   "id": "026544b5",
   "metadata": {},
   "outputs": [
    {
     "name": "stdout",
     "output_type": "stream",
     "text": [
      "Dice rolls: [1, 1, 1, 1, 2, 3, 4, 5, 5, 6] \n",
      "The average number in list: 2.9\n"
     ]
    }
   ],
   "source": [
    "# mean = total items in dice_list_comp / length of dice_list_comp\n",
    "mean = sum(dice_list_comp) / len(dice_list_comp)\n",
    "print(f\"Dice rolls: {dice_list_comp} \\nThe average number in list: {mean}\")"
   ]
  },
  {
   "cell_type": "markdown",
   "id": "45e84c26",
   "metadata": {},
   "source": [
    "e) find the median of the list (*)"
   ]
  },
  {
   "cell_type": "code",
   "execution_count": 44,
   "id": "742058d6",
   "metadata": {},
   "outputs": [
    {
     "name": "stdout",
     "output_type": "stream",
     "text": [
      "The median is: 2.5\n"
     ]
    }
   ],
   "source": [
    "median_values = dice_list_comp[4:6] #gives a list with index 5 and 6\n",
    "median = sum(median_values) / 2 \n",
    "#divide index 5 and 6 with 2 to get the median\n",
    "print(f\"The median is: {median}\")"
   ]
  },
  {
   "cell_type": "markdown",
   "id": "f2834bd7",
   "metadata": {},
   "source": [
    "f) extract only the unique values from the list. The output should be a list (*)"
   ]
  },
  {
   "cell_type": "code",
   "execution_count": null,
   "id": "4bc2e267",
   "metadata": {},
   "outputs": [
    {
     "name": "stdout",
     "output_type": "stream",
     "text": [
      "Only unique values: [1, 2, 3, 4, 5, 6]\n"
     ]
    }
   ],
   "source": [
    "unique_values = list(set(dice_list_comp))\n",
    "# create a new variable, make it a list(), and use set() to elemenate duplets\n",
    "# if list isn't sorted you can do:\n",
    "# unique_values = sorted(list(set(dice_list_comp)))\n",
    "print(f\"Only unique values: {unique_values}\")"
   ]
  },
  {
   "cell_type": "markdown",
   "id": "a9b1ed87",
   "metadata": {},
   "source": [
    "### 1.Food menu (*)\n",
    "Create a:"
   ]
  },
  {
   "cell_type": "markdown",
   "id": "19b1ccb1",
   "metadata": {},
   "source": [
    "a) list with the following elements: \"vegetarian lasagna\", \"spaghetti\", \"fish\", \"soup\", \"pancakes\". (*)"
   ]
  },
  {
   "cell_type": "code",
   "execution_count": 63,
   "id": "98951159",
   "metadata": {},
   "outputs": [
    {
     "data": {
      "text/plain": [
       "['vegetarian lasagna', 'spaghetti', 'fish', 'soup', 'panncakes']"
      ]
     },
     "execution_count": 63,
     "metadata": {},
     "output_type": "execute_result"
    }
   ],
   "source": [
    "foods = [\"vegetarian lasagna\", \"spaghetti\", \"fish\", \"soup\", \"panncakes\"]\n",
    "foods"
   ]
  },
  {
   "cell_type": "markdown",
   "id": "a247f6a5",
   "metadata": {},
   "source": [
    "b) list with the weekdays (*)"
   ]
  },
  {
   "cell_type": "code",
   "execution_count": 64,
   "id": "5e906914",
   "metadata": {},
   "outputs": [
    {
     "data": {
      "text/plain": [
       "['monday', 'tuesday', 'wednesday', 'thursday', 'friday']"
      ]
     },
     "execution_count": 64,
     "metadata": {},
     "output_type": "execute_result"
    }
   ],
   "source": [
    "days = [\"monday\", \"tuesday\", \"wednesday\", \"thursday\", \"friday\"]\n",
    "days"
   ]
  },
  {
   "cell_type": "markdown",
   "id": "a669bce6",
   "metadata": {},
   "source": [
    "c) create a food menu with each day corresponding to each food item and print it out like this (*)"
   ]
  },
  {
   "cell_type": "code",
   "execution_count": null,
   "id": "2ab8a63f",
   "metadata": {},
   "outputs": [
    {
     "name": "stdout",
     "output_type": "stream",
     "text": [
      "Day        Food\n",
      "---------------\n",
      "monday     vegetarian lasagna\n",
      "tuesday    spaghetti\n",
      "wednesday  fish\n",
      "thursday   soup\n",
      "friday     panncakes\n"
     ]
    }
   ],
   "source": [
    "print(\"Day        Food\")\n",
    "print(\"---------------\")\n",
    "\n",
    "#loop through both lists at the same time with zip()\n",
    "for day, food in zip(days, foods):\n",
    "    print(f\"{day:<10} {food}\") #:<10 makes the day-column take up 10 chars\n",
    "# for day, food in zip(days, foods)\n",
    "# zip goes through the lists and calls \n",
    "# the first part 'day', and the second 'food'\n",
    "# so that 'monday' is put in day "
   ]
  },
  {
   "cell_type": "markdown",
   "id": "f10b2d6e",
   "metadata": {},
   "source": [
    "### 2. Squares (*)"
   ]
  },
  {
   "cell_type": "markdown",
   "id": "37ad47d1",
   "metadata": {},
   "source": [
    "a) Use list comprehension to create a list of squares from -10 to 10 (*)\n",
    "- squares = x*x (a number multiplices with its self) x**2 = x*x\n",
    "- squares are NEVER negative"
   ]
  },
  {
   "cell_type": "code",
   "execution_count": null,
   "id": "898d54bd",
   "metadata": {},
   "outputs": [
    {
     "name": "stdout",
     "output_type": "stream",
     "text": [
      "[100, 81, 64, 49, 36, 25, 16, 9, 4, 1, 0, 1, 4, 9, 16, 25, 36, 49, 64, 81, 100]\n"
     ]
    }
   ],
   "source": [
    "squares = [x**2 for x in range(-10, 11)]\n",
    "#x**2 = -10*-10=100 and so on\n",
    "print(squares)"
   ]
  },
  {
   "cell_type": "markdown",
   "id": "594ff0a8",
   "metadata": {},
   "source": [
    "b) Plot this list using matplotlib. (*)"
   ]
  },
  {
   "cell_type": "code",
   "execution_count": null,
   "id": "76e10def",
   "metadata": {},
   "outputs": [
    {
     "data": {
      "text/plain": [
       "[<matplotlib.lines.Line2D at 0x261f5391bb0>]"
      ]
     },
     "execution_count": 86,
     "metadata": {},
     "output_type": "execute_result"
    },
    {
     "data": {
      "image/png": "[encoded data removed]",
      "text/plain": [
       "<Figure size 640x480 with 1 Axes>"
      ]
     },
     "metadata": {},
     "output_type": "display_data"
    }
   ],
   "source": [
    "#import matplot\n",
    "import matplotlib.pyplot as plt\n",
    "\n",
    "x = list(range(0, 11)) # x and y must have the same amout of value\n",
    "y = list(range(-10, 1))\n",
    "\n",
    "plt.plot(x, y)# draws a line between every (x, y)-pair\n"
   ]
  },
  {
   "cell_type": "markdown",
   "id": "76987474",
   "metadata": {},
   "source": [
    "- import matplotlib.pyplot as plt  # Importerar biblioteket för att rita grafer\n",
    "\n",
    "- x = list(range(0, 10))           # Skapar x-värden: 0 till 9 (10 värden)\n",
    "- y = list(range(-10, 0))          # Skapar y-värden: -10 till -1 (också 10 värden)\n",
    "\n",
    "- plt.plot(x, y)                   # Ritar en linje mellan varje (x, y)-par\n",
    "- plt.title(\"En enkel linjeplot\") # Titel på grafen\n",
    "- plt.xlabel(\"x-värden\")          # Etikett på x-axeln\n",
    "- plt.ylabel(\"y-värden\")          # Etikett på y-axeln\n",
    "- plt.grid(True)                  # Visar rutnät\n",
    "- plt.show()                      # Visar grafen"
   ]
  },
  {
   "cell_type": "markdown",
   "id": "a52abee4",
   "metadata": {},
   "source": [
    "### 3.Chessboard (**)"
   ]
  },
  {
   "cell_type": "markdown",
   "id": "dfd63652",
   "metadata": {},
   "source": [
    "a) Create this list using list comprehension: (*)\n",
    "\n",
    "['A1', 'B1', 'C1', 'D1', 'E1', 'F1', 'G1', 'H1']"
   ]
  },
  {
   "cell_type": "code",
   "execution_count": null,
   "id": "947be109",
   "metadata": {},
   "outputs": [
    {
     "name": "stdout",
     "output_type": "stream",
     "text": [
      "['A1', 'B1', 'C1', 'D1', 'E1', 'F1', 'G1', 'H1']\n"
     ]
    }
   ],
   "source": [
    "my_list = [letter + str(number) for letter in 'ABCDEFGH' for number in range(1,2)]\n",
    "#letter + str(number) puts letter(A-H) together with number(1)\n",
    "#then it loops through letter in 'A-H' and number 1\n",
    "print(my_list)"
   ]
  },
  {
   "cell_type": "markdown",
   "id": "bd5c4b53",
   "metadata": {},
   "source": [
    "b) Create a 2D list to hold the coordinates in a chessboard like this (**)"
   ]
  },
  {
   "cell_type": "code",
   "execution_count": null,
   "id": "b21a782a",
   "metadata": {},
   "outputs": [],
   "source": [
    "my_list2 = [[f\"{letter}{number}\" for letter in 'ABCDEFGH'] for number in range(1,9)]\n",
    "#f\"{letter}{number}\" creates a string ('A1', 'B1') for each row\n",
    "#for letter in 'AB..' loops through the letters A-H\n",
    "#for nrumber in range(1,9) loops through numbers 1-8\n",
    "#for every number(1-8), creates a list with 8 strings ['a1', B1'..]\n",
    "for row in my_list2:\n",
    "# for 'row' (any variable) in my_list -> 'row' gives a name to every elemant in \n",
    "# the list while it loops through it\n",
    "    print(row)"
   ]
  },
  {
   "cell_type": "markdown",
   "id": "6ed303ef",
   "metadata": {},
   "source": [
    "c) Instead of lists use tuples to hold the coordinates in a chessboard like this (**)"
   ]
  },
  {
   "cell_type": "code",
   "execution_count": null,
   "id": "1e3ada5b",
   "metadata": {},
   "outputs": [],
   "source": [
    "my_tuple = tuple(\n",
    "    tuple((letter, number) for letter in \"ABCDEFGH\") \n",
    "    for number in range(1, 9))\n",
    "#the outer tuple() creates a tuple with 8 rows\n",
    "#the inner tuple() every row is a tuple with 8 coordinates\n",
    "#every coordinate is a tuple (letter, number) --> (\"A\",1)\n",
    "\n",
    "for element in my_tuple:\n",
    "    print(element)"
   ]
  },
  {
   "cell_type": "markdown",
   "id": "b33ba95a",
   "metadata": {},
   "source": [
    "### 4. Dice rolls convergence (**)\n",
    "\n",
    "Simulate:"
   ]
  },
  {
   "cell_type": "markdown",
   "id": "a5e922ef",
   "metadata": {},
   "source": [
    "a) 100 dice rolls and count the number of outcome six. (*)"
   ]
  },
  {
   "cell_type": "code",
   "execution_count": 5,
   "id": "37688a9d",
   "metadata": {},
   "outputs": [
    {
     "name": "stdout",
     "output_type": "stream",
     "text": [
      "Of 100 dice rolls, 18 were sixes\n"
     ]
    }
   ],
   "source": [
    "import random as rnd\n",
    "\n",
    "num_sixes = 0\n",
    "dice_rolls = 100\n",
    "\n",
    "for i in range(dice_rolls):\n",
    "    dice = rnd.randint(1,6)\n",
    "    if dice == 6:\n",
    "        num_sixes += 1\n",
    "print(f\"Of 100 dice rolls, {num_sixes} were sixes\")\n"
   ]
  },
  {
   "cell_type": "markdown",
   "id": "a74b3753",
   "metadata": {},
   "source": [
    "b) 10, 100, 1000, 10000, 100000, 1000000 dice rolls. Count the number of outcome six in each simulation and store it in a list. Compute the probability of outcome six in each simulation. (**)"
   ]
  },
  {
   "cell_type": "code",
   "execution_count": 6,
   "id": "26db5de0",
   "metadata": {},
   "outputs": [
    {
     "name": "stdout",
     "output_type": "stream",
     "text": [
      "| Test | Rolls     | Sixes   | Probability of getting a six |\n",
      "|------|-----------|---------|------------------------------|\n",
      "| 1    | 10        | 2       | 20.00         \n",
      "| 2    | 100       | 14      | 14.00         \n",
      "| 3    | 1000      | 167     | 16.70         \n",
      "| 4    | 10000     | 1687    | 16.87         \n",
      "| 5    | 100000    | 16696   | 16.70         \n",
      "| 6    | 1000000   | 166762  | 16.68         \n"
     ]
    }
   ],
   "source": [
    "\n",
    "test_rolls = [10, 100, 1000, 10000, 100000, 1000000] #list with numbers of dice rolls\n",
    "dice_list = [] #creats a list to store number of sixes\n",
    "\n",
    "probability_list = [] #to store probability values\n",
    "\n",
    "for dice_rolls in test_rolls: #loop through number of dice_rolls\n",
    "    num_sixes = 0 \n",
    "    for i in range(dice_rolls):\n",
    "        dice = rnd.randint(1,6) #generates random numbers between 1-6\n",
    "        if dice == 6: #if there's a six:\n",
    "            num_sixes += 1\n",
    "    dice_list.append(num_sixes) #adding number of sixes to list in different index\n",
    "    probability_list.append((num_sixes / dice_rolls) * 100)\n",
    "\n",
    "print(\"| Test | Rolls     | Sixes   | Probability of getting a six |\")\n",
    "print(\"|------|-----------|---------|------------------------------|\")\n",
    "\n",
    "for i in range(len(test_rolls)):\n",
    "     print(f\"| {i+1:<4} | {test_rolls[i]:<9} | {dice_list[i]:<7} | {probability_list[i]:.2f}         \")"
   ]
  },
  {
   "cell_type": "markdown",
   "id": "e4d7198f",
   "metadata": {},
   "source": [
    "c) Use matplotlib to plot this list. (*)"
   ]
  },
  {
   "cell_type": "code",
   "execution_count": 8,
   "id": "4b6b2159",
   "metadata": {},
   "outputs": [
    {
     "data": {
      "image/png": "[encoded data removed]",
      "text/plain": [
       "<Figure size 640x480 with 1 Axes>"
      ]
     },
     "metadata": {},
     "output_type": "display_data"
    }
   ],
   "source": [
    "import matplotlib.pyplot as plt #imports the library to draw grafs\n",
    "\n",
    "x = test_rolls\n",
    "y = probability_list\n",
    "\n",
    "plt.plot(x,y, marker = 'o', linestyle = '-', color = 'pink') #add marker for every data-dot\n",
    "\n",
    "plt.title(\"probability of rolling a six\")\n",
    "plt.xlabel(\"Number of dices rolled\")\n",
    "plt.ylabel(\"probability (%) of rolling a six\")\n",
    "\n",
    "plt.grid(True) #makes it easier to read values\n",
    "\n",
    "plt.tight_layout() #adjustes the layout so that nothing it cut out\n",
    "\n",
    "plt.show()"
   ]
  },
  {
   "cell_type": "markdown",
   "id": "1c0430a5",
   "metadata": {},
   "source": [
    "### 5. Monte Carlo simulation (***)"
   ]
  },
  {
   "cell_type": "markdown",
   "id": "502b7800",
   "metadata": {},
   "source": [
    "a)"
   ]
  },
  {
   "cell_type": "code",
   "execution_count": null,
   "id": "e5a25967",
   "metadata": {},
   "outputs": [],
   "source": []
  },
  {
   "cell_type": "markdown",
   "id": "08b90d91",
   "metadata": {},
   "source": [
    "## 7. Theory\n",
    "\n",
    "a) What is a sequence in Python? Give examples of sequence types.\n",
    "- a sequence is an order collection of items that can be accessed by their position (index). E.g lists, tuples, range. \n",
    "\n",
    "b) What is the difference between a list and a tuple?\n",
    "- whit tuples you can't change or add items, which you can with lists. \n",
    "\n",
    "c) How does indexing work in Python sequences? What happens if you use a negative index?\n",
    "- every item in a sequence has a position (an index). Indexing start at 0 for the first item. If you use a negative index you're couting from the end. E.g [-1] is the last item in the list.\n",
    "\n",
    "d) How does Python handle out-of-range indices in slicing vs indexing?\n",
    "- if you try to access an index that's out of range with indexing, you'll get a \"index-error\". If you do the same with slicing it won't return an error, it will return as much as it can. \n",
    "\n",
    "e) Which of the following sequence types are mutable: list, tuple, str, range?\n",
    "- lists are mutable, you can change, add or remove items (elements) after creation.\n",
    "\n",
    "f) What is sequence unpacking? Provide an example.\n",
    "- it means that you can take a sequence (e.g [1, 2, 3]) and directly assign every element to an own variable in onw row. E.g list_ = [1, 2, 3] --> a, b, c = list_ --> a=1, b=2, c=3\n",
    "\n",
    "g) What are some common use cases for enumerate() and zip() when working with sequences?\n",
    "- enumerate() lets you loop throgh a sequence and get the index of each item at the samt time. zip() combines multible sequences by pairing elements from two or more sequenses into tuples. Stops at the shortest sequence. \n",
    "\n",
    "h) What is the difference between sorted() and .sort() in lists?\n",
    "- sorted() works on any iterable (like lists, tuples, stinrgs) and doesn't changes the original list, it just returns a new sorted list. sort() only works on lists and modifies the original list directly. "
   ]
  },
  {
   "cell_type": "markdown",
   "id": "92224756",
   "metadata": {},
   "source": [
    "| terminology     | explanation |\n",
    "| --------------- | ----------- |\n",
    "| sequence        |order collection of items that can be accessed by their position (index)    |\n",
    "| list            |an mutible sequence in which you can change, add or remove elements            |\n",
    "| tuple           |an unmutible sequence            |\n",
    "| set             |an unmutible, unsorted collection of UNIQUE elements             |\n",
    "| range           |a sequence of integer             |\n",
    "| indexing        |accessing a element from a sequence using its position             |\n",
    "| slicing         |accissing a part of a sequence             |\n",
    "| comprehension   |a shorter way to create a list or set whit a loop             |\n",
    "| zip             |combines multible sequences into a tuple             |\n",
    "| enumermate      |returns both index and value when you loop through a sequence             |\n",
    "| unpacking       |assigns multible varibles from a sequence in one row             |\n",
    "| membership test |checks if a value is in a sequence whit 'in' e.g 3 in [1, 2, 3] --> True             |\n",
    "|                 |             |"
   ]
  }
 ],
 "metadata": {
  "kernelspec": {
   "display_name": "Python_DE25_Lisa_Yllander",
   "language": "python",
   "name": "python3"
  },
  "language_info": {
   "codemirror_mode": {
    "name": "ipython",
    "version": 3
   },
   "file_extension": ".py",
   "mimetype": "text/x-python",
   "name": "python",
   "nbconvert_exporter": "python",
   "pygments_lexer": "ipython3",
   "version": "3.12.10"
  }
 },
 "nbformat": 4,
 "nbformat_minor": 5
}
