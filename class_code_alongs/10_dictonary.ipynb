{
 "cells": [
  {
   "cell_type": "markdown",
   "id": "694a1c6e",
   "metadata": {},
   "source": [
    "### Dictonary\n",
    "- also a collection data type\n",
    "- the data is stored in key-value pairs"
   ]
  },
  {
   "cell_type": "markdown",
   "id": "e4168f99",
   "metadata": {},
   "source": [
    "#### create a dictionary with dict() class"
   ]
  },
  {
   "cell_type": "code",
   "execution_count": 2,
   "id": "d3cfadc6",
   "metadata": {},
   "outputs": [],
   "source": [
    "#dict() is a class\n",
    "#instantiate a dictionary object called person\n",
    "\n",
    "person = dict(\n",
    "    name = \"Kokchun\",\n",
    "    age = 34.9,\n",
    "    work = \"teacher\"\n",
    ")"
   ]
  },
  {
   "cell_type": "code",
   "execution_count": 7,
   "id": "acd0c0e2",
   "metadata": {},
   "outputs": [
    {
     "name": "stdout",
     "output_type": "stream",
     "text": [
      "Kokchun\n",
      "teacher\n"
     ]
    }
   ],
   "source": [
    "#retrive data from this dictionary\n",
    "#make use of the key for each value\n",
    "\n",
    "print(person['name']) #compare to indexing in a list like list_a[0]\n",
    "\n",
    "print(person['work'])"
   ]
  },
  {
   "cell_type": "markdown",
   "id": "01891078",
   "metadata": {},
   "source": [
    "#### create a dictionary with {}"
   ]
  },
  {
   "cell_type": "code",
   "execution_count": 17,
   "id": "ce64cebc",
   "metadata": {},
   "outputs": [
    {
     "name": "stdout",
     "output_type": "stream",
     "text": [
      "Kokchun\n"
     ]
    }
   ],
   "source": [
    "person = {'name': \"Kokchun\",\n",
    "          'age': 34.9,\n",
    "          'work': \"teacher\",\n",
    "          'intrests': [\"math\", \"python\", \"yoga\"], #the value in one key-valur pair can be another collection data type\n",
    "          'adress': {\"country\": \"Sweden\", \"city\": \"Stockholm\"}\n",
    "         }\n",
    "\n",
    "print(person['name'])"
   ]
  },
  {
   "cell_type": "code",
   "execution_count": 14,
   "id": "9e44ab54",
   "metadata": {},
   "outputs": [
    {
     "name": "stdout",
     "output_type": "stream",
     "text": [
      "['math', 'python', 'yoga']\n"
     ]
    }
   ],
   "source": [
    "print(person[\"intrests\"])"
   ]
  },
  {
   "cell_type": "code",
   "execution_count": 18,
   "id": "8a9d0d91",
   "metadata": {},
   "outputs": [
    {
     "name": "stdout",
     "output_type": "stream",
     "text": [
      "math\n",
      "Sweden\n"
     ]
    }
   ],
   "source": [
    "#only print one intrest\n",
    "print(person[\"intrests\"][0])\n",
    "\n",
    "#only print one info from adress\n",
    "print(person[\"adress\"][\"country\"])"
   ]
  }
 ],
 "metadata": {
  "kernelspec": {
   "display_name": "Python_DE25_Lisa_Yllander",
   "language": "python",
   "name": "python3"
  },
  "language_info": {
   "codemirror_mode": {
    "name": "ipython",
    "version": 3
   },
   "file_extension": ".py",
   "mimetype": "text/x-python",
   "name": "python",
   "nbconvert_exporter": "python",
   "pygments_lexer": "ipython3",
   "version": "3.12.10"
  }
 },
 "nbformat": 4,
 "nbformat_minor": 5
}
