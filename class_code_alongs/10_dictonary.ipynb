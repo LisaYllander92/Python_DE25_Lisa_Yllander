{
 "cells": [
  {
   "cell_type": "markdown",
   "id": "694a1c6e",
   "metadata": {},
   "source": [
    "### Dictonary\n",
    "- also a collection data type\n",
    "- the data is stored in key-value pairs"
   ]
  },
  {
   "cell_type": "markdown",
   "id": "e4168f99",
   "metadata": {},
   "source": [
    "#### create a dictionary with dict() class"
   ]
  },
  {
   "cell_type": "code",
   "execution_count": 2,
   "id": "d3cfadc6",
   "metadata": {},
   "outputs": [],
   "source": [
    "#dict() is a class\n",
    "#instantiate a dictionary object called person\n",
    "\n",
    "person = dict(\n",
    "    name = \"Kokchun\",\n",
    "    age = 34.9,\n",
    "    work = \"teacher\"\n",
    ")"
   ]
  },
  {
   "cell_type": "code",
   "execution_count": 7,
   "id": "acd0c0e2",
   "metadata": {},
   "outputs": [
    {
     "name": "stdout",
     "output_type": "stream",
     "text": [
      "Kokchun\n",
      "teacher\n"
     ]
    }
   ],
   "source": [
    "#retrive data from this dictionary\n",
    "#make use of the key for each value\n",
    "\n",
    "print(person['name']) #compare to indexing in a list like list_a[0]\n",
    "\n",
    "print(person['work'])"
   ]
  },
  {
   "cell_type": "markdown",
   "id": "01891078",
   "metadata": {},
   "source": [
    "#### create a dictionary with {}"
   ]
  },
  {
   "cell_type": "code",
   "execution_count": 17,
   "id": "ce64cebc",
   "metadata": {},
   "outputs": [
    {
     "name": "stdout",
     "output_type": "stream",
     "text": [
      "Kokchun\n"
     ]
    }
   ],
   "source": [
    "person = {'name': \"Kokchun\",\n",
    "          'age': 34.9,\n",
    "          'work': \"teacher\",\n",
    "          'intrests': [\"math\", \"python\", \"yoga\"], #the value in one key-valur pair can be another collection data type\n",
    "          'adress': {\"country\": \"Sweden\", \"city\": \"Stockholm\"}\n",
    "         }\n",
    "\n",
    "print(person['name'])"
   ]
  },
  {
   "cell_type": "code",
   "execution_count": 14,
   "id": "9e44ab54",
   "metadata": {},
   "outputs": [
    {
     "name": "stdout",
     "output_type": "stream",
     "text": [
      "['math', 'python', 'yoga']\n"
     ]
    }
   ],
   "source": [
    "print(person[\"intrests\"])"
   ]
  },
  {
   "cell_type": "code",
   "execution_count": 18,
   "id": "8a9d0d91",
   "metadata": {},
   "outputs": [
    {
     "name": "stdout",
     "output_type": "stream",
     "text": [
      "math\n",
      "Sweden\n"
     ]
    }
   ],
   "source": [
    "#only print one intrest\n",
    "print(person[\"intrests\"][0])\n",
    "\n",
    "#only print one info from adress\n",
    "print(person[\"adress\"][\"country\"])"
   ]
  },
  {
   "cell_type": "markdown",
   "id": "faa703b3",
   "metadata": {},
   "source": [
    "#### iterate over a dictionary"
   ]
  },
  {
   "cell_type": "code",
   "execution_count": 2,
   "id": "a4488eeb",
   "metadata": {},
   "outputs": [],
   "source": [
    "words = {\n",
    "    \"data structure\": \"means of storing data\", \n",
    "    \"regression\": \"a function to best fit the data\",\n",
    "    \"method\": \"a function bound to an object\"\n",
    "}\n"
   ]
  },
  {
   "cell_type": "code",
   "execution_count": 3,
   "id": "c233ba0a",
   "metadata": {},
   "outputs": [
    {
     "name": "stdout",
     "output_type": "stream",
     "text": [
      "Key: data structure\n",
      "Value: means of storing data\n",
      "----------------\n",
      "Key: regression\n",
      "Value: a function to best fit the data\n",
      "----------------\n",
      "Key: method\n",
      "Value: a function bound to an object\n",
      "----------------\n"
     ]
    }
   ],
   "source": [
    "#iterate over both key and values\n",
    "\n",
    "for key, value in words.items():\n",
    "    print(f\"Key: {key}\")\n",
    "    print(f\"Value: {value}\")\n",
    "    print(\"----------------\")\n"
   ]
  },
  {
   "cell_type": "code",
   "execution_count": 24,
   "id": "6fd0ea8a",
   "metadata": {},
   "outputs": [
    {
     "name": "stdout",
     "output_type": "stream",
     "text": [
      "data structure\n",
      "regression\n",
      "method\n"
     ]
    }
   ],
   "source": [
    "#iterate over keys\n",
    "for key in words.keys():\n",
    "    print(key)"
   ]
  },
  {
   "cell_type": "code",
   "execution_count": null,
   "id": "d082b837",
   "metadata": {},
   "outputs": [],
   "source": [
    "#iterate over value\n",
    "for value in words.values():\n",
    "    print(value)"
   ]
  },
  {
   "cell_type": "markdown",
   "id": "e22c8249",
   "metadata": {},
   "source": [
    "#### Dictionary comprehension"
   ]
  },
  {
   "cell_type": "code",
   "execution_count": 28,
   "id": "ef47229a",
   "metadata": {},
   "outputs": [
    {
     "data": {
      "text/plain": [
       "{'F': 0, 'E': 10, 'D': 20, 'C': 30, 'B': 40, 'A': 50}"
      ]
     },
     "execution_count": 28,
     "metadata": {},
     "output_type": "execute_result"
    }
   ],
   "source": [
    "#we want to produce a dictionary for grade_limit\n",
    "\n",
    "#createthis dictionary from scratch\n",
    "grade_limit = {\n",
    "    \"F\": 0,\n",
    "    \"E\": 10,\n",
    "    \"D\": 20,\n",
    "    \"C\": 30,\n",
    "    \"B\": 40,\n",
    "    \"A\": 50\n",
    "}\n",
    "\n",
    "grade_limit"
   ]
  },
  {
   "cell_type": "code",
   "execution_count": null,
   "id": "5e443ad3",
   "metadata": {},
   "outputs": [],
   "source": [
    "#without comprehension\n",
    "#the loop that will be used inside dictionary comprehension:\n",
    "for i, grade in enumerate(\"FEDCBA\"):\n",
    "    print(i)\n",
    "    print(grade)"
   ]
  },
  {
   "cell_type": "code",
   "execution_count": 32,
   "id": "7e235fdc",
   "metadata": {},
   "outputs": [
    {
     "data": {
      "text/plain": [
       "{'F': 0, 'E': 10, 'D': 20, 'C': 30, 'B': 40, 'A': 50}"
      ]
     },
     "execution_count": 32,
     "metadata": {},
     "output_type": "execute_result"
    }
   ],
   "source": [
    "#make use of dicrionary comprhension\n",
    "#create the same dictionary but with dictionary comprehension\n",
    "\n",
    "grade_limit ={grade: i*10 for i, grade in enumerate(\"FEDCBA\")}\n",
    "grade_limit"
   ]
  }
 ],
 "metadata": {
  "kernelspec": {
   "display_name": "Python_DE25_Lisa_Yllander",
   "language": "python",
   "name": "python3"
  },
  "language_info": {
   "codemirror_mode": {
    "name": "ipython",
    "version": 3
   },
   "file_extension": ".py",
   "mimetype": "text/x-python",
   "name": "python",
   "nbconvert_exporter": "python",
   "pygments_lexer": "ipython3",
   "version": "3.12.10"
  }
 },
 "nbformat": 4,
 "nbformat_minor": 5
}
