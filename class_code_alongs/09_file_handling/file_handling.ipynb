{
 "cells": [
  {
   "cell_type": "markdown",
   "id": "bd64add7",
   "metadata": {},
   "source": [
    " \n",
    "\n",
    "### File handling \n",
    "\n",
    "Reading text files (.txt) \n",
    "\n",
    "Read the file \n",
    "\n",
    "Clean contents \n",
    "\n",
    "Write the clean contents to a new text file \n",
    "\n",
    "We focus now on text/string contents "
   ]
  },
  {
   "cell_type": "markdown",
   "id": "59c82daa",
   "metadata": {},
   "source": [
    "#### Read file"
   ]
  },
  {
   "cell_type": "markdown",
   "id": "ef78c8e2",
   "metadata": {},
   "source": [
    "##### open the file directly"
   ]
  },
  {
   "cell_type": "code",
   "execution_count": null,
   "id": "05d0db76",
   "metadata": {},
   "outputs": [
    {
     "name": "stdout",
     "output_type": "stream",
     "text": [
      "<_io.TextIOWrapper name='test.txt' mode='r' encoding='cp1252'>\n",
      "bla bla\n",
      "fla fla\n",
      "blÃ¤ blÃ¤\n",
      "\n"
     ]
    }
   ],
   "source": [
    "f = open(\"test.txt\", \"r\") # the first argument is a path!\n",
    "#'f' just a variable\n",
    "# open(nameoffile)\n",
    "#second argument 'r' = reading mode\n",
    "\n",
    "print(f)\n",
    "\n",
    "#save the contents of the file in a variable\n",
    "text = f.read()\n",
    "#read() method\n",
    "print(text)\n",
    "\n",
    "#if you use open() you have to close the file\n",
    "f.close()\n"
   ]
  },
  {
   "cell_type": "markdown",
   "id": "aef31e21",
   "metadata": {},
   "source": [
    "#### open the file with `with` statement"
   ]
  },
  {
   "cell_type": "code",
   "execution_count": null,
   "id": "a53670eb",
   "metadata": {},
   "outputs": [],
   "source": [
    "#with-statement will closes the file automatacally in the end\n",
    "with open(\"test.txt\", \"r\") as f:\n",
    "    text = f.read()\n",
    "\n",
    "\n",
    "print(text)"
   ]
  },
  {
   "cell_type": "markdown",
   "id": "267abd86",
   "metadata": {},
   "source": [
    "### Clean the quest file"
   ]
  },
  {
   "cell_type": "code",
   "execution_count": 3,
   "id": "318c21a8",
   "metadata": {},
   "outputs": [],
   "source": [
    "import re #to clean sting contents, used to clean when there's a pattern"
   ]
  },
  {
   "cell_type": "code",
   "execution_count": 4,
   "id": "083f0056",
   "metadata": {},
   "outputs": [],
   "source": [
    "#create an empty list for saving quotes\n",
    "quotes = []\n",
    "\n",
    "#initiate a quote number\n",
    "i = 1\n"
   ]
  },
  {
   "cell_type": "code",
   "execution_count": 5,
   "id": "e282e940",
   "metadata": {},
   "outputs": [
    {
     "name": "stdout",
     "output_type": "stream",
     "text": [
      "<_io.TextIOWrapper name='quotes.txt' mode='r' encoding='cp1252'>\n",
      "  If     we     knew what it was      we were doing, it would not be called research,          would it?     - Albert Einstein\n",
      "\n",
      "Time is a drug. Too       much of it kills you.  -  Terry Pratchett\n",
      "\n",
      "\n",
      " An expert is a person who       has made all the mistakes that           can be made in a          very narrow field - Niels Bohr\n",
      "\n",
      "   Everything must be made as simple as possible. But not simpler. - Albert Einstein     \n",
      "\n",
      "\n",
      "  Nothing in life                is to be feared, it is only to be understood. Now is the time to understand more, so that we may fear less. - Marie  Curie  \n",
      "\n",
      "If I have seen further     it is by standing on the shoulders of Giants. - Isaac Newton\n"
     ]
    }
   ],
   "source": [
    "#open the file\n",
    "#comparing the use of absolute and relative paths\n",
    "\n",
    "#alternative:\n",
    "##raw_file_path = \"quotes.txt\" \n",
    "## with open(raw_file_path, 'r')\n",
    "\n",
    "#prints out all the content at ones:\n",
    "\n",
    "with open(\"quotes.txt\", 'r') as f_read:\n",
    "    quotes = f_read.read()\n",
    "    \n",
    "print(f_read) # what you can see from just opening the file (information)\n",
    "print(quotes) # what you can see from applying the read() method on the same file"
   ]
  },
  {
   "cell_type": "code",
   "execution_count": 6,
   "id": "4b87bd51",
   "metadata": {},
   "outputs": [
    {
     "name": "stdout",
     "output_type": "stream",
     "text": [
      "If we knew what it was we were doing, it would not be called research, would it? - Albert Einstein\n",
      "\n",
      "Time is a drug. Too much of it kills you. - Terry Pratchett\n",
      "\n",
      "\n",
      "An expert is a person who has made all the mistakes that can be made in a very narrow field - Niels Bohr\n",
      "\n",
      "Everything must be made as simple as possible. But not simpler. - Albert Einstein\n",
      "\n",
      "\n",
      "Nothing in life is to be feared, it is only to be understood. Now is the time to understand more, so that we may fear less. - Marie Curie\n",
      "\n",
      "If I have seen further it is by standing on the shoulders of Giants. - Isaac Newton\n"
     ]
    }
   ],
   "source": [
    "#loop through lines in the file contents\n",
    "\n",
    "with open(\"quotes.txt\", 'r') as f_read:\n",
    "    for quote in f_read:\n",
    "        #data cleaning\n",
    "\n",
    "        #removes spaces bofore the sentence strip(\" \") only strips the left\n",
    "        quote = quote.strip(\" \\n\") #replace the qoute with a modified quote\n",
    "        #with \\n it removes newlines as well \n",
    "        \n",
    "        #use re function and sub (substitute) \n",
    "        quote = re.sub(\" +\",\" \", quote) #replace multible space with one space\n",
    "\n",
    "        #print each line to see what it looks like\n",
    "        print(quote)\n",
    "\n",
    "\n",
    "\n",
    "\n"
   ]
  },
  {
   "cell_type": "code",
   "execution_count": 7,
   "id": "38791963",
   "metadata": {},
   "outputs": [
    {
     "name": "stdout",
     "output_type": "stream",
     "text": [
      "If we knew what it was we were doing, it would not be called research, would it? - Albert Einstein\n",
      "\n",
      "Time is a drug. Too much of it kills you. - Terry Pratchett\n",
      "\n",
      "\n",
      "An expert is a person who has made all the mistakes that can be made in a very narrow field - Niels Bohr\n",
      "\n",
      "Everything must be made as simple as possible. But not simpler. - Albert Einstein\n",
      "\n",
      "\n",
      "Nothing in life is to be feared, it is only to be understood. Now is the time to understand more, so that we may fear less. - Marie Curie\n",
      "\n",
      "If I have seen further it is by standing on the shoulders of Giants. - Isaac Newton\n"
     ]
    }
   ],
   "source": [
    "#open two files, one in reading mode and one in writing mode\n",
    "\n",
    "#raw_file_path = \"quotes.txt\" \n",
    "with open(\"quotes.txt\", 'r') as f_read, open(\"quotes_cleaned.txt\", 'w') as f_write:\n",
    "\n",
    "    for quote in f_read:\n",
    "        #data cleaning\n",
    "\n",
    "        #removes spaces bofore the sentence strip(\" \") only strips the left\n",
    "        quote = quote.strip(\" \\n\") \n",
    "        \n",
    "        #use re function and sub (substitute) \n",
    "        quote = re.sub(\" +\",\" \", quote) #replace multible space with one space\n",
    "\n",
    "        #print each line to see what it looks like\n",
    "        print(quote)\n",
    "\n",
    "        if quote != \"\":\n",
    "            f_write.write(f\"{i}. {quote}\\n\")\n",
    "            i += 1\n"
   ]
  }
 ],
 "metadata": {
  "kernelspec": {
   "display_name": "Python_DE25_Lisa_Yllander",
   "language": "python",
   "name": "python3"
  },
  "language_info": {
   "codemirror_mode": {
    "name": "ipython",
    "version": 3
   },
   "file_extension": ".py",
   "mimetype": "text/x-python",
   "name": "python",
   "nbconvert_exporter": "python",
   "pygments_lexer": "ipython3",
   "version": "3.12.10"
  }
 },
 "nbformat": 4,
 "nbformat_minor": 5
}
