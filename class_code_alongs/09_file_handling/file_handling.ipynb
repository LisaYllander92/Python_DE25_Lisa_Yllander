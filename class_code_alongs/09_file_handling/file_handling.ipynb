{
 "cells": [
  {
   "cell_type": "markdown",
   "id": "bd64add7",
   "metadata": {},
   "source": [
    " \n",
    "\n",
    "### File handling \n",
    "\n",
    "Reading text files (.txt) \n",
    "\n",
    "Read the file \n",
    "\n",
    "Clean contents \n",
    "\n",
    "Write the clean contents to a new text file \n",
    "\n",
    "We focus now on text/string contents "
   ]
  },
  {
   "cell_type": "markdown",
   "id": "59c82daa",
   "metadata": {},
   "source": [
    "#### Read file"
   ]
  },
  {
   "cell_type": "markdown",
   "id": "ef78c8e2",
   "metadata": {},
   "source": [
    "##### open the file directly"
   ]
  },
  {
   "cell_type": "code",
   "execution_count": null,
   "id": "05d0db76",
   "metadata": {},
   "outputs": [
    {
     "name": "stdout",
     "output_type": "stream",
     "text": [
      "<_io.TextIOWrapper name='test.txt' mode='r' encoding='cp1252'>\n",
      "bla bla\n",
      "fla fla\n",
      "blÃ¤ blÃ¤\n",
      "\n"
     ]
    }
   ],
   "source": [
    "f = open(\"test.txt\", \"r\") # the first argument is a path!\n",
    "#'f' just a variable\n",
    "# open(nameoffile)\n",
    "#second argument 'r' = reading mode\n",
    "\n",
    "print(f)\n",
    "\n",
    "#save the contents of the file in a variable\n",
    "text = f.read()\n",
    "#read() method\n",
    "print(text)\n",
    "\n",
    "#if you use open() you have to close the file\n",
    "f.close()\n"
   ]
  },
  {
   "cell_type": "markdown",
   "id": "aef31e21",
   "metadata": {},
   "source": [
    "#### open the file with `with` statement"
   ]
  },
  {
   "cell_type": "code",
   "execution_count": null,
   "id": "a53670eb",
   "metadata": {},
   "outputs": [
    {
     "name": "stdout",
     "output_type": "stream",
     "text": [
      "bla bla\n",
      "fla fla\n",
      "blÃ¤ blÃ¤\n",
      "\n"
     ]
    }
   ],
   "source": [
    "#with-statement will closes the file automatacally in the end\n",
    "with open(\"test.txt\", \"r\") as f:\n",
    "    text = f.read()\n",
    "\n",
    "\n",
    "print(text)"
   ]
  }
 ],
 "metadata": {
  "kernelspec": {
   "display_name": "Python_DE25_Lisa_Yllander",
   "language": "python",
   "name": "python3"
  },
  "language_info": {
   "codemirror_mode": {
    "name": "ipython",
    "version": 3
   },
   "file_extension": ".py",
   "mimetype": "text/x-python",
   "name": "python",
   "nbconvert_exporter": "python",
   "pygments_lexer": "ipython3",
   "version": "3.12.10"
  }
 },
 "nbformat": 4,
 "nbformat_minor": 5
}
