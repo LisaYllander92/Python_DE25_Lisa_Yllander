{
 "cells": [
  {
   "cell_type": "markdown",
   "id": "4fc39cd7",
   "metadata": {},
   "source": [
    "# Lecture 4 - input, output & variables"
   ]
  },
  {
   "cell_type": "markdown",
   "id": "c61309a5",
   "metadata": {},
   "source": [
    "## Print statements"
   ]
  },
  {
   "cell_type": "markdown",
   "id": "1585e6ae",
   "metadata": {},
   "source": [
    "### To print out string"
   ]
  },
  {
   "cell_type": "code",
   "execution_count": null,
   "id": "e1fe637d",
   "metadata": {},
   "outputs": [],
   "source": [
    "#Use the ... or Alt + delete to clear cell output\n",
    "#Use the print statement to prnit out string\n",
    "print(\"Hello world\")"
   ]
  },
  {
   "cell_type": "markdown",
   "id": "3a2c77f5",
   "metadata": {},
   "source": [
    "### To print out string and variables"
   ]
  },
  {
   "cell_type": "code",
   "execution_count": null,
   "id": "82364e6d",
   "metadata": {},
   "outputs": [
    {
     "name": "stdout",
     "output_type": "stream",
     "text": [
      "Hello Lisa\n"
     ]
    }
   ],
   "source": [
    "#create a name variable\n",
    "name = \"Lisa\"\n",
    "print(f\"Hello {name}\") #Remember to use \"f\" for a formated string when using variabel"
   ]
  }
 ],
 "metadata": {
  "kernelspec": {
   "display_name": "Python_DE25_Lisa_Yllander",
   "language": "python",
   "name": "python3"
  },
  "language_info": {
   "codemirror_mode": {
    "name": "ipython",
    "version": 3
   },
   "file_extension": ".py",
   "mimetype": "text/x-python",
   "name": "python",
   "nbconvert_exporter": "python",
   "pygments_lexer": "ipython3",
   "version": "3.12.10"
  }
 },
 "nbformat": 4,
 "nbformat_minor": 5
}
