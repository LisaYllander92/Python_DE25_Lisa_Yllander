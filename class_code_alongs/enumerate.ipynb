{
 "cells": [
  {
   "cell_type": "code",
   "execution_count": 13,
   "id": "3dddbd54",
   "metadata": {},
   "outputs": [
    {
     "name": "stdout",
     "output_type": "stream",
     "text": [
      "My favorite fruits are:\n",
      " 1. apple\n",
      " 2. grape\n",
      " 3. mango\n"
     ]
    }
   ],
   "source": [
    "fruit_list = [\"apple\", \"grape\", \"mango\"]\n",
    "i = 0\n",
    "print(\"My favorite fruits are:\")\n",
    "for fruit in fruit_list:\n",
    "        i += 1\n",
    "        print(f\" {i}. {fruit}\")\n",
    "\n"
   ]
  }
 ],
 "metadata": {
  "kernelspec": {
   "display_name": "Python_DE25_Lisa_Yllander",
   "language": "python",
   "name": "python3"
  },
  "language_info": {
   "codemirror_mode": {
    "name": "ipython",
    "version": 3
   },
   "file_extension": ".py",
   "mimetype": "text/x-python",
   "name": "python",
   "nbconvert_exporter": "python",
   "pygments_lexer": "ipython3",
   "version": "3.12.10"
  }
 },
 "nbformat": 4,
 "nbformat_minor": 5
}
