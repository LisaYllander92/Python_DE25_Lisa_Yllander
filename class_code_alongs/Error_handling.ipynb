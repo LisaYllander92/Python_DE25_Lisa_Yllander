{
 "cells": [
  {
   "cell_type": "markdown",
   "id": "3c2f0f22",
   "metadata": {},
   "source": [
    "### Error handling\n",
    "- add error handling for blocks of codes that can encounter errors\n",
    "- because we don't want to crash the program\n",
    "- make use of `try ecept` block"
   ]
  },
  {
   "cell_type": "code",
   "execution_count": null,
   "id": "c4e38530",
   "metadata": {},
   "outputs": [
    {
     "name": "stdout",
     "output_type": "stream",
     "text": [
      "There is an error in the try block\n"
     ]
    }
   ],
   "source": [
    "#without error handling this code will crash\n",
    "#add try except to the code\n",
    "try:\n",
    "#under the try block, put the potentally problamatic block of code\n",
    "    print(x)\n",
    "except: \n",
    "    #when the try block encounter errors, run the except block insted of crashing\n",
    "    print(\"There is an error in the try block\")"
   ]
  },
  {
   "cell_type": "code",
   "execution_count": 4,
   "id": "f48fdf5f",
   "metadata": {},
   "outputs": [
    {
     "name": "stdout",
     "output_type": "stream",
     "text": [
      "Variable x is not difined yet\n",
      "this is the final block of code\n"
     ]
    }
   ],
   "source": [
    "# make use of mulitbly except block\n",
    "try:\n",
    "    print(x)\n",
    "except NameError: \n",
    "    print(\"Variable x is not difined yet\")\n",
    "\n",
    "except:\n",
    "    print(\"Some other error happend\") \n",
    "\n",
    "finally:\n",
    "    print(\"this is the final block of code\")"
   ]
  },
  {
   "cell_type": "code",
   "execution_count": null,
   "id": "72994497",
   "metadata": {},
   "outputs": [
    {
     "name": "stdout",
     "output_type": "stream",
     "text": [
      "name 'x' is not defined\n"
     ]
    }
   ],
   "source": [
    "# an example that's not a NameError\n",
    "try:\n",
    "    print(x)\n",
    "except NameError as err: ##'err' is a buit-in error-message in python\n",
    "    print(err)\n",
    "except ZeroDivisionError:\n",
    "    print(\"You can not divide by zero\")"
   ]
  }
 ],
 "metadata": {
  "kernelspec": {
   "display_name": "Python_DE25_Lisa_Yllander",
   "language": "python",
   "name": "python3"
  },
  "language_info": {
   "codemirror_mode": {
    "name": "ipython",
    "version": 3
   },
   "file_extension": ".py",
   "mimetype": "text/x-python",
   "name": "python",
   "nbconvert_exporter": "python",
   "pygments_lexer": "ipython3",
   "version": "3.12.10"
  }
 },
 "nbformat": 4,
 "nbformat_minor": 5
}
