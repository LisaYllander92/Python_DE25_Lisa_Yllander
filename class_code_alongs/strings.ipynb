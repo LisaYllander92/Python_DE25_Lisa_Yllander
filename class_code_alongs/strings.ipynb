{
 "cells": [
  {
   "cell_type": "markdown",
   "id": "17860c4b",
   "metadata": {},
   "source": [
    "### more about strings"
   ]
  },
  {
   "cell_type": "markdown",
   "id": "dca46451",
   "metadata": {},
   "source": [
    "#### concaranate with + operator\n",
    "multiple strinngs with + operator"
   ]
  },
  {
   "cell_type": "code",
   "execution_count": 5,
   "id": "478c11d8",
   "metadata": {},
   "outputs": [
    {
     "name": "stdout",
     "output_type": "stream",
     "text": [
      "Lisa Yllander\n",
      "LisaYllander\n"
     ]
    }
   ],
   "source": [
    "name = \"Lisa\"\n",
    "last_name = \"Yllander\"\n",
    "fullname = name + last_name\n",
    "fullname_with_space = name + \" \" + last_name\n",
    "print(fullname_with_space)\n",
    "print(fullname)"
   ]
  },
  {
   "cell_type": "markdown",
   "id": "511e2c09",
   "metadata": {},
   "source": [
    "#### f-string"
   ]
  },
  {
   "cell_type": "code",
   "execution_count": null,
   "id": "fbba5c84",
   "metadata": {},
   "outputs": [],
   "source": [
    "work = \"Anginner AB\"\n",
    "adress = \"Supah cool streetooo\"\n",
    "\n",
    "#f-string with one line\n",
    "print(f\"{fullname_with_space} is woring in a company called {work}. \\nAnd the adress is {adress}\")\n",
    "\n",
    "#f-string with multiline\n",
    "print(f\"\"\"{fullname_with_space} is woring in a company called {work}.\n",
    "And the adress is {adress}\"\"\")"
   ]
  },
  {
   "cell_type": "code",
   "execution_count": null,
   "id": "c641618c",
   "metadata": {},
   "outputs": [
    {
     "name": "stdout",
     "output_type": "stream",
     "text": [
      "Today's fruits: \n",
      "apple, orange and strawberry\n",
      "apple\n",
      "orange\n",
      "strawberry\n"
     ]
    }
   ],
   "source": [
    "fruits_today = \"\\napple, \" + \"orange and \" + \"strawberry\"\n",
    "\n",
    "print(f\"Today's fruits: {fruits_today}\")\n",
    "\n",
    "#concatenate with loop\n",
    "fruits_today_list = [\"apple\", \"orange\", \"strawberry\"]\n",
    "for fruit in fruits_today_list:\n",
    "    print(fruit)"
   ]
  },
  {
   "cell_type": "markdown",
   "id": "dc48a14a",
   "metadata": {},
   "source": [
    "#### indexing\n",
    "- an operation to access \"an item\" "
   ]
  },
  {
   "cell_type": "code",
   "execution_count": null,
   "id": "1a8aabf9",
   "metadata": {},
   "outputs": [],
   "source": [
    "print(f\"The first item/element in the string is: {fullname[0]}\")\n",
    "print(f\"The last item is: {fullname[-1]}\")\n"
   ]
  },
  {
   "cell_type": "markdown",
   "id": "fa6e8c46",
   "metadata": {},
   "source": [
    "#### slicing"
   ]
  },
  {
   "cell_type": "code",
   "execution_count": null,
   "id": "dd7e819d",
   "metadata": {},
   "outputs": [],
   "source": [
    "#slicing from the left\n",
    "print(f\"The first three letters is: {fullname[:3]}\")\n",
    "\n",
    "#slicing reversly\n",
    "print(f\"The last five letters reversed are: {fullname[-1:-6:-1]}\")"
   ]
  },
  {
   "cell_type": "markdown",
   "id": "0bd9fbdc",
   "metadata": {},
   "source": [
    "#### splitting a string"
   ]
  },
  {
   "cell_type": "code",
   "execution_count": null,
   "id": "d6c49501",
   "metadata": {},
   "outputs": [
    {
     "name": "stdout",
     "output_type": "stream",
     "text": [
      "Math\n",
      "biology \n",
      "cHemMistry  \n",
      "PrOgramming.  \n"
     ]
    }
   ],
   "source": [
    "subjects = \"Math, biology , cHemMistry  , PrOgramming.  \"\n",
    "\n",
    "subjects = subjects.split(\",\")\n",
    "\n",
    "#strip off leading and trailing space\n",
    "#check out also rstripe() and lstripe()\n",
    "for subject in subjects:\n",
    "    print(subject.strip())\n"
   ]
  },
  {
   "cell_type": "code",
   "execution_count": null,
   "id": "94152687",
   "metadata": {},
   "outputs": [],
   "source": [
    "#making upper case letter\n",
    "for subject in subjects:\n",
    "    print(subject.strip().upper())"
   ]
  },
  {
   "cell_type": "markdown",
   "id": "422ab90a",
   "metadata": {},
   "source": [
    "#### function and method\n",
    "functions before:\n",
    "\n",
    "`len()-function`\n",
    "syntax: len(string_variable)\n",
    "\n",
    "methods after:\n",
    "\n",
    "`upper()-method`\n",
    "string_variable.upper()\n",
    "\n",
    "use ` in markdown for syntax\n",
    "\n",
    "\n",
    "\n"
   ]
  },
  {
   "cell_type": "markdown",
   "id": "c79891ce",
   "metadata": {},
   "source": [
    "#### Regular expression\n",
    "- look for pattern\n",
    "- make use of different functions in `re` package\n",
    "- syntax of using functions from an imported package\n",
    "  - `re`.`findall()`\n",
    "  - `imported_package.function`\n",
    "  - check out w3schools re tutorial\n"
   ]
  },
  {
   "cell_type": "markdown",
   "id": "92b23abd",
   "metadata": {},
   "source": []
  },
  {
   "cell_type": "code",
   "execution_count": null,
   "id": "f583aa87",
   "metadata": {},
   "outputs": [
    {
     "data": {
      "text/plain": [
       "['katt', 'hatt']"
      ]
     },
     "execution_count": 9,
     "metadata": {},
     "output_type": "execute_result"
    }
   ],
   "source": [
    "#import reular expression package\n",
    "import re \n",
    "#already installed in python packages\n",
    "\n",
    "text = \"det var en gång en katt som tog på sig en hatt\"\n",
    "\n",
    "list_letter_att = re.findall(\".att\", text)\n",
    "#the first argument is the pattern (what i want to find),\n",
    "#the second part is where i want to find the pattern.\n",
    "#use '.' to get the hole word\n",
    "\n",
    "list_letter_att\n",
    "\n",
    "\n"
   ]
  },
  {
   "cell_type": "code",
   "execution_count": 19,
   "id": "71283d20",
   "metadata": {},
   "outputs": [
    {
     "data": {
      "text/plain": [
       "['19950516-2235']"
      ]
     },
     "execution_count": 19,
     "metadata": {},
     "output_type": "execute_result"
    }
   ],
   "source": [
    "personal_number = \"Ida: 19950516-2235, Berit: 890806-3212\"\n",
    "\n",
    "personal_number_eight = re.findall(r\"\\d{8}-\\d{4}\",personal_number)\n",
    "# \\d = diginumbers\n",
    "# r for raw string\n",
    "personal_number_eight"
   ]
  }
 ],
 "metadata": {
  "kernelspec": {
   "display_name": "Python_DE25_Lisa_Yllander",
   "language": "python",
   "name": "python3"
  },
  "language_info": {
   "codemirror_mode": {
    "name": "ipython",
    "version": 3
   },
   "file_extension": ".py",
   "mimetype": "text/x-python",
   "name": "python",
   "nbconvert_exporter": "python",
   "pygments_lexer": "ipython3",
   "version": "3.12.10"
  }
 },
 "nbformat": 4,
 "nbformat_minor": 5
}
